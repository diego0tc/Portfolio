{
 "cells": [
  {
   "cell_type": "code",
   "execution_count": 1,
   "metadata": {
    "collapsed": true
   },
   "outputs": [],
   "source": [
    "import pandas as pd\n",
    "import numpy as np\n",
    "import cvxopt\n",
    "from sklearn.datasets._samples_generator import make_blobs\n",
    "from sklearn.model_selection import train_test_split\n",
    "from matplotlib import pyplot as plt\n",
    "%matplotlib inline\n",
    "from sklearn.svm import LinearSVC\n",
    "from sklearn.metrics import confusion_matrix"
   ]
  },
  {
   "cell_type": "code",
   "execution_count": 2,
   "outputs": [],
   "source": [
    "# Code to Measure time taken by program to execute.\n",
    "import time\n",
    "\n",
    "# store starting time\n",
    "begin = time.time()"
   ],
   "metadata": {
    "collapsed": false,
    "pycharm": {
     "name": "#%%\n"
    }
   }
  },
  {
   "cell_type": "code",
   "execution_count": 3,
   "outputs": [
    {
     "data": {
      "text/plain": "        Unnamed: 0 Animal_ID     Name      DateTime_Intake  \\\n0                0   a786884   *brock  2019-01-03 04:19:00   \n1                1   a706918    belle  2015-07-05 12:59:00   \n2                2   a724273  runster  2016-04-14 06:43:00   \n3                3   a665644  unknown  2013-10-21 07:59:00   \n4                4   a682524      rio  2014-06-29 10:38:00   \n...            ...       ...      ...                  ...   \n109116      110490   a830164  unknown  2021-03-03 02:17:00   \n109117      110491   a829701  pee wee  2021-02-21 02:56:00   \n109118      110492   a765174   carson  2018-01-14 11:31:00   \n109119      110493   a829868     remy  2021-02-25 11:40:00   \n109120      110494   a828158     odin  2021-01-08 07:01:00   \n\n                              Found_Location      Intake_type  \\\n0        2501 magin meadow dr in austin (tx)            stray   \n1           9409 bluegrass dr in austin (tx)            stray   \n2         2818 palomino trail in austin (tx)            stray   \n3                                austin (tx)            stray   \n4              800 grove blvd in austin (tx)            stray   \n...                                      ...              ...   \n109116                           travis (tx)  owner surrender   \n109117  16201 biltmore avenue in travis (tx)            stray   \n109118                           austin (tx)  owner surrender   \n109119                 valdez in austin (tx)            stray   \n109120        2224 e stassney in austin (tx)            stray   \n\n       Intake_Condition Animal_Type  Age_upon_Intake Mix_Breed  ...      Sex  \\\n0                normal         dog         2.000000       yes  ...     male   \n1                normal         dog         8.000000        no  ...   female   \n2                normal         dog         0.916667       yes  ...     male   \n3                  sick         cat         0.076660       yes  ...   female   \n4                normal         dog         4.000000        no  ...     male   \n...                 ...         ...              ...       ...  ...      ...   \n109116           normal         dog         0.083333       yes  ...  unknown   \n109117           normal         dog         3.000000        no  ...     male   \n109118           normal         dog         0.083333       yes  ...     male   \n109119           normal         dog         1.000000        no  ...     male   \n109120           normal         dog         0.833333       yes  ...     male   \n\n       neuter/spay adopted/non-adopted Days_in_shelter Breed_size  \\\n0              yes         non-adopted             4.0      small   \n1              yes             adopted             0.0     medium   \n2              yes             adopted             6.0      small   \n3               no         non-adopted             0.0    Unknown   \n4              yes             adopted             2.0      large   \n...            ...                 ...             ...        ...   \n109116     unknown         non-adopted             0.0      small   \n109117          no             adopted             0.0     xsmall   \n109118         yes             adopted             0.0     xsmall   \n109119         yes             adopted             5.0      small   \n109120         yes             adopted            53.0      large   \n\n       Trainability Breed_characteristic Barking_level  activity_level  \\\n0         agreeable           family_dog      frequent     medium_high   \n1           pleaser           Not_define        medium      medium_low   \n2       independent   apartment_friendly          rare     medium_high   \n3           Unknown           Not_define       Unknown      not_define   \n4           pleaser            guard_dog        medium            high   \n...             ...                  ...           ...             ...   \n109116    agreeable           family_dog          rare      medium_low   \n109117  independent   apartment_friendly   very_common      medium_low   \n109118  independent   apartment_friendly   very_common      medium_low   \n109119    agreeable           family_dog      frequent     medium_high   \n109120    agreeable            guard_dog          rare      medium_low   \n\n           breed_group  \n0          hound_group  \n1       sporting_group  \n2          hound_group  \n3           not_define  \n4        working_group  \n...                ...  \n109116       toy_group  \n109117       toy_group  \n109118       toy_group  \n109119     hound_group  \n109120   working_group  \n\n[109121 rows x 30 columns]",
      "text/html": "<div>\n<style scoped>\n    .dataframe tbody tr th:only-of-type {\n        vertical-align: middle;\n    }\n\n    .dataframe tbody tr th {\n        vertical-align: top;\n    }\n\n    .dataframe thead th {\n        text-align: right;\n    }\n</style>\n<table border=\"1\" class=\"dataframe\">\n  <thead>\n    <tr style=\"text-align: right;\">\n      <th></th>\n      <th>Unnamed: 0</th>\n      <th>Animal_ID</th>\n      <th>Name</th>\n      <th>DateTime_Intake</th>\n      <th>Found_Location</th>\n      <th>Intake_type</th>\n      <th>Intake_Condition</th>\n      <th>Animal_Type</th>\n      <th>Age_upon_Intake</th>\n      <th>Mix_Breed</th>\n      <th>...</th>\n      <th>Sex</th>\n      <th>neuter/spay</th>\n      <th>adopted/non-adopted</th>\n      <th>Days_in_shelter</th>\n      <th>Breed_size</th>\n      <th>Trainability</th>\n      <th>Breed_characteristic</th>\n      <th>Barking_level</th>\n      <th>activity_level</th>\n      <th>breed_group</th>\n    </tr>\n  </thead>\n  <tbody>\n    <tr>\n      <th>0</th>\n      <td>0</td>\n      <td>a786884</td>\n      <td>*brock</td>\n      <td>2019-01-03 04:19:00</td>\n      <td>2501 magin meadow dr in austin (tx)</td>\n      <td>stray</td>\n      <td>normal</td>\n      <td>dog</td>\n      <td>2.000000</td>\n      <td>yes</td>\n      <td>...</td>\n      <td>male</td>\n      <td>yes</td>\n      <td>non-adopted</td>\n      <td>4.0</td>\n      <td>small</td>\n      <td>agreeable</td>\n      <td>family_dog</td>\n      <td>frequent</td>\n      <td>medium_high</td>\n      <td>hound_group</td>\n    </tr>\n    <tr>\n      <th>1</th>\n      <td>1</td>\n      <td>a706918</td>\n      <td>belle</td>\n      <td>2015-07-05 12:59:00</td>\n      <td>9409 bluegrass dr in austin (tx)</td>\n      <td>stray</td>\n      <td>normal</td>\n      <td>dog</td>\n      <td>8.000000</td>\n      <td>no</td>\n      <td>...</td>\n      <td>female</td>\n      <td>yes</td>\n      <td>adopted</td>\n      <td>0.0</td>\n      <td>medium</td>\n      <td>pleaser</td>\n      <td>Not_define</td>\n      <td>medium</td>\n      <td>medium_low</td>\n      <td>sporting_group</td>\n    </tr>\n    <tr>\n      <th>2</th>\n      <td>2</td>\n      <td>a724273</td>\n      <td>runster</td>\n      <td>2016-04-14 06:43:00</td>\n      <td>2818 palomino trail in austin (tx)</td>\n      <td>stray</td>\n      <td>normal</td>\n      <td>dog</td>\n      <td>0.916667</td>\n      <td>yes</td>\n      <td>...</td>\n      <td>male</td>\n      <td>yes</td>\n      <td>adopted</td>\n      <td>6.0</td>\n      <td>small</td>\n      <td>independent</td>\n      <td>apartment_friendly</td>\n      <td>rare</td>\n      <td>medium_high</td>\n      <td>hound_group</td>\n    </tr>\n    <tr>\n      <th>3</th>\n      <td>3</td>\n      <td>a665644</td>\n      <td>unknown</td>\n      <td>2013-10-21 07:59:00</td>\n      <td>austin (tx)</td>\n      <td>stray</td>\n      <td>sick</td>\n      <td>cat</td>\n      <td>0.076660</td>\n      <td>yes</td>\n      <td>...</td>\n      <td>female</td>\n      <td>no</td>\n      <td>non-adopted</td>\n      <td>0.0</td>\n      <td>Unknown</td>\n      <td>Unknown</td>\n      <td>Not_define</td>\n      <td>Unknown</td>\n      <td>not_define</td>\n      <td>not_define</td>\n    </tr>\n    <tr>\n      <th>4</th>\n      <td>4</td>\n      <td>a682524</td>\n      <td>rio</td>\n      <td>2014-06-29 10:38:00</td>\n      <td>800 grove blvd in austin (tx)</td>\n      <td>stray</td>\n      <td>normal</td>\n      <td>dog</td>\n      <td>4.000000</td>\n      <td>no</td>\n      <td>...</td>\n      <td>male</td>\n      <td>yes</td>\n      <td>adopted</td>\n      <td>2.0</td>\n      <td>large</td>\n      <td>pleaser</td>\n      <td>guard_dog</td>\n      <td>medium</td>\n      <td>high</td>\n      <td>working_group</td>\n    </tr>\n    <tr>\n      <th>...</th>\n      <td>...</td>\n      <td>...</td>\n      <td>...</td>\n      <td>...</td>\n      <td>...</td>\n      <td>...</td>\n      <td>...</td>\n      <td>...</td>\n      <td>...</td>\n      <td>...</td>\n      <td>...</td>\n      <td>...</td>\n      <td>...</td>\n      <td>...</td>\n      <td>...</td>\n      <td>...</td>\n      <td>...</td>\n      <td>...</td>\n      <td>...</td>\n      <td>...</td>\n      <td>...</td>\n    </tr>\n    <tr>\n      <th>109116</th>\n      <td>110490</td>\n      <td>a830164</td>\n      <td>unknown</td>\n      <td>2021-03-03 02:17:00</td>\n      <td>travis (tx)</td>\n      <td>owner surrender</td>\n      <td>normal</td>\n      <td>dog</td>\n      <td>0.083333</td>\n      <td>yes</td>\n      <td>...</td>\n      <td>unknown</td>\n      <td>unknown</td>\n      <td>non-adopted</td>\n      <td>0.0</td>\n      <td>small</td>\n      <td>agreeable</td>\n      <td>family_dog</td>\n      <td>rare</td>\n      <td>medium_low</td>\n      <td>toy_group</td>\n    </tr>\n    <tr>\n      <th>109117</th>\n      <td>110491</td>\n      <td>a829701</td>\n      <td>pee wee</td>\n      <td>2021-02-21 02:56:00</td>\n      <td>16201 biltmore avenue in travis (tx)</td>\n      <td>stray</td>\n      <td>normal</td>\n      <td>dog</td>\n      <td>3.000000</td>\n      <td>no</td>\n      <td>...</td>\n      <td>male</td>\n      <td>no</td>\n      <td>adopted</td>\n      <td>0.0</td>\n      <td>xsmall</td>\n      <td>independent</td>\n      <td>apartment_friendly</td>\n      <td>very_common</td>\n      <td>medium_low</td>\n      <td>toy_group</td>\n    </tr>\n    <tr>\n      <th>109118</th>\n      <td>110492</td>\n      <td>a765174</td>\n      <td>carson</td>\n      <td>2018-01-14 11:31:00</td>\n      <td>austin (tx)</td>\n      <td>owner surrender</td>\n      <td>normal</td>\n      <td>dog</td>\n      <td>0.083333</td>\n      <td>yes</td>\n      <td>...</td>\n      <td>male</td>\n      <td>yes</td>\n      <td>adopted</td>\n      <td>0.0</td>\n      <td>xsmall</td>\n      <td>independent</td>\n      <td>apartment_friendly</td>\n      <td>very_common</td>\n      <td>medium_low</td>\n      <td>toy_group</td>\n    </tr>\n    <tr>\n      <th>109119</th>\n      <td>110493</td>\n      <td>a829868</td>\n      <td>remy</td>\n      <td>2021-02-25 11:40:00</td>\n      <td>valdez in austin (tx)</td>\n      <td>stray</td>\n      <td>normal</td>\n      <td>dog</td>\n      <td>1.000000</td>\n      <td>no</td>\n      <td>...</td>\n      <td>male</td>\n      <td>yes</td>\n      <td>adopted</td>\n      <td>5.0</td>\n      <td>small</td>\n      <td>agreeable</td>\n      <td>family_dog</td>\n      <td>frequent</td>\n      <td>medium_high</td>\n      <td>hound_group</td>\n    </tr>\n    <tr>\n      <th>109120</th>\n      <td>110494</td>\n      <td>a828158</td>\n      <td>odin</td>\n      <td>2021-01-08 07:01:00</td>\n      <td>2224 e stassney in austin (tx)</td>\n      <td>stray</td>\n      <td>normal</td>\n      <td>dog</td>\n      <td>0.833333</td>\n      <td>yes</td>\n      <td>...</td>\n      <td>male</td>\n      <td>yes</td>\n      <td>adopted</td>\n      <td>53.0</td>\n      <td>large</td>\n      <td>agreeable</td>\n      <td>guard_dog</td>\n      <td>rare</td>\n      <td>medium_low</td>\n      <td>working_group</td>\n    </tr>\n  </tbody>\n</table>\n<p>109121 rows × 30 columns</p>\n</div>"
     },
     "execution_count": 3,
     "metadata": {},
     "output_type": "execute_result"
    }
   ],
   "source": [
    "df_total = pd.read_csv('df_total1.csv')\n",
    "df_total"
   ],
   "metadata": {
    "collapsed": false,
    "pycharm": {
     "name": "#%%\n"
    }
   }
  },
  {
   "cell_type": "markdown",
   "source": [
    "# Standard Cleaning"
   ],
   "metadata": {
    "collapsed": false
   }
  },
  {
   "cell_type": "code",
   "execution_count": 4,
   "outputs": [
    {
     "name": "stdout",
     "output_type": "stream",
     "text": [
      "<class 'pandas.core.frame.DataFrame'>\n",
      "RangeIndex: 109121 entries, 0 to 109120\n",
      "Data columns (total 30 columns):\n",
      " #   Column                Non-Null Count   Dtype  \n",
      "---  ------                --------------   -----  \n",
      " 0   Unnamed: 0            109121 non-null  int64  \n",
      " 1   Animal_ID             109121 non-null  object \n",
      " 2   Name                  109120 non-null  object \n",
      " 3   DateTime_Intake       109121 non-null  object \n",
      " 4   Found_Location        109121 non-null  object \n",
      " 5   Intake_type           109121 non-null  object \n",
      " 6   Intake_Condition      109121 non-null  object \n",
      " 7   Animal_Type           109121 non-null  object \n",
      " 8   Age_upon_Intake       109121 non-null  float64\n",
      " 9   Mix_Breed             109121 non-null  object \n",
      " 10  Primary_Breed         109121 non-null  object \n",
      " 11  Secondary_Breed       109121 non-null  object \n",
      " 12  Main_Color            109121 non-null  object \n",
      " 13  Secondary_Color       109121 non-null  object \n",
      " 14  DateTime_Outcome      109121 non-null  object \n",
      " 15  Date of Birth         109121 non-null  object \n",
      " 16  Outcome_Type          109121 non-null  object \n",
      " 17  Outcome_Subtype       109121 non-null  object \n",
      " 18  Age_upon_Outcome      109121 non-null  float64\n",
      " 19  Location              109121 non-null  object \n",
      " 20  Sex                   109121 non-null  object \n",
      " 21  neuter/spay           109121 non-null  object \n",
      " 22  adopted/non-adopted   109121 non-null  object \n",
      " 23  Days_in_shelter       109121 non-null  float64\n",
      " 24  Breed_size            109121 non-null  object \n",
      " 25  Trainability          109121 non-null  object \n",
      " 26  Breed_characteristic  109121 non-null  object \n",
      " 27  Barking_level         109121 non-null  object \n",
      " 28  activity_level        109121 non-null  object \n",
      " 29  breed_group           109121 non-null  object \n",
      "dtypes: float64(3), int64(1), object(26)\n",
      "memory usage: 25.0+ MB\n"
     ]
    }
   ],
   "source": [
    "df_total.info()"
   ],
   "metadata": {
    "collapsed": false,
    "pycharm": {
     "name": "#%%\n"
    }
   }
  },
  {
   "cell_type": "code",
   "execution_count": 5,
   "outputs": [
    {
     "name": "stdout",
     "output_type": "stream",
     "text": [
      "<class 'pandas.core.frame.DataFrame'>\n",
      "RangeIndex: 109121 entries, 0 to 109120\n",
      "Data columns (total 30 columns):\n",
      " #   Column                Non-Null Count   Dtype         \n",
      "---  ------                --------------   -----         \n",
      " 0   Unnamed: 0            109121 non-null  int64         \n",
      " 1   Animal_ID             109121 non-null  object        \n",
      " 2   Name                  109120 non-null  object        \n",
      " 3   DateTime_Intake       109121 non-null  datetime64[ns]\n",
      " 4   Found_Location        109121 non-null  object        \n",
      " 5   Intake_type           109121 non-null  category      \n",
      " 6   Intake_Condition      109121 non-null  category      \n",
      " 7   Animal_Type           109121 non-null  category      \n",
      " 8   Age_upon_Intake       109121 non-null  float64       \n",
      " 9   Mix_Breed             109121 non-null  category      \n",
      " 10  Primary_Breed         109121 non-null  category      \n",
      " 11  Secondary_Breed       109121 non-null  category      \n",
      " 12  Main_Color            109121 non-null  category      \n",
      " 13  Secondary_Color       109121 non-null  category      \n",
      " 14  DateTime_Outcome      109121 non-null  datetime64[ns]\n",
      " 15  Date of Birth         109121 non-null  datetime64[ns]\n",
      " 16  Outcome_Type          109121 non-null  object        \n",
      " 17  Outcome_Subtype       109121 non-null  object        \n",
      " 18  Age_upon_Outcome      109121 non-null  float64       \n",
      " 19  Location              109121 non-null  object        \n",
      " 20  Sex                   109121 non-null  category      \n",
      " 21  neuter/spay           109121 non-null  category      \n",
      " 22  adopted/non-adopted   109121 non-null  category      \n",
      " 23  Days_in_shelter       109121 non-null  float64       \n",
      " 24  Breed_size            109121 non-null  category      \n",
      " 25  Trainability          109121 non-null  category      \n",
      " 26  Breed_characteristic  109121 non-null  category      \n",
      " 27  Barking_level         109121 non-null  category      \n",
      " 28  activity_level        109121 non-null  category      \n",
      " 29  breed_group           109121 non-null  category      \n",
      "dtypes: category(17), datetime64[ns](3), float64(3), int64(1), object(6)\n",
      "memory usage: 12.8+ MB\n"
     ]
    }
   ],
   "source": [
    "cols_num = ['Age_upon_Intake','Age_upon_Outcome','Days_in_shelter']\n",
    "df_total[cols_num] = df_total[cols_num].astype(float)\n",
    "cols_cat = ['Intake_type','Intake_Condition','Mix_Breed','Primary_Breed','Secondary_Breed','Main_Color','Secondary_Color','Sex','neuter/spay','Breed_size','Trainability','Breed_characteristic','Barking_level','activity_level','adopted/non-adopted','breed_group','Animal_Type']\n",
    "df_total[cols_cat] = df_total[cols_cat].astype('category')\n",
    "col2 = ['DateTime_Intake','DateTime_Outcome','Date of Birth']\n",
    "df_total[col2] = df_total[col2].astype('datetime64[ns]')\n",
    "df_total.info()"
   ],
   "metadata": {
    "collapsed": false,
    "pycharm": {
     "name": "#%%\n"
    }
   }
  },
  {
   "cell_type": "code",
   "execution_count": 6,
   "outputs": [
    {
     "name": "stderr",
     "output_type": "stream",
     "text": [
      "C:\\Users\\diedr\\AppData\\Local\\Temp\\ipykernel_17268\\1054605654.py:2: FutureWarning: In a future version of pandas all arguments of DataFrame.drop except for the argument 'labels' will be keyword-only.\n",
      "  df_total = df_total.drop('Unnamed: 0',1)\n",
      "C:\\Users\\diedr\\AppData\\Local\\Temp\\ipykernel_17268\\1054605654.py:6: FutureWarning: In a future version of pandas all arguments of DataFrame.drop except for the argument 'labels' will be keyword-only.\n",
      "  df_total = df_total.drop('Animal_ID',1) #@@@@@@@\n",
      "C:\\Users\\diedr\\AppData\\Local\\Temp\\ipykernel_17268\\1054605654.py:7: FutureWarning: In a future version of pandas all arguments of DataFrame.drop except for the argument 'labels' will be keyword-only.\n",
      "  df_total = df_total.drop('Name',1)\n",
      "C:\\Users\\diedr\\AppData\\Local\\Temp\\ipykernel_17268\\1054605654.py:8: FutureWarning: In a future version of pandas all arguments of DataFrame.drop except for the argument 'labels' will be keyword-only.\n",
      "  df_total = df_total.drop('Date of Birth',1)\n",
      "C:\\Users\\diedr\\AppData\\Local\\Temp\\ipykernel_17268\\1054605654.py:9: FutureWarning: In a future version of pandas all arguments of DataFrame.drop except for the argument 'labels' will be keyword-only.\n",
      "  df_total = df_total.drop('DateTime_Intake',1)\n",
      "C:\\Users\\diedr\\AppData\\Local\\Temp\\ipykernel_17268\\1054605654.py:10: FutureWarning: In a future version of pandas all arguments of DataFrame.drop except for the argument 'labels' will be keyword-only.\n",
      "  df_total = df_total.drop('DateTime_Outcome',1)\n",
      "C:\\Users\\diedr\\AppData\\Local\\Temp\\ipykernel_17268\\1054605654.py:11: FutureWarning: In a future version of pandas all arguments of DataFrame.drop except for the argument 'labels' will be keyword-only.\n",
      "  df_total = df_total.drop('Location',1)\n",
      "C:\\Users\\diedr\\AppData\\Local\\Temp\\ipykernel_17268\\1054605654.py:12: FutureWarning: In a future version of pandas all arguments of DataFrame.drop except for the argument 'labels' will be keyword-only.\n",
      "  df_total = df_total.drop('Found_Location',1)    #@@@@@@@@@\n"
     ]
    }
   ],
   "source": [
    "# csv created this\n",
    "df_total = df_total.drop('Unnamed: 0',1)\n",
    "\n",
    "# not conbine well with label coding\n",
    "\n",
    "df_total = df_total.drop('Animal_ID',1) #@@@@@@@\n",
    "df_total = df_total.drop('Name',1)\n",
    "df_total = df_total.drop('Date of Birth',1)\n",
    "df_total = df_total.drop('DateTime_Intake',1)\n",
    "df_total = df_total.drop('DateTime_Outcome',1)\n",
    "df_total = df_total.drop('Location',1)\n",
    "df_total = df_total.drop('Found_Location',1)    #@@@@@@@@@\n",
    "#df_total = df_total.drop('Age_upon_Intake_weeks',1)\n",
    "#df_total = df_total.drop('Age_upon_Outcome_weeks',1)\n",
    "#df_total = df_total.drop('Days in Shelter',1)\n",
    "\n",
    "# change time to serial number to be able to put in model"
   ],
   "metadata": {
    "collapsed": false,
    "pycharm": {
     "name": "#%%\n"
    }
   }
  },
  {
   "cell_type": "code",
   "source": [
    "df_total = df_total.drop('Outcome_Type', axis=1)\n",
    "df_total = df_total.drop('Outcome_Subtype', axis=1)"
   ],
   "metadata": {
    "collapsed": false,
    "pycharm": {
     "name": "#%%\n"
    }
   },
   "execution_count": 7,
   "outputs": []
  },
  {
   "cell_type": "markdown",
   "source": [
    "# Label Encoder"
   ],
   "metadata": {
    "collapsed": false
   }
  },
  {
   "cell_type": "markdown",
   "source": [
    "y_test"
   ],
   "metadata": {
    "collapsed": false,
    "pycharm": {
     "name": "#%% md\n"
    }
   }
  },
  {
   "cell_type": "markdown",
   "source": [
    "y_train"
   ],
   "metadata": {
    "collapsed": false,
    "pycharm": {
     "name": "#%% md\n"
    }
   }
  },
  {
   "cell_type": "markdown",
   "source": [
    "X_train"
   ],
   "metadata": {
    "collapsed": false,
    "pycharm": {
     "name": "#%% md\n"
    }
   }
  },
  {
   "cell_type": "markdown",
   "source": [
    "len(y_test == 'unknown')"
   ],
   "metadata": {
    "collapsed": false,
    "pycharm": {
     "name": "#%% md\n"
    }
   }
  },
  {
   "cell_type": "markdown",
   "source": [
    "len(df_total['Outcome_Type'] == 'Unknown')"
   ],
   "metadata": {
    "collapsed": false,
    "pycharm": {
     "name": "#%% md\n"
    }
   }
  },
  {
   "cell_type": "code",
   "execution_count": 8,
   "outputs": [],
   "source": [
    "df_num = df_total.drop(cols_cat, axis=1)"
   ],
   "metadata": {
    "collapsed": false,
    "pycharm": {
     "name": "#%%\n"
    }
   }
  },
  {
   "cell_type": "code",
   "execution_count": 9,
   "outputs": [],
   "source": [
    "df_cat = df_total.drop(cols_num, axis=1)"
   ],
   "metadata": {
    "collapsed": false,
    "pycharm": {
     "name": "#%%\n"
    }
   }
  },
  {
   "cell_type": "code",
   "source": [
    "from sklearn.preprocessing import LabelEncoder\n",
    "\n",
    "# creating instance of labelencoder\n",
    "labelencoder = LabelEncoder()\n",
    "\n",
    "# Assigning numerical values and storing in another column\n",
    "for i in df_cat.columns:\n",
    "    df_cat[i] = labelencoder.fit_transform(df_cat[i])\n",
    "\n",
    "df_total = df_cat.join(df_num)\n",
    "df_total"
   ],
   "metadata": {
    "collapsed": false,
    "pycharm": {
     "name": "#%%\n"
    }
   },
   "execution_count": 10,
   "outputs": [
    {
     "data": {
      "text/plain": "        Intake_type  Intake_Condition  Animal_Type  Mix_Breed  Primary_Breed  \\\n0                 4                 5            2          1             35   \n1                 4                 5            2          0            131   \n2                 4                 5            2          1             32   \n3                 4                 9            1          1            119   \n4                 4                 5            2          0            116   \n...             ...               ...          ...        ...            ...   \n109116            2                 5            2          1            266   \n109117            4                 5            2          0             89   \n109118            2                 5            2          1             89   \n109119            4                 5            2          0             35   \n109120            4                 5            2          1            282   \n\n        Secondary_Breed  Main_Color  Secondary_Color  Sex  neuter/spay  \\\n0                   126          55               37    1            2   \n1                   126          56               34    0            2   \n2                   126          46               51    1            2   \n3                   126          21               37    0            0   \n4                    16          51               29    1            2   \n...                 ...         ...              ...  ...          ...   \n109116              126           2               51    2            1   \n109117              126          15               37    1            0   \n109118              126          51               51    1            2   \n109119              109          55               37    1            2   \n109120              126           2               47    1            2   \n\n        adopted/non-adopted  Breed_size  Trainability  Breed_characteristic  \\\n0                         1           3             1                     2   \n1                         0           2             4                     0   \n2                         0           3             3                     1   \n3                         1           0             0                     0   \n4                         0           1             4                     3   \n...                     ...         ...           ...                   ...   \n109116                    1           3             1                     2   \n109117                    0           5             3                     1   \n109118                    0           5             3                     1   \n109119                    0           3             1                     2   \n109120                    0           1             1                     3   \n\n        Barking_level  activity_level  breed_group  Age_upon_Intake  \\\n0                   1               2            1         2.000000   \n1                   3               3            5         8.000000   \n2                   4               2            1         0.916667   \n3                   0               4            3         0.076660   \n4                   3               0            9         4.000000   \n...               ...             ...          ...              ...   \n109116              4               3            8         0.083333   \n109117              5               3            8         3.000000   \n109118              5               3            8         0.083333   \n109119              1               2            1         1.000000   \n109120              4               3            9         0.833333   \n\n        Age_upon_Outcome  Days_in_shelter  \n0                   2.00              4.0  \n1                   8.00              0.0  \n2                   1.00              6.0  \n3                   0.08              0.0  \n4                   4.00              2.0  \n...                  ...              ...  \n109116              0.08              0.0  \n109117              3.00              0.0  \n109118              0.17              0.0  \n109119              1.00              5.0  \n109120              0.92             53.0  \n\n[109121 rows x 20 columns]",
      "text/html": "<div>\n<style scoped>\n    .dataframe tbody tr th:only-of-type {\n        vertical-align: middle;\n    }\n\n    .dataframe tbody tr th {\n        vertical-align: top;\n    }\n\n    .dataframe thead th {\n        text-align: right;\n    }\n</style>\n<table border=\"1\" class=\"dataframe\">\n  <thead>\n    <tr style=\"text-align: right;\">\n      <th></th>\n      <th>Intake_type</th>\n      <th>Intake_Condition</th>\n      <th>Animal_Type</th>\n      <th>Mix_Breed</th>\n      <th>Primary_Breed</th>\n      <th>Secondary_Breed</th>\n      <th>Main_Color</th>\n      <th>Secondary_Color</th>\n      <th>Sex</th>\n      <th>neuter/spay</th>\n      <th>adopted/non-adopted</th>\n      <th>Breed_size</th>\n      <th>Trainability</th>\n      <th>Breed_characteristic</th>\n      <th>Barking_level</th>\n      <th>activity_level</th>\n      <th>breed_group</th>\n      <th>Age_upon_Intake</th>\n      <th>Age_upon_Outcome</th>\n      <th>Days_in_shelter</th>\n    </tr>\n  </thead>\n  <tbody>\n    <tr>\n      <th>0</th>\n      <td>4</td>\n      <td>5</td>\n      <td>2</td>\n      <td>1</td>\n      <td>35</td>\n      <td>126</td>\n      <td>55</td>\n      <td>37</td>\n      <td>1</td>\n      <td>2</td>\n      <td>1</td>\n      <td>3</td>\n      <td>1</td>\n      <td>2</td>\n      <td>1</td>\n      <td>2</td>\n      <td>1</td>\n      <td>2.000000</td>\n      <td>2.00</td>\n      <td>4.0</td>\n    </tr>\n    <tr>\n      <th>1</th>\n      <td>4</td>\n      <td>5</td>\n      <td>2</td>\n      <td>0</td>\n      <td>131</td>\n      <td>126</td>\n      <td>56</td>\n      <td>34</td>\n      <td>0</td>\n      <td>2</td>\n      <td>0</td>\n      <td>2</td>\n      <td>4</td>\n      <td>0</td>\n      <td>3</td>\n      <td>3</td>\n      <td>5</td>\n      <td>8.000000</td>\n      <td>8.00</td>\n      <td>0.0</td>\n    </tr>\n    <tr>\n      <th>2</th>\n      <td>4</td>\n      <td>5</td>\n      <td>2</td>\n      <td>1</td>\n      <td>32</td>\n      <td>126</td>\n      <td>46</td>\n      <td>51</td>\n      <td>1</td>\n      <td>2</td>\n      <td>0</td>\n      <td>3</td>\n      <td>3</td>\n      <td>1</td>\n      <td>4</td>\n      <td>2</td>\n      <td>1</td>\n      <td>0.916667</td>\n      <td>1.00</td>\n      <td>6.0</td>\n    </tr>\n    <tr>\n      <th>3</th>\n      <td>4</td>\n      <td>9</td>\n      <td>1</td>\n      <td>1</td>\n      <td>119</td>\n      <td>126</td>\n      <td>21</td>\n      <td>37</td>\n      <td>0</td>\n      <td>0</td>\n      <td>1</td>\n      <td>0</td>\n      <td>0</td>\n      <td>0</td>\n      <td>0</td>\n      <td>4</td>\n      <td>3</td>\n      <td>0.076660</td>\n      <td>0.08</td>\n      <td>0.0</td>\n    </tr>\n    <tr>\n      <th>4</th>\n      <td>4</td>\n      <td>5</td>\n      <td>2</td>\n      <td>0</td>\n      <td>116</td>\n      <td>16</td>\n      <td>51</td>\n      <td>29</td>\n      <td>1</td>\n      <td>2</td>\n      <td>0</td>\n      <td>1</td>\n      <td>4</td>\n      <td>3</td>\n      <td>3</td>\n      <td>0</td>\n      <td>9</td>\n      <td>4.000000</td>\n      <td>4.00</td>\n      <td>2.0</td>\n    </tr>\n    <tr>\n      <th>...</th>\n      <td>...</td>\n      <td>...</td>\n      <td>...</td>\n      <td>...</td>\n      <td>...</td>\n      <td>...</td>\n      <td>...</td>\n      <td>...</td>\n      <td>...</td>\n      <td>...</td>\n      <td>...</td>\n      <td>...</td>\n      <td>...</td>\n      <td>...</td>\n      <td>...</td>\n      <td>...</td>\n      <td>...</td>\n      <td>...</td>\n      <td>...</td>\n      <td>...</td>\n    </tr>\n    <tr>\n      <th>109116</th>\n      <td>2</td>\n      <td>5</td>\n      <td>2</td>\n      <td>1</td>\n      <td>266</td>\n      <td>126</td>\n      <td>2</td>\n      <td>51</td>\n      <td>2</td>\n      <td>1</td>\n      <td>1</td>\n      <td>3</td>\n      <td>1</td>\n      <td>2</td>\n      <td>4</td>\n      <td>3</td>\n      <td>8</td>\n      <td>0.083333</td>\n      <td>0.08</td>\n      <td>0.0</td>\n    </tr>\n    <tr>\n      <th>109117</th>\n      <td>4</td>\n      <td>5</td>\n      <td>2</td>\n      <td>0</td>\n      <td>89</td>\n      <td>126</td>\n      <td>15</td>\n      <td>37</td>\n      <td>1</td>\n      <td>0</td>\n      <td>0</td>\n      <td>5</td>\n      <td>3</td>\n      <td>1</td>\n      <td>5</td>\n      <td>3</td>\n      <td>8</td>\n      <td>3.000000</td>\n      <td>3.00</td>\n      <td>0.0</td>\n    </tr>\n    <tr>\n      <th>109118</th>\n      <td>2</td>\n      <td>5</td>\n      <td>2</td>\n      <td>1</td>\n      <td>89</td>\n      <td>126</td>\n      <td>51</td>\n      <td>51</td>\n      <td>1</td>\n      <td>2</td>\n      <td>0</td>\n      <td>5</td>\n      <td>3</td>\n      <td>1</td>\n      <td>5</td>\n      <td>3</td>\n      <td>8</td>\n      <td>0.083333</td>\n      <td>0.17</td>\n      <td>0.0</td>\n    </tr>\n    <tr>\n      <th>109119</th>\n      <td>4</td>\n      <td>5</td>\n      <td>2</td>\n      <td>0</td>\n      <td>35</td>\n      <td>109</td>\n      <td>55</td>\n      <td>37</td>\n      <td>1</td>\n      <td>2</td>\n      <td>0</td>\n      <td>3</td>\n      <td>1</td>\n      <td>2</td>\n      <td>1</td>\n      <td>2</td>\n      <td>1</td>\n      <td>1.000000</td>\n      <td>1.00</td>\n      <td>5.0</td>\n    </tr>\n    <tr>\n      <th>109120</th>\n      <td>4</td>\n      <td>5</td>\n      <td>2</td>\n      <td>1</td>\n      <td>282</td>\n      <td>126</td>\n      <td>2</td>\n      <td>47</td>\n      <td>1</td>\n      <td>2</td>\n      <td>0</td>\n      <td>1</td>\n      <td>1</td>\n      <td>3</td>\n      <td>4</td>\n      <td>3</td>\n      <td>9</td>\n      <td>0.833333</td>\n      <td>0.92</td>\n      <td>53.0</td>\n    </tr>\n  </tbody>\n</table>\n<p>109121 rows × 20 columns</p>\n</div>"
     },
     "execution_count": 10,
     "metadata": {},
     "output_type": "execute_result"
    }
   ]
  },
  {
   "cell_type": "markdown",
   "source": [
    "# Cleaning target variable"
   ],
   "metadata": {
    "collapsed": false
   }
  },
  {
   "cell_type": "code",
   "execution_count": 11,
   "outputs": [
    {
     "data": {
      "text/plain": "array([1, 0, 2])"
     },
     "execution_count": 11,
     "metadata": {},
     "output_type": "execute_result"
    }
   ],
   "source": [
    "df_total['adopted/non-adopted'].unique()\n",
    "\n",
    "# unknown value is found in 21 rows"
   ],
   "metadata": {
    "collapsed": false,
    "pycharm": {
     "name": "#%%\n"
    }
   }
  },
  {
   "cell_type": "code",
   "execution_count": 12,
   "outputs": [
    {
     "data": {
      "text/plain": "Int64Index([ 13869,  29677,  31621,  31898,  32860,  39609,  48814,  52620,\n             54235,  57107,  72673,  74858,  75612,  79431,  90548,  93543,\n             93795,  95675, 100101, 103241, 108841],\n           dtype='int64')"
     },
     "execution_count": 12,
     "metadata": {},
     "output_type": "execute_result"
    }
   ],
   "source": [
    "index_names = df_total[df_total['adopted/non-adopted'] == 2 ].index\n",
    "index_names"
   ],
   "metadata": {
    "collapsed": false,
    "pycharm": {
     "name": "#%%\n"
    }
   }
  },
  {
   "cell_type": "code",
   "execution_count": 13,
   "outputs": [],
   "source": [
    "df_total.drop(index_names, inplace=True)"
   ],
   "metadata": {
    "collapsed": false,
    "pycharm": {
     "name": "#%%\n"
    }
   }
  },
  {
   "cell_type": "code",
   "execution_count": 14,
   "outputs": [
    {
     "data": {
      "text/plain": "array([1, 0])"
     },
     "execution_count": 14,
     "metadata": {},
     "output_type": "execute_result"
    }
   ],
   "source": [
    "df_total['adopted/non-adopted'].unique()"
   ],
   "metadata": {
    "collapsed": false,
    "pycharm": {
     "name": "#%%\n"
    }
   }
  },
  {
   "cell_type": "markdown",
   "source": [
    "# spliting"
   ],
   "metadata": {
    "collapsed": false
   }
  },
  {
   "cell_type": "code",
   "execution_count": 15,
   "outputs": [
    {
     "name": "stderr",
     "output_type": "stream",
     "text": [
      "C:\\Users\\diedr\\AppData\\Local\\Temp\\ipykernel_17268\\488732468.py:1: FutureWarning: In a future version of pandas all arguments of DataFrame.drop except for the argument 'labels' will be keyword-only.\n",
      "  X = df_total.drop('adopted/non-adopted', 1)\n"
     ]
    },
    {
     "data": {
      "text/plain": "   Intake_type  Intake_Condition  Animal_Type  Mix_Breed  Primary_Breed  \\\n0            4                 5            2          1             35   \n1            4                 5            2          0            131   \n2            4                 5            2          1             32   \n3            4                 9            1          1            119   \n4            4                 5            2          0            116   \n\n   Secondary_Breed  Main_Color  Secondary_Color  Sex  neuter/spay  Breed_size  \\\n0              126          55               37    1            2           3   \n1              126          56               34    0            2           2   \n2              126          46               51    1            2           3   \n3              126          21               37    0            0           0   \n4               16          51               29    1            2           1   \n\n   Trainability  Breed_characteristic  Barking_level  activity_level  \\\n0             1                     2              1               2   \n1             4                     0              3               3   \n2             3                     1              4               2   \n3             0                     0              0               4   \n4             4                     3              3               0   \n\n   breed_group  Age_upon_Intake  Age_upon_Outcome  Days_in_shelter  \n0            1         2.000000              2.00              4.0  \n1            5         8.000000              8.00              0.0  \n2            1         0.916667              1.00              6.0  \n3            3         0.076660              0.08              0.0  \n4            9         4.000000              4.00              2.0  ",
      "text/html": "<div>\n<style scoped>\n    .dataframe tbody tr th:only-of-type {\n        vertical-align: middle;\n    }\n\n    .dataframe tbody tr th {\n        vertical-align: top;\n    }\n\n    .dataframe thead th {\n        text-align: right;\n    }\n</style>\n<table border=\"1\" class=\"dataframe\">\n  <thead>\n    <tr style=\"text-align: right;\">\n      <th></th>\n      <th>Intake_type</th>\n      <th>Intake_Condition</th>\n      <th>Animal_Type</th>\n      <th>Mix_Breed</th>\n      <th>Primary_Breed</th>\n      <th>Secondary_Breed</th>\n      <th>Main_Color</th>\n      <th>Secondary_Color</th>\n      <th>Sex</th>\n      <th>neuter/spay</th>\n      <th>Breed_size</th>\n      <th>Trainability</th>\n      <th>Breed_characteristic</th>\n      <th>Barking_level</th>\n      <th>activity_level</th>\n      <th>breed_group</th>\n      <th>Age_upon_Intake</th>\n      <th>Age_upon_Outcome</th>\n      <th>Days_in_shelter</th>\n    </tr>\n  </thead>\n  <tbody>\n    <tr>\n      <th>0</th>\n      <td>4</td>\n      <td>5</td>\n      <td>2</td>\n      <td>1</td>\n      <td>35</td>\n      <td>126</td>\n      <td>55</td>\n      <td>37</td>\n      <td>1</td>\n      <td>2</td>\n      <td>3</td>\n      <td>1</td>\n      <td>2</td>\n      <td>1</td>\n      <td>2</td>\n      <td>1</td>\n      <td>2.000000</td>\n      <td>2.00</td>\n      <td>4.0</td>\n    </tr>\n    <tr>\n      <th>1</th>\n      <td>4</td>\n      <td>5</td>\n      <td>2</td>\n      <td>0</td>\n      <td>131</td>\n      <td>126</td>\n      <td>56</td>\n      <td>34</td>\n      <td>0</td>\n      <td>2</td>\n      <td>2</td>\n      <td>4</td>\n      <td>0</td>\n      <td>3</td>\n      <td>3</td>\n      <td>5</td>\n      <td>8.000000</td>\n      <td>8.00</td>\n      <td>0.0</td>\n    </tr>\n    <tr>\n      <th>2</th>\n      <td>4</td>\n      <td>5</td>\n      <td>2</td>\n      <td>1</td>\n      <td>32</td>\n      <td>126</td>\n      <td>46</td>\n      <td>51</td>\n      <td>1</td>\n      <td>2</td>\n      <td>3</td>\n      <td>3</td>\n      <td>1</td>\n      <td>4</td>\n      <td>2</td>\n      <td>1</td>\n      <td>0.916667</td>\n      <td>1.00</td>\n      <td>6.0</td>\n    </tr>\n    <tr>\n      <th>3</th>\n      <td>4</td>\n      <td>9</td>\n      <td>1</td>\n      <td>1</td>\n      <td>119</td>\n      <td>126</td>\n      <td>21</td>\n      <td>37</td>\n      <td>0</td>\n      <td>0</td>\n      <td>0</td>\n      <td>0</td>\n      <td>0</td>\n      <td>0</td>\n      <td>4</td>\n      <td>3</td>\n      <td>0.076660</td>\n      <td>0.08</td>\n      <td>0.0</td>\n    </tr>\n    <tr>\n      <th>4</th>\n      <td>4</td>\n      <td>5</td>\n      <td>2</td>\n      <td>0</td>\n      <td>116</td>\n      <td>16</td>\n      <td>51</td>\n      <td>29</td>\n      <td>1</td>\n      <td>2</td>\n      <td>1</td>\n      <td>4</td>\n      <td>3</td>\n      <td>3</td>\n      <td>0</td>\n      <td>9</td>\n      <td>4.000000</td>\n      <td>4.00</td>\n      <td>2.0</td>\n    </tr>\n  </tbody>\n</table>\n</div>"
     },
     "execution_count": 15,
     "metadata": {},
     "output_type": "execute_result"
    }
   ],
   "source": [
    "X = df_total.drop('adopted/non-adopted', 1)\n",
    "y = df_total['adopted/non-adopted']\n",
    "X.head()"
   ],
   "metadata": {
    "collapsed": false,
    "pycharm": {
     "name": "#%%\n"
    }
   }
  },
  {
   "cell_type": "code",
   "execution_count": 16,
   "outputs": [],
   "source": [
    "df_total['adopted'] = df_total['adopted/non-adopted']\n",
    "df_total = df_total.drop(['adopted/non-adopted'], axis= 1) # same variable with differents layout"
   ],
   "metadata": {
    "collapsed": false,
    "pycharm": {
     "name": "#%%\n"
    }
   }
  },
  {
   "cell_type": "code",
   "execution_count": 17,
   "outputs": [],
   "source": [
    "# Split dataset into training set and test set\n",
    "X_train, X_test, y_train, y_test = train_test_split(X, y, test_size=0.3,random_state=109) # 70% training and 30% test"
   ],
   "metadata": {
    "collapsed": false,
    "pycharm": {
     "name": "#%%\n"
    }
   }
  },
  {
   "cell_type": "code",
   "execution_count": 18,
   "outputs": [
    {
     "data": {
      "text/plain": "        Intake_type  Intake_Condition  Animal_Type  Mix_Breed  Primary_Breed  \\\n0                 4                 5            2          1             35   \n1                 4                 5            2          0            131   \n2                 4                 5            2          1             32   \n3                 4                 9            1          1            119   \n4                 4                 5            2          0            116   \n...             ...               ...          ...        ...            ...   \n109116            2                 5            2          1            266   \n109117            4                 5            2          0             89   \n109118            2                 5            2          1             89   \n109119            4                 5            2          0             35   \n109120            4                 5            2          1            282   \n\n        Secondary_Breed  Main_Color  Secondary_Color  Sex  neuter/spay  \\\n0                   126          55               37    1            2   \n1                   126          56               34    0            2   \n2                   126          46               51    1            2   \n3                   126          21               37    0            0   \n4                    16          51               29    1            2   \n...                 ...         ...              ...  ...          ...   \n109116              126           2               51    2            1   \n109117              126          15               37    1            0   \n109118              126          51               51    1            2   \n109119              109          55               37    1            2   \n109120              126           2               47    1            2   \n\n        Breed_size  Trainability  Breed_characteristic  Barking_level  \\\n0                3             1                     2              1   \n1                2             4                     0              3   \n2                3             3                     1              4   \n3                0             0                     0              0   \n4                1             4                     3              3   \n...            ...           ...                   ...            ...   \n109116           3             1                     2              4   \n109117           5             3                     1              5   \n109118           5             3                     1              5   \n109119           3             1                     2              1   \n109120           1             1                     3              4   \n\n        activity_level  breed_group  Age_upon_Intake  Age_upon_Outcome  \\\n0                    2            1         2.000000              2.00   \n1                    3            5         8.000000              8.00   \n2                    2            1         0.916667              1.00   \n3                    4            3         0.076660              0.08   \n4                    0            9         4.000000              4.00   \n...                ...          ...              ...               ...   \n109116               3            8         0.083333              0.08   \n109117               3            8         3.000000              3.00   \n109118               3            8         0.083333              0.17   \n109119               2            1         1.000000              1.00   \n109120               3            9         0.833333              0.92   \n\n        Days_in_shelter  adopted  \n0                   4.0        1  \n1                   0.0        0  \n2                   6.0        0  \n3                   0.0        1  \n4                   2.0        0  \n...                 ...      ...  \n109116              0.0        1  \n109117              0.0        0  \n109118              0.0        0  \n109119              5.0        0  \n109120             53.0        0  \n\n[109100 rows x 20 columns]",
      "text/html": "<div>\n<style scoped>\n    .dataframe tbody tr th:only-of-type {\n        vertical-align: middle;\n    }\n\n    .dataframe tbody tr th {\n        vertical-align: top;\n    }\n\n    .dataframe thead th {\n        text-align: right;\n    }\n</style>\n<table border=\"1\" class=\"dataframe\">\n  <thead>\n    <tr style=\"text-align: right;\">\n      <th></th>\n      <th>Intake_type</th>\n      <th>Intake_Condition</th>\n      <th>Animal_Type</th>\n      <th>Mix_Breed</th>\n      <th>Primary_Breed</th>\n      <th>Secondary_Breed</th>\n      <th>Main_Color</th>\n      <th>Secondary_Color</th>\n      <th>Sex</th>\n      <th>neuter/spay</th>\n      <th>Breed_size</th>\n      <th>Trainability</th>\n      <th>Breed_characteristic</th>\n      <th>Barking_level</th>\n      <th>activity_level</th>\n      <th>breed_group</th>\n      <th>Age_upon_Intake</th>\n      <th>Age_upon_Outcome</th>\n      <th>Days_in_shelter</th>\n      <th>adopted</th>\n    </tr>\n  </thead>\n  <tbody>\n    <tr>\n      <th>0</th>\n      <td>4</td>\n      <td>5</td>\n      <td>2</td>\n      <td>1</td>\n      <td>35</td>\n      <td>126</td>\n      <td>55</td>\n      <td>37</td>\n      <td>1</td>\n      <td>2</td>\n      <td>3</td>\n      <td>1</td>\n      <td>2</td>\n      <td>1</td>\n      <td>2</td>\n      <td>1</td>\n      <td>2.000000</td>\n      <td>2.00</td>\n      <td>4.0</td>\n      <td>1</td>\n    </tr>\n    <tr>\n      <th>1</th>\n      <td>4</td>\n      <td>5</td>\n      <td>2</td>\n      <td>0</td>\n      <td>131</td>\n      <td>126</td>\n      <td>56</td>\n      <td>34</td>\n      <td>0</td>\n      <td>2</td>\n      <td>2</td>\n      <td>4</td>\n      <td>0</td>\n      <td>3</td>\n      <td>3</td>\n      <td>5</td>\n      <td>8.000000</td>\n      <td>8.00</td>\n      <td>0.0</td>\n      <td>0</td>\n    </tr>\n    <tr>\n      <th>2</th>\n      <td>4</td>\n      <td>5</td>\n      <td>2</td>\n      <td>1</td>\n      <td>32</td>\n      <td>126</td>\n      <td>46</td>\n      <td>51</td>\n      <td>1</td>\n      <td>2</td>\n      <td>3</td>\n      <td>3</td>\n      <td>1</td>\n      <td>4</td>\n      <td>2</td>\n      <td>1</td>\n      <td>0.916667</td>\n      <td>1.00</td>\n      <td>6.0</td>\n      <td>0</td>\n    </tr>\n    <tr>\n      <th>3</th>\n      <td>4</td>\n      <td>9</td>\n      <td>1</td>\n      <td>1</td>\n      <td>119</td>\n      <td>126</td>\n      <td>21</td>\n      <td>37</td>\n      <td>0</td>\n      <td>0</td>\n      <td>0</td>\n      <td>0</td>\n      <td>0</td>\n      <td>0</td>\n      <td>4</td>\n      <td>3</td>\n      <td>0.076660</td>\n      <td>0.08</td>\n      <td>0.0</td>\n      <td>1</td>\n    </tr>\n    <tr>\n      <th>4</th>\n      <td>4</td>\n      <td>5</td>\n      <td>2</td>\n      <td>0</td>\n      <td>116</td>\n      <td>16</td>\n      <td>51</td>\n      <td>29</td>\n      <td>1</td>\n      <td>2</td>\n      <td>1</td>\n      <td>4</td>\n      <td>3</td>\n      <td>3</td>\n      <td>0</td>\n      <td>9</td>\n      <td>4.000000</td>\n      <td>4.00</td>\n      <td>2.0</td>\n      <td>0</td>\n    </tr>\n    <tr>\n      <th>...</th>\n      <td>...</td>\n      <td>...</td>\n      <td>...</td>\n      <td>...</td>\n      <td>...</td>\n      <td>...</td>\n      <td>...</td>\n      <td>...</td>\n      <td>...</td>\n      <td>...</td>\n      <td>...</td>\n      <td>...</td>\n      <td>...</td>\n      <td>...</td>\n      <td>...</td>\n      <td>...</td>\n      <td>...</td>\n      <td>...</td>\n      <td>...</td>\n      <td>...</td>\n    </tr>\n    <tr>\n      <th>109116</th>\n      <td>2</td>\n      <td>5</td>\n      <td>2</td>\n      <td>1</td>\n      <td>266</td>\n      <td>126</td>\n      <td>2</td>\n      <td>51</td>\n      <td>2</td>\n      <td>1</td>\n      <td>3</td>\n      <td>1</td>\n      <td>2</td>\n      <td>4</td>\n      <td>3</td>\n      <td>8</td>\n      <td>0.083333</td>\n      <td>0.08</td>\n      <td>0.0</td>\n      <td>1</td>\n    </tr>\n    <tr>\n      <th>109117</th>\n      <td>4</td>\n      <td>5</td>\n      <td>2</td>\n      <td>0</td>\n      <td>89</td>\n      <td>126</td>\n      <td>15</td>\n      <td>37</td>\n      <td>1</td>\n      <td>0</td>\n      <td>5</td>\n      <td>3</td>\n      <td>1</td>\n      <td>5</td>\n      <td>3</td>\n      <td>8</td>\n      <td>3.000000</td>\n      <td>3.00</td>\n      <td>0.0</td>\n      <td>0</td>\n    </tr>\n    <tr>\n      <th>109118</th>\n      <td>2</td>\n      <td>5</td>\n      <td>2</td>\n      <td>1</td>\n      <td>89</td>\n      <td>126</td>\n      <td>51</td>\n      <td>51</td>\n      <td>1</td>\n      <td>2</td>\n      <td>5</td>\n      <td>3</td>\n      <td>1</td>\n      <td>5</td>\n      <td>3</td>\n      <td>8</td>\n      <td>0.083333</td>\n      <td>0.17</td>\n      <td>0.0</td>\n      <td>0</td>\n    </tr>\n    <tr>\n      <th>109119</th>\n      <td>4</td>\n      <td>5</td>\n      <td>2</td>\n      <td>0</td>\n      <td>35</td>\n      <td>109</td>\n      <td>55</td>\n      <td>37</td>\n      <td>1</td>\n      <td>2</td>\n      <td>3</td>\n      <td>1</td>\n      <td>2</td>\n      <td>1</td>\n      <td>2</td>\n      <td>1</td>\n      <td>1.000000</td>\n      <td>1.00</td>\n      <td>5.0</td>\n      <td>0</td>\n    </tr>\n    <tr>\n      <th>109120</th>\n      <td>4</td>\n      <td>5</td>\n      <td>2</td>\n      <td>1</td>\n      <td>282</td>\n      <td>126</td>\n      <td>2</td>\n      <td>47</td>\n      <td>1</td>\n      <td>2</td>\n      <td>1</td>\n      <td>1</td>\n      <td>3</td>\n      <td>4</td>\n      <td>3</td>\n      <td>9</td>\n      <td>0.833333</td>\n      <td>0.92</td>\n      <td>53.0</td>\n      <td>0</td>\n    </tr>\n  </tbody>\n</table>\n<p>109100 rows × 20 columns</p>\n</div>"
     },
     "execution_count": 18,
     "metadata": {},
     "output_type": "execute_result"
    }
   ],
   "source": [
    "df_total"
   ],
   "metadata": {
    "collapsed": false,
    "pycharm": {
     "name": "#%%\n"
    }
   }
  },
  {
   "cell_type": "markdown",
   "source": [
    "# Balancing"
   ],
   "metadata": {
    "collapsed": false
   }
  },
  {
   "cell_type": "code",
   "execution_count": 19,
   "outputs": [
    {
     "data": {
      "text/plain": "34189     1\n99981     0\n41166     1\n45941     1\n104237    0\n         ..\n16369     1\n82075     1\n7925      0\n19702     0\n44300     1\nName: adopted/non-adopted, Length: 76370, dtype: int32"
     },
     "execution_count": 19,
     "metadata": {},
     "output_type": "execute_result"
    }
   ],
   "source": [
    "y_train"
   ],
   "metadata": {
    "collapsed": false,
    "pycharm": {
     "name": "#%%\n"
    }
   }
  },
  {
   "cell_type": "code",
   "execution_count": 20,
   "outputs": [
    {
     "data": {
      "text/plain": "0    45119\n1    31251\nName: adopted/non-adopted, dtype: int64"
     },
     "execution_count": 20,
     "metadata": {},
     "output_type": "execute_result"
    }
   ],
   "source": [
    "y_train.value_counts()"
   ],
   "metadata": {
    "collapsed": false,
    "pycharm": {
     "name": "#%%\n"
    }
   }
  },
  {
   "cell_type": "code",
   "execution_count": 21,
   "outputs": [
    {
     "data": {
      "text/plain": "0    64338\n1    44762\nName: adopted/non-adopted, dtype: int64"
     },
     "execution_count": 21,
     "metadata": {},
     "output_type": "execute_result"
    }
   ],
   "source": [
    "y.value_counts()"
   ],
   "metadata": {
    "collapsed": false,
    "pycharm": {
     "name": "#%%\n"
    }
   }
  },
  {
   "cell_type": "code",
   "execution_count": 22,
   "outputs": [],
   "source": [
    "from imblearn.datasets import make_imbalance\n",
    "\n",
    "X_train, y_train = make_imbalance(X_train, y_train, sampling_strategy={0: 30000, 1: 30000},random_state=14)\n",
    "\n",
    "# It was set to 30000 because of the non-adopted value:1 in y_train"
   ],
   "metadata": {
    "collapsed": false,
    "pycharm": {
     "name": "#%%\n"
    }
   }
  },
  {
   "cell_type": "code",
   "execution_count": 23,
   "outputs": [
    {
     "data": {
      "text/plain": "<Figure size 432x288 with 1 Axes>",
      "image/png": "[encoded data removed]"
     },
     "metadata": {
      "needs_background": "light"
     },
     "output_type": "display_data"
    }
   ],
   "source": [
    "y_train.value_counts().plot(kind='bar')\n",
    "plt.title('label balance (undersample)')\n",
    "plt.xlabel('adopted or non-adopted')\n",
    "plt.ylabel('amount per label')\n",
    "plt.show()"
   ],
   "metadata": {
    "collapsed": false,
    "pycharm": {
     "name": "#%%\n"
    }
   }
  },
  {
   "cell_type": "markdown",
   "source": [
    "# SVM"
   ],
   "metadata": {
    "collapsed": false,
    "pycharm": {
     "name": "#%% md\n"
    }
   }
  },
  {
   "cell_type": "code",
   "source": [
    "from sklearn import svm\n",
    "\n",
    "clf = svm.SVC(kernel='linear') # Linear Kernel\n",
    "\n",
    "#Train the model using the training sets\n",
    "clf.fit(X_train, y_train)\n",
    "\n",
    "#Predict the response for test dataset\n",
    "y_pred = clf.predict(X_test)"
   ],
   "metadata": {
    "collapsed": false,
    "pycharm": {
     "name": "#%%\n"
    }
   },
   "execution_count": 24,
   "outputs": []
  },
  {
   "cell_type": "code",
   "source": [
    "from sklearn import metrics\n",
    "\n",
    "# Model Accuracy: how often is the classifier correct?\n",
    "print(\"Accuracy:\",metrics.accuracy_score(y_test, y_pred))"
   ],
   "metadata": {
    "collapsed": false,
    "pycharm": {
     "name": "#%%\n"
    }
   },
   "execution_count": 25,
   "outputs": [
    {
     "name": "stdout",
     "output_type": "stream",
     "text": [
      "Accuracy: 0.8074243813015582\n"
     ]
    }
   ]
  },
  {
   "cell_type": "code",
   "source": [
    " #Model Precision: what percentage of positive tuples are labeled as such?\n",
    "print(\"Precision:\",metrics.precision_score(y_test, y_pred))\n",
    "\n",
    "# Model Recall: what percentage of positive tuples are labelled as such?\n",
    "print(\"Recall:\",metrics.recall_score(y_test, y_pred))"
   ],
   "metadata": {
    "collapsed": false,
    "pycharm": {
     "name": "#%%\n"
    }
   },
   "execution_count": 26,
   "outputs": [
    {
     "name": "stdout",
     "output_type": "stream",
     "text": [
      "Precision: 0.7758303995101791\n",
      "Recall: 0.7502775516246022\n"
     ]
    }
   ]
  },
  {
   "cell_type": "markdown",
   "source": [
    "# K-fold Cross-validation"
   ],
   "metadata": {
    "collapsed": false
   }
  },
  {
   "cell_type": "code",
   "source": [
    "# evaluate KNN model using repeated k-fold cross-validation\n",
    "from numpy import mean\n",
    "from numpy import std\n",
    "from sklearn.model_selection import RepeatedKFold\n",
    "from sklearn.model_selection import cross_val_score"
   ],
   "metadata": {
    "collapsed": false,
    "pycharm": {
     "name": "#%%\n"
    }
   },
   "execution_count": 27,
   "outputs": []
  },
  {
   "cell_type": "code",
   "source": [
    "# prepare the cross-validation procedure\n",
    "cv = RepeatedKFold(n_splits=10, n_repeats=3, random_state=1)\n",
    "# create model\n",
    "#model = LogisticRegression()\n",
    "model = svm.SVC(kernel='linear')\n",
    "# evaluate model\n",
    "scores = cross_val_score(model, X_test, y_test, scoring='accuracy', cv=cv, n_jobs=-1)\n",
    "# report performance\n",
    "print('Accuracy: %.3f (%.3f)' % (mean(scores), std(scores)))"
   ],
   "metadata": {
    "collapsed": false,
    "pycharm": {
     "name": "#%%\n"
    }
   },
   "execution_count": 28,
   "outputs": [
    {
     "name": "stdout",
     "output_type": "stream",
     "text": [
      "Accuracy: 0.815 (0.006)\n"
     ]
    }
   ]
  },
  {
   "cell_type": "markdown",
   "source": [
    "# Matrix"
   ],
   "metadata": {
    "collapsed": false
   }
  },
  {
   "cell_type": "code",
   "execution_count": 29,
   "outputs": [
    {
     "data": {
      "text/plain": "array([[16290,  2929],\n       [ 3374, 10137]], dtype=int64)"
     },
     "execution_count": 29,
     "metadata": {},
     "output_type": "execute_result"
    }
   ],
   "source": [
    "from sklearn.metrics import confusion_matrix,accuracy_score\n",
    "cm = confusion_matrix(y_test, y_pred)\n",
    "ac = accuracy_score(y_test,y_pred)\n",
    "cm"
   ],
   "metadata": {
    "collapsed": false,
    "pycharm": {
     "name": "#%%\n"
    }
   }
  },
  {
   "cell_type": "code",
   "execution_count": 30,
   "outputs": [
    {
     "data": {
      "text/plain": "0.8074243813015582"
     },
     "execution_count": 30,
     "metadata": {},
     "output_type": "execute_result"
    }
   ],
   "source": [
    "ac"
   ],
   "metadata": {
    "collapsed": false,
    "pycharm": {
     "name": "#%%\n"
    }
   }
  },
  {
   "cell_type": "markdown",
   "source": [
    "# Classification Report"
   ],
   "metadata": {
    "collapsed": false
   }
  },
  {
   "cell_type": "code",
   "execution_count": 31,
   "outputs": [
    {
     "name": "stdout",
     "output_type": "stream",
     "text": [
      "              precision    recall  f1-score   support\n",
      "\n",
      "           0       0.83      0.85      0.84     19219\n",
      "           1       0.78      0.75      0.76     13511\n",
      "\n",
      "    accuracy                           0.81     32730\n",
      "   macro avg       0.80      0.80      0.80     32730\n",
      "weighted avg       0.81      0.81      0.81     32730\n",
      "\n"
     ]
    }
   ],
   "source": [
    "from sklearn.metrics import classification_report\n",
    "\n",
    "report = classification_report(y_test, y_pred)\n",
    "print(report)"
   ],
   "metadata": {
    "collapsed": false,
    "pycharm": {
     "name": "#%%\n"
    }
   }
  },
  {
   "cell_type": "markdown",
   "source": [
    "# Log loss"
   ],
   "metadata": {
    "collapsed": false
   }
  },
  {
   "cell_type": "code",
   "execution_count": 32,
   "outputs": [
    {
     "name": "stderr",
     "output_type": "stream",
     "text": [
      "D:\\Data Analysis and Science\\Data Manipulation\\Plataforms\\Python\\Python Base Original\\lib\\site-packages\\sklearn\\model_selection\\_validation.py:770: UserWarning: Scoring failed. The score on this train-test partition for these parameters will be set to nan. Details: \n",
      "Traceback (most recent call last):\n",
      "  File \"D:\\Data Analysis and Science\\Data Manipulation\\Plataforms\\Python\\Python Base Original\\lib\\site-packages\\sklearn\\model_selection\\_validation.py\", line 761, in _score\n",
      "    scores = scorer(estimator, X_test, y_test)\n",
      "  File \"D:\\Data Analysis and Science\\Data Manipulation\\Plataforms\\Python\\Python Base Original\\lib\\site-packages\\sklearn\\metrics\\_scorer.py\", line 103, in __call__\n",
      "    score = scorer._score(cached_call, estimator, *args, **kwargs)\n",
      "  File \"D:\\Data Analysis and Science\\Data Manipulation\\Plataforms\\Python\\Python Base Original\\lib\\site-packages\\sklearn\\metrics\\_scorer.py\", line 298, in _score\n",
      "    y_pred = method_caller(clf, \"predict_proba\", X)\n",
      "  File \"D:\\Data Analysis and Science\\Data Manipulation\\Plataforms\\Python\\Python Base Original\\lib\\site-packages\\sklearn\\metrics\\_scorer.py\", line 68, in _cached_call\n",
      "    return getattr(estimator, method)(*args, **kwargs)\n",
      "  File \"D:\\Data Analysis and Science\\Data Manipulation\\Plataforms\\Python\\Python Base Original\\lib\\site-packages\\sklearn\\utils\\metaestimators.py\", line 109, in __get__\n",
      "    if not self.check(obj):\n",
      "  File \"D:\\Data Analysis and Science\\Data Manipulation\\Plataforms\\Python\\Python Base Original\\lib\\site-packages\\sklearn\\svm\\_base.py\", line 800, in _check_proba\n",
      "    raise AttributeError(\n",
      "AttributeError: predict_proba is not available when  probability=False\n",
      "\n",
      "  warnings.warn(\n",
      "D:\\Data Analysis and Science\\Data Manipulation\\Plataforms\\Python\\Python Base Original\\lib\\site-packages\\sklearn\\model_selection\\_validation.py:770: UserWarning: Scoring failed. The score on this train-test partition for these parameters will be set to nan. Details: \n",
      "Traceback (most recent call last):\n",
      "  File \"D:\\Data Analysis and Science\\Data Manipulation\\Plataforms\\Python\\Python Base Original\\lib\\site-packages\\sklearn\\model_selection\\_validation.py\", line 761, in _score\n",
      "    scores = scorer(estimator, X_test, y_test)\n",
      "  File \"D:\\Data Analysis and Science\\Data Manipulation\\Plataforms\\Python\\Python Base Original\\lib\\site-packages\\sklearn\\metrics\\_scorer.py\", line 103, in __call__\n",
      "    score = scorer._score(cached_call, estimator, *args, **kwargs)\n",
      "  File \"D:\\Data Analysis and Science\\Data Manipulation\\Plataforms\\Python\\Python Base Original\\lib\\site-packages\\sklearn\\metrics\\_scorer.py\", line 298, in _score\n",
      "    y_pred = method_caller(clf, \"predict_proba\", X)\n",
      "  File \"D:\\Data Analysis and Science\\Data Manipulation\\Plataforms\\Python\\Python Base Original\\lib\\site-packages\\sklearn\\metrics\\_scorer.py\", line 68, in _cached_call\n",
      "    return getattr(estimator, method)(*args, **kwargs)\n",
      "  File \"D:\\Data Analysis and Science\\Data Manipulation\\Plataforms\\Python\\Python Base Original\\lib\\site-packages\\sklearn\\utils\\metaestimators.py\", line 109, in __get__\n",
      "    if not self.check(obj):\n",
      "  File \"D:\\Data Analysis and Science\\Data Manipulation\\Plataforms\\Python\\Python Base Original\\lib\\site-packages\\sklearn\\svm\\_base.py\", line 800, in _check_proba\n",
      "    raise AttributeError(\n",
      "AttributeError: predict_proba is not available when  probability=False\n",
      "\n",
      "  warnings.warn(\n",
      "D:\\Data Analysis and Science\\Data Manipulation\\Plataforms\\Python\\Python Base Original\\lib\\site-packages\\sklearn\\model_selection\\_validation.py:770: UserWarning: Scoring failed. The score on this train-test partition for these parameters will be set to nan. Details: \n",
      "Traceback (most recent call last):\n",
      "  File \"D:\\Data Analysis and Science\\Data Manipulation\\Plataforms\\Python\\Python Base Original\\lib\\site-packages\\sklearn\\model_selection\\_validation.py\", line 761, in _score\n",
      "    scores = scorer(estimator, X_test, y_test)\n",
      "  File \"D:\\Data Analysis and Science\\Data Manipulation\\Plataforms\\Python\\Python Base Original\\lib\\site-packages\\sklearn\\metrics\\_scorer.py\", line 103, in __call__\n",
      "    score = scorer._score(cached_call, estimator, *args, **kwargs)\n",
      "  File \"D:\\Data Analysis and Science\\Data Manipulation\\Plataforms\\Python\\Python Base Original\\lib\\site-packages\\sklearn\\metrics\\_scorer.py\", line 298, in _score\n",
      "    y_pred = method_caller(clf, \"predict_proba\", X)\n",
      "  File \"D:\\Data Analysis and Science\\Data Manipulation\\Plataforms\\Python\\Python Base Original\\lib\\site-packages\\sklearn\\metrics\\_scorer.py\", line 68, in _cached_call\n",
      "    return getattr(estimator, method)(*args, **kwargs)\n",
      "  File \"D:\\Data Analysis and Science\\Data Manipulation\\Plataforms\\Python\\Python Base Original\\lib\\site-packages\\sklearn\\utils\\metaestimators.py\", line 109, in __get__\n",
      "    if not self.check(obj):\n",
      "  File \"D:\\Data Analysis and Science\\Data Manipulation\\Plataforms\\Python\\Python Base Original\\lib\\site-packages\\sklearn\\svm\\_base.py\", line 800, in _check_proba\n",
      "    raise AttributeError(\n",
      "AttributeError: predict_proba is not available when  probability=False\n",
      "\n",
      "  warnings.warn(\n",
      "D:\\Data Analysis and Science\\Data Manipulation\\Plataforms\\Python\\Python Base Original\\lib\\site-packages\\sklearn\\model_selection\\_validation.py:770: UserWarning: Scoring failed. The score on this train-test partition for these parameters will be set to nan. Details: \n",
      "Traceback (most recent call last):\n",
      "  File \"D:\\Data Analysis and Science\\Data Manipulation\\Plataforms\\Python\\Python Base Original\\lib\\site-packages\\sklearn\\model_selection\\_validation.py\", line 761, in _score\n",
      "    scores = scorer(estimator, X_test, y_test)\n",
      "  File \"D:\\Data Analysis and Science\\Data Manipulation\\Plataforms\\Python\\Python Base Original\\lib\\site-packages\\sklearn\\metrics\\_scorer.py\", line 103, in __call__\n",
      "    score = scorer._score(cached_call, estimator, *args, **kwargs)\n",
      "  File \"D:\\Data Analysis and Science\\Data Manipulation\\Plataforms\\Python\\Python Base Original\\lib\\site-packages\\sklearn\\metrics\\_scorer.py\", line 298, in _score\n",
      "    y_pred = method_caller(clf, \"predict_proba\", X)\n",
      "  File \"D:\\Data Analysis and Science\\Data Manipulation\\Plataforms\\Python\\Python Base Original\\lib\\site-packages\\sklearn\\metrics\\_scorer.py\", line 68, in _cached_call\n",
      "    return getattr(estimator, method)(*args, **kwargs)\n",
      "  File \"D:\\Data Analysis and Science\\Data Manipulation\\Plataforms\\Python\\Python Base Original\\lib\\site-packages\\sklearn\\utils\\metaestimators.py\", line 109, in __get__\n",
      "    if not self.check(obj):\n",
      "  File \"D:\\Data Analysis and Science\\Data Manipulation\\Plataforms\\Python\\Python Base Original\\lib\\site-packages\\sklearn\\svm\\_base.py\", line 800, in _check_proba\n",
      "    raise AttributeError(\n",
      "AttributeError: predict_proba is not available when  probability=False\n",
      "\n",
      "  warnings.warn(\n",
      "D:\\Data Analysis and Science\\Data Manipulation\\Plataforms\\Python\\Python Base Original\\lib\\site-packages\\sklearn\\model_selection\\_validation.py:770: UserWarning: Scoring failed. The score on this train-test partition for these parameters will be set to nan. Details: \n",
      "Traceback (most recent call last):\n",
      "  File \"D:\\Data Analysis and Science\\Data Manipulation\\Plataforms\\Python\\Python Base Original\\lib\\site-packages\\sklearn\\model_selection\\_validation.py\", line 761, in _score\n",
      "    scores = scorer(estimator, X_test, y_test)\n",
      "  File \"D:\\Data Analysis and Science\\Data Manipulation\\Plataforms\\Python\\Python Base Original\\lib\\site-packages\\sklearn\\metrics\\_scorer.py\", line 103, in __call__\n",
      "    score = scorer._score(cached_call, estimator, *args, **kwargs)\n",
      "  File \"D:\\Data Analysis and Science\\Data Manipulation\\Plataforms\\Python\\Python Base Original\\lib\\site-packages\\sklearn\\metrics\\_scorer.py\", line 298, in _score\n",
      "    y_pred = method_caller(clf, \"predict_proba\", X)\n",
      "  File \"D:\\Data Analysis and Science\\Data Manipulation\\Plataforms\\Python\\Python Base Original\\lib\\site-packages\\sklearn\\metrics\\_scorer.py\", line 68, in _cached_call\n",
      "    return getattr(estimator, method)(*args, **kwargs)\n",
      "  File \"D:\\Data Analysis and Science\\Data Manipulation\\Plataforms\\Python\\Python Base Original\\lib\\site-packages\\sklearn\\utils\\metaestimators.py\", line 109, in __get__\n",
      "    if not self.check(obj):\n",
      "  File \"D:\\Data Analysis and Science\\Data Manipulation\\Plataforms\\Python\\Python Base Original\\lib\\site-packages\\sklearn\\svm\\_base.py\", line 800, in _check_proba\n",
      "    raise AttributeError(\n",
      "AttributeError: predict_proba is not available when  probability=False\n",
      "\n",
      "  warnings.warn(\n",
      "D:\\Data Analysis and Science\\Data Manipulation\\Plataforms\\Python\\Python Base Original\\lib\\site-packages\\sklearn\\model_selection\\_validation.py:770: UserWarning: Scoring failed. The score on this train-test partition for these parameters will be set to nan. Details: \n",
      "Traceback (most recent call last):\n",
      "  File \"D:\\Data Analysis and Science\\Data Manipulation\\Plataforms\\Python\\Python Base Original\\lib\\site-packages\\sklearn\\model_selection\\_validation.py\", line 761, in _score\n",
      "    scores = scorer(estimator, X_test, y_test)\n",
      "  File \"D:\\Data Analysis and Science\\Data Manipulation\\Plataforms\\Python\\Python Base Original\\lib\\site-packages\\sklearn\\metrics\\_scorer.py\", line 103, in __call__\n",
      "    score = scorer._score(cached_call, estimator, *args, **kwargs)\n",
      "  File \"D:\\Data Analysis and Science\\Data Manipulation\\Plataforms\\Python\\Python Base Original\\lib\\site-packages\\sklearn\\metrics\\_scorer.py\", line 298, in _score\n",
      "    y_pred = method_caller(clf, \"predict_proba\", X)\n",
      "  File \"D:\\Data Analysis and Science\\Data Manipulation\\Plataforms\\Python\\Python Base Original\\lib\\site-packages\\sklearn\\metrics\\_scorer.py\", line 68, in _cached_call\n",
      "    return getattr(estimator, method)(*args, **kwargs)\n",
      "  File \"D:\\Data Analysis and Science\\Data Manipulation\\Plataforms\\Python\\Python Base Original\\lib\\site-packages\\sklearn\\utils\\metaestimators.py\", line 109, in __get__\n",
      "    if not self.check(obj):\n",
      "  File \"D:\\Data Analysis and Science\\Data Manipulation\\Plataforms\\Python\\Python Base Original\\lib\\site-packages\\sklearn\\svm\\_base.py\", line 800, in _check_proba\n",
      "    raise AttributeError(\n",
      "AttributeError: predict_proba is not available when  probability=False\n",
      "\n",
      "  warnings.warn(\n",
      "D:\\Data Analysis and Science\\Data Manipulation\\Plataforms\\Python\\Python Base Original\\lib\\site-packages\\sklearn\\model_selection\\_validation.py:770: UserWarning: Scoring failed. The score on this train-test partition for these parameters will be set to nan. Details: \n",
      "Traceback (most recent call last):\n",
      "  File \"D:\\Data Analysis and Science\\Data Manipulation\\Plataforms\\Python\\Python Base Original\\lib\\site-packages\\sklearn\\model_selection\\_validation.py\", line 761, in _score\n",
      "    scores = scorer(estimator, X_test, y_test)\n",
      "  File \"D:\\Data Analysis and Science\\Data Manipulation\\Plataforms\\Python\\Python Base Original\\lib\\site-packages\\sklearn\\metrics\\_scorer.py\", line 103, in __call__\n",
      "    score = scorer._score(cached_call, estimator, *args, **kwargs)\n",
      "  File \"D:\\Data Analysis and Science\\Data Manipulation\\Plataforms\\Python\\Python Base Original\\lib\\site-packages\\sklearn\\metrics\\_scorer.py\", line 298, in _score\n",
      "    y_pred = method_caller(clf, \"predict_proba\", X)\n",
      "  File \"D:\\Data Analysis and Science\\Data Manipulation\\Plataforms\\Python\\Python Base Original\\lib\\site-packages\\sklearn\\metrics\\_scorer.py\", line 68, in _cached_call\n",
      "    return getattr(estimator, method)(*args, **kwargs)\n",
      "  File \"D:\\Data Analysis and Science\\Data Manipulation\\Plataforms\\Python\\Python Base Original\\lib\\site-packages\\sklearn\\utils\\metaestimators.py\", line 109, in __get__\n",
      "    if not self.check(obj):\n",
      "  File \"D:\\Data Analysis and Science\\Data Manipulation\\Plataforms\\Python\\Python Base Original\\lib\\site-packages\\sklearn\\svm\\_base.py\", line 800, in _check_proba\n",
      "    raise AttributeError(\n",
      "AttributeError: predict_proba is not available when  probability=False\n",
      "\n",
      "  warnings.warn(\n",
      "D:\\Data Analysis and Science\\Data Manipulation\\Plataforms\\Python\\Python Base Original\\lib\\site-packages\\sklearn\\model_selection\\_validation.py:770: UserWarning: Scoring failed. The score on this train-test partition for these parameters will be set to nan. Details: \n",
      "Traceback (most recent call last):\n",
      "  File \"D:\\Data Analysis and Science\\Data Manipulation\\Plataforms\\Python\\Python Base Original\\lib\\site-packages\\sklearn\\model_selection\\_validation.py\", line 761, in _score\n",
      "    scores = scorer(estimator, X_test, y_test)\n",
      "  File \"D:\\Data Analysis and Science\\Data Manipulation\\Plataforms\\Python\\Python Base Original\\lib\\site-packages\\sklearn\\metrics\\_scorer.py\", line 103, in __call__\n",
      "    score = scorer._score(cached_call, estimator, *args, **kwargs)\n",
      "  File \"D:\\Data Analysis and Science\\Data Manipulation\\Plataforms\\Python\\Python Base Original\\lib\\site-packages\\sklearn\\metrics\\_scorer.py\", line 298, in _score\n",
      "    y_pred = method_caller(clf, \"predict_proba\", X)\n",
      "  File \"D:\\Data Analysis and Science\\Data Manipulation\\Plataforms\\Python\\Python Base Original\\lib\\site-packages\\sklearn\\metrics\\_scorer.py\", line 68, in _cached_call\n",
      "    return getattr(estimator, method)(*args, **kwargs)\n",
      "  File \"D:\\Data Analysis and Science\\Data Manipulation\\Plataforms\\Python\\Python Base Original\\lib\\site-packages\\sklearn\\utils\\metaestimators.py\", line 109, in __get__\n",
      "    if not self.check(obj):\n",
      "  File \"D:\\Data Analysis and Science\\Data Manipulation\\Plataforms\\Python\\Python Base Original\\lib\\site-packages\\sklearn\\svm\\_base.py\", line 800, in _check_proba\n",
      "    raise AttributeError(\n",
      "AttributeError: predict_proba is not available when  probability=False\n",
      "\n",
      "  warnings.warn(\n",
      "D:\\Data Analysis and Science\\Data Manipulation\\Plataforms\\Python\\Python Base Original\\lib\\site-packages\\sklearn\\model_selection\\_validation.py:770: UserWarning: Scoring failed. The score on this train-test partition for these parameters will be set to nan. Details: \n",
      "Traceback (most recent call last):\n",
      "  File \"D:\\Data Analysis and Science\\Data Manipulation\\Plataforms\\Python\\Python Base Original\\lib\\site-packages\\sklearn\\model_selection\\_validation.py\", line 761, in _score\n",
      "    scores = scorer(estimator, X_test, y_test)\n",
      "  File \"D:\\Data Analysis and Science\\Data Manipulation\\Plataforms\\Python\\Python Base Original\\lib\\site-packages\\sklearn\\metrics\\_scorer.py\", line 103, in __call__\n",
      "    score = scorer._score(cached_call, estimator, *args, **kwargs)\n",
      "  File \"D:\\Data Analysis and Science\\Data Manipulation\\Plataforms\\Python\\Python Base Original\\lib\\site-packages\\sklearn\\metrics\\_scorer.py\", line 298, in _score\n",
      "    y_pred = method_caller(clf, \"predict_proba\", X)\n",
      "  File \"D:\\Data Analysis and Science\\Data Manipulation\\Plataforms\\Python\\Python Base Original\\lib\\site-packages\\sklearn\\metrics\\_scorer.py\", line 68, in _cached_call\n",
      "    return getattr(estimator, method)(*args, **kwargs)\n",
      "  File \"D:\\Data Analysis and Science\\Data Manipulation\\Plataforms\\Python\\Python Base Original\\lib\\site-packages\\sklearn\\utils\\metaestimators.py\", line 109, in __get__\n",
      "    if not self.check(obj):\n",
      "  File \"D:\\Data Analysis and Science\\Data Manipulation\\Plataforms\\Python\\Python Base Original\\lib\\site-packages\\sklearn\\svm\\_base.py\", line 800, in _check_proba\n",
      "    raise AttributeError(\n",
      "AttributeError: predict_proba is not available when  probability=False\n",
      "\n",
      "  warnings.warn(\n"
     ]
    },
    {
     "name": "stdout",
     "output_type": "stream",
     "text": [
      "Logloss: nan (nan)\n"
     ]
    },
    {
     "name": "stderr",
     "output_type": "stream",
     "text": [
      "D:\\Data Analysis and Science\\Data Manipulation\\Plataforms\\Python\\Python Base Original\\lib\\site-packages\\sklearn\\model_selection\\_validation.py:770: UserWarning: Scoring failed. The score on this train-test partition for these parameters will be set to nan. Details: \n",
      "Traceback (most recent call last):\n",
      "  File \"D:\\Data Analysis and Science\\Data Manipulation\\Plataforms\\Python\\Python Base Original\\lib\\site-packages\\sklearn\\model_selection\\_validation.py\", line 761, in _score\n",
      "    scores = scorer(estimator, X_test, y_test)\n",
      "  File \"D:\\Data Analysis and Science\\Data Manipulation\\Plataforms\\Python\\Python Base Original\\lib\\site-packages\\sklearn\\metrics\\_scorer.py\", line 103, in __call__\n",
      "    score = scorer._score(cached_call, estimator, *args, **kwargs)\n",
      "  File \"D:\\Data Analysis and Science\\Data Manipulation\\Plataforms\\Python\\Python Base Original\\lib\\site-packages\\sklearn\\metrics\\_scorer.py\", line 298, in _score\n",
      "    y_pred = method_caller(clf, \"predict_proba\", X)\n",
      "  File \"D:\\Data Analysis and Science\\Data Manipulation\\Plataforms\\Python\\Python Base Original\\lib\\site-packages\\sklearn\\metrics\\_scorer.py\", line 68, in _cached_call\n",
      "    return getattr(estimator, method)(*args, **kwargs)\n",
      "  File \"D:\\Data Analysis and Science\\Data Manipulation\\Plataforms\\Python\\Python Base Original\\lib\\site-packages\\sklearn\\utils\\metaestimators.py\", line 109, in __get__\n",
      "    if not self.check(obj):\n",
      "  File \"D:\\Data Analysis and Science\\Data Manipulation\\Plataforms\\Python\\Python Base Original\\lib\\site-packages\\sklearn\\svm\\_base.py\", line 800, in _check_proba\n",
      "    raise AttributeError(\n",
      "AttributeError: predict_proba is not available when  probability=False\n",
      "\n",
      "  warnings.warn(\n"
     ]
    }
   ],
   "source": [
    "# Cross Validation Classification LogLoss\n",
    "import pandas\n",
    "from sklearn import model_selection\n",
    "\n",
    "kfold = model_selection.KFold(n_splits=10, random_state=7, shuffle=True)\n",
    "model = svm.SVC(kernel='linear')\n",
    "scoring = 'neg_log_loss'\n",
    "results = model_selection.cross_val_score(model, X_test, y_test, cv=kfold, scoring=scoring)\n",
    "print(\"Logloss: %.3f (%.3f)\" % (results.mean(), results.std()))"
   ],
   "metadata": {
    "collapsed": false,
    "pycharm": {
     "name": "#%%\n"
    }
   }
  },
  {
   "cell_type": "code",
   "execution_count": 33,
   "outputs": [
    {
     "name": "stdout",
     "output_type": "stream",
     "text": [
      "Total runtime of the program is 8369.131312131882\n"
     ]
    }
   ],
   "source": [
    "# program body ends\n",
    "\n",
    "# store end time\n",
    "end = time.time()\n",
    "\n",
    "# total time taken\n",
    "print(f\"Total runtime of the program is {end - begin}\")"
   ],
   "metadata": {
    "collapsed": false,
    "pycharm": {
     "name": "#%%\n"
    }
   }
  }
 ],
 "metadata": {
  "kernelspec": {
   "display_name": "Python 3",
   "language": "python",
   "name": "python3"
  },
  "language_info": {
   "codemirror_mode": {
    "name": "ipython",
    "version": 2
   },
   "file_extension": ".py",
   "mimetype": "text/x-python",
   "name": "python",
   "nbconvert_exporter": "python",
   "pygments_lexer": "ipython2",
   "version": "2.7.6"
  }
 },
 "nbformat": 4,
 "nbformat_minor": 0
}