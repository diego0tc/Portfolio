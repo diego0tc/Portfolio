{
 "cells": [
  {
   "cell_type": "code",
   "source": [
    "import numpy as np\n",
    "#import pandas_profiling\n",
    "import pandas as pd"
   ],
   "metadata": {
    "collapsed": false,
    "pycharm": {
     "name": "#%%\n"
    }
   },
   "execution_count": 65,
   "outputs": []
  },
  {
   "cell_type": "code",
   "execution_count": 66,
   "outputs": [],
   "source": [
    "\n",
    "import matplotlib.pyplot as plt\n",
    "import seaborn as sns\n",
    "%matplotlib inline\n",
    "from sklearn.model_selection import train_test_split\n",
    "from sklearn.feature_selection import mutual_info_regression, mutual_info_classif"
   ],
   "metadata": {
    "collapsed": false,
    "pycharm": {
     "name": "#%%\n"
    }
   }
  },
  {
   "cell_type": "code",
   "execution_count": 67,
   "metadata": {
    "collapsed": true
   },
   "outputs": [
    {
     "data": {
      "text/plain": "        Unnamed: 0 Animal_ID     Name      DateTime_Intake  \\\n0                0   a786884   *brock  2019-01-03 04:19:00   \n1                1   a706918    belle  2015-07-05 12:59:00   \n2                2   a724273  runster  2016-04-14 06:43:00   \n3                3   a665644  unknown  2013-10-21 07:59:00   \n4                4   a682524      rio  2014-06-29 10:38:00   \n...            ...       ...      ...                  ...   \n109116      110490   a830164  unknown  2021-03-03 02:17:00   \n109117      110491   a829701  pee wee  2021-02-21 02:56:00   \n109118      110492   a765174   carson  2018-01-14 11:31:00   \n109119      110493   a829868     remy  2021-02-25 11:40:00   \n109120      110494   a828158     odin  2021-01-08 07:01:00   \n\n                              Found_Location      Intake_type  \\\n0        2501 magin meadow dr in austin (tx)            stray   \n1           9409 bluegrass dr in austin (tx)            stray   \n2         2818 palomino trail in austin (tx)            stray   \n3                                austin (tx)            stray   \n4              800 grove blvd in austin (tx)            stray   \n...                                      ...              ...   \n109116                           travis (tx)  owner surrender   \n109117  16201 biltmore avenue in travis (tx)            stray   \n109118                           austin (tx)  owner surrender   \n109119                 valdez in austin (tx)            stray   \n109120        2224 e stassney in austin (tx)            stray   \n\n       Intake_Condition Animal_Type  Age_upon_Intake Mix_Breed  ...      Sex  \\\n0                normal         dog         2.000000       yes  ...     male   \n1                normal         dog         8.000000        no  ...   female   \n2                normal         dog         0.916667       yes  ...     male   \n3                  sick         cat         0.076660       yes  ...   female   \n4                normal         dog         4.000000        no  ...     male   \n...                 ...         ...              ...       ...  ...      ...   \n109116           normal         dog         0.083333       yes  ...  unknown   \n109117           normal         dog         3.000000        no  ...     male   \n109118           normal         dog         0.083333       yes  ...     male   \n109119           normal         dog         1.000000        no  ...     male   \n109120           normal         dog         0.833333       yes  ...     male   \n\n       neuter/spay adopted/non-adopted Days_in_shelter Breed_size  \\\n0              yes         non-adopted             4.0      small   \n1              yes             adopted             0.0     medium   \n2              yes             adopted             6.0      small   \n3               no         non-adopted             0.0    Unknown   \n4              yes             adopted             2.0      large   \n...            ...                 ...             ...        ...   \n109116     unknown         non-adopted             0.0      small   \n109117          no             adopted             0.0     xsmall   \n109118         yes             adopted             0.0     xsmall   \n109119         yes             adopted             5.0      small   \n109120         yes             adopted            53.0      large   \n\n       Trainability Breed_characteristic Barking_level  activity_level  \\\n0         agreeable           family_dog      frequent     medium_high   \n1           pleaser           Not_define        medium      medium_low   \n2       independent   apartment_friendly          rare     medium_high   \n3           Unknown           Not_define       Unknown      not_define   \n4           pleaser            guard_dog        medium            high   \n...             ...                  ...           ...             ...   \n109116    agreeable           family_dog          rare      medium_low   \n109117  independent   apartment_friendly   very_common      medium_low   \n109118  independent   apartment_friendly   very_common      medium_low   \n109119    agreeable           family_dog      frequent     medium_high   \n109120    agreeable            guard_dog          rare      medium_low   \n\n           breed_group  \n0          hound_group  \n1       sporting_group  \n2          hound_group  \n3           not_define  \n4        working_group  \n...                ...  \n109116       toy_group  \n109117       toy_group  \n109118       toy_group  \n109119     hound_group  \n109120   working_group  \n\n[109121 rows x 30 columns]",
      "text/html": "<div>\n<style scoped>\n    .dataframe tbody tr th:only-of-type {\n        vertical-align: middle;\n    }\n\n    .dataframe tbody tr th {\n        vertical-align: top;\n    }\n\n    .dataframe thead th {\n        text-align: right;\n    }\n</style>\n<table border=\"1\" class=\"dataframe\">\n  <thead>\n    <tr style=\"text-align: right;\">\n      <th></th>\n      <th>Unnamed: 0</th>\n      <th>Animal_ID</th>\n      <th>Name</th>\n      <th>DateTime_Intake</th>\n      <th>Found_Location</th>\n      <th>Intake_type</th>\n      <th>Intake_Condition</th>\n      <th>Animal_Type</th>\n      <th>Age_upon_Intake</th>\n      <th>Mix_Breed</th>\n      <th>...</th>\n      <th>Sex</th>\n      <th>neuter/spay</th>\n      <th>adopted/non-adopted</th>\n      <th>Days_in_shelter</th>\n      <th>Breed_size</th>\n      <th>Trainability</th>\n      <th>Breed_characteristic</th>\n      <th>Barking_level</th>\n      <th>activity_level</th>\n      <th>breed_group</th>\n    </tr>\n  </thead>\n  <tbody>\n    <tr>\n      <th>0</th>\n      <td>0</td>\n      <td>a786884</td>\n      <td>*brock</td>\n      <td>2019-01-03 04:19:00</td>\n      <td>2501 magin meadow dr in austin (tx)</td>\n      <td>stray</td>\n      <td>normal</td>\n      <td>dog</td>\n      <td>2.000000</td>\n      <td>yes</td>\n      <td>...</td>\n      <td>male</td>\n      <td>yes</td>\n      <td>non-adopted</td>\n      <td>4.0</td>\n      <td>small</td>\n      <td>agreeable</td>\n      <td>family_dog</td>\n      <td>frequent</td>\n      <td>medium_high</td>\n      <td>hound_group</td>\n    </tr>\n    <tr>\n      <th>1</th>\n      <td>1</td>\n      <td>a706918</td>\n      <td>belle</td>\n      <td>2015-07-05 12:59:00</td>\n      <td>9409 bluegrass dr in austin (tx)</td>\n      <td>stray</td>\n      <td>normal</td>\n      <td>dog</td>\n      <td>8.000000</td>\n      <td>no</td>\n      <td>...</td>\n      <td>female</td>\n      <td>yes</td>\n      <td>adopted</td>\n      <td>0.0</td>\n      <td>medium</td>\n      <td>pleaser</td>\n      <td>Not_define</td>\n      <td>medium</td>\n      <td>medium_low</td>\n      <td>sporting_group</td>\n    </tr>\n    <tr>\n      <th>2</th>\n      <td>2</td>\n      <td>a724273</td>\n      <td>runster</td>\n      <td>2016-04-14 06:43:00</td>\n      <td>2818 palomino trail in austin (tx)</td>\n      <td>stray</td>\n      <td>normal</td>\n      <td>dog</td>\n      <td>0.916667</td>\n      <td>yes</td>\n      <td>...</td>\n      <td>male</td>\n      <td>yes</td>\n      <td>adopted</td>\n      <td>6.0</td>\n      <td>small</td>\n      <td>independent</td>\n      <td>apartment_friendly</td>\n      <td>rare</td>\n      <td>medium_high</td>\n      <td>hound_group</td>\n    </tr>\n    <tr>\n      <th>3</th>\n      <td>3</td>\n      <td>a665644</td>\n      <td>unknown</td>\n      <td>2013-10-21 07:59:00</td>\n      <td>austin (tx)</td>\n      <td>stray</td>\n      <td>sick</td>\n      <td>cat</td>\n      <td>0.076660</td>\n      <td>yes</td>\n      <td>...</td>\n      <td>female</td>\n      <td>no</td>\n      <td>non-adopted</td>\n      <td>0.0</td>\n      <td>Unknown</td>\n      <td>Unknown</td>\n      <td>Not_define</td>\n      <td>Unknown</td>\n      <td>not_define</td>\n      <td>not_define</td>\n    </tr>\n    <tr>\n      <th>4</th>\n      <td>4</td>\n      <td>a682524</td>\n      <td>rio</td>\n      <td>2014-06-29 10:38:00</td>\n      <td>800 grove blvd in austin (tx)</td>\n      <td>stray</td>\n      <td>normal</td>\n      <td>dog</td>\n      <td>4.000000</td>\n      <td>no</td>\n      <td>...</td>\n      <td>male</td>\n      <td>yes</td>\n      <td>adopted</td>\n      <td>2.0</td>\n      <td>large</td>\n      <td>pleaser</td>\n      <td>guard_dog</td>\n      <td>medium</td>\n      <td>high</td>\n      <td>working_group</td>\n    </tr>\n    <tr>\n      <th>...</th>\n      <td>...</td>\n      <td>...</td>\n      <td>...</td>\n      <td>...</td>\n      <td>...</td>\n      <td>...</td>\n      <td>...</td>\n      <td>...</td>\n      <td>...</td>\n      <td>...</td>\n      <td>...</td>\n      <td>...</td>\n      <td>...</td>\n      <td>...</td>\n      <td>...</td>\n      <td>...</td>\n      <td>...</td>\n      <td>...</td>\n      <td>...</td>\n      <td>...</td>\n      <td>...</td>\n    </tr>\n    <tr>\n      <th>109116</th>\n      <td>110490</td>\n      <td>a830164</td>\n      <td>unknown</td>\n      <td>2021-03-03 02:17:00</td>\n      <td>travis (tx)</td>\n      <td>owner surrender</td>\n      <td>normal</td>\n      <td>dog</td>\n      <td>0.083333</td>\n      <td>yes</td>\n      <td>...</td>\n      <td>unknown</td>\n      <td>unknown</td>\n      <td>non-adopted</td>\n      <td>0.0</td>\n      <td>small</td>\n      <td>agreeable</td>\n      <td>family_dog</td>\n      <td>rare</td>\n      <td>medium_low</td>\n      <td>toy_group</td>\n    </tr>\n    <tr>\n      <th>109117</th>\n      <td>110491</td>\n      <td>a829701</td>\n      <td>pee wee</td>\n      <td>2021-02-21 02:56:00</td>\n      <td>16201 biltmore avenue in travis (tx)</td>\n      <td>stray</td>\n      <td>normal</td>\n      <td>dog</td>\n      <td>3.000000</td>\n      <td>no</td>\n      <td>...</td>\n      <td>male</td>\n      <td>no</td>\n      <td>adopted</td>\n      <td>0.0</td>\n      <td>xsmall</td>\n      <td>independent</td>\n      <td>apartment_friendly</td>\n      <td>very_common</td>\n      <td>medium_low</td>\n      <td>toy_group</td>\n    </tr>\n    <tr>\n      <th>109118</th>\n      <td>110492</td>\n      <td>a765174</td>\n      <td>carson</td>\n      <td>2018-01-14 11:31:00</td>\n      <td>austin (tx)</td>\n      <td>owner surrender</td>\n      <td>normal</td>\n      <td>dog</td>\n      <td>0.083333</td>\n      <td>yes</td>\n      <td>...</td>\n      <td>male</td>\n      <td>yes</td>\n      <td>adopted</td>\n      <td>0.0</td>\n      <td>xsmall</td>\n      <td>independent</td>\n      <td>apartment_friendly</td>\n      <td>very_common</td>\n      <td>medium_low</td>\n      <td>toy_group</td>\n    </tr>\n    <tr>\n      <th>109119</th>\n      <td>110493</td>\n      <td>a829868</td>\n      <td>remy</td>\n      <td>2021-02-25 11:40:00</td>\n      <td>valdez in austin (tx)</td>\n      <td>stray</td>\n      <td>normal</td>\n      <td>dog</td>\n      <td>1.000000</td>\n      <td>no</td>\n      <td>...</td>\n      <td>male</td>\n      <td>yes</td>\n      <td>adopted</td>\n      <td>5.0</td>\n      <td>small</td>\n      <td>agreeable</td>\n      <td>family_dog</td>\n      <td>frequent</td>\n      <td>medium_high</td>\n      <td>hound_group</td>\n    </tr>\n    <tr>\n      <th>109120</th>\n      <td>110494</td>\n      <td>a828158</td>\n      <td>odin</td>\n      <td>2021-01-08 07:01:00</td>\n      <td>2224 e stassney in austin (tx)</td>\n      <td>stray</td>\n      <td>normal</td>\n      <td>dog</td>\n      <td>0.833333</td>\n      <td>yes</td>\n      <td>...</td>\n      <td>male</td>\n      <td>yes</td>\n      <td>adopted</td>\n      <td>53.0</td>\n      <td>large</td>\n      <td>agreeable</td>\n      <td>guard_dog</td>\n      <td>rare</td>\n      <td>medium_low</td>\n      <td>working_group</td>\n    </tr>\n  </tbody>\n</table>\n<p>109121 rows × 30 columns</p>\n</div>"
     },
     "execution_count": 67,
     "metadata": {},
     "output_type": "execute_result"
    }
   ],
   "source": [
    "df_total = pd.read_csv('df_total1.csv')\n",
    "df_total"
   ]
  },
  {
   "cell_type": "markdown",
   "source": [
    "# Data Preparation"
   ],
   "metadata": {
    "collapsed": false
   }
  },
  {
   "cell_type": "code",
   "execution_count": 68,
   "outputs": [
    {
     "name": "stderr",
     "output_type": "stream",
     "text": [
      "C:\\Users\\diedr\\AppData\\Local\\Temp\\ipykernel_28932\\3061698073.py:2: FutureWarning: In a future version of pandas all arguments of DataFrame.drop except for the argument 'labels' will be keyword-only.\n",
      "  df_total = df_total.drop('Unnamed: 0',1)\n",
      "C:\\Users\\diedr\\AppData\\Local\\Temp\\ipykernel_28932\\3061698073.py:6: FutureWarning: In a future version of pandas all arguments of DataFrame.drop except for the argument 'labels' will be keyword-only.\n",
      "  df_total = df_total.drop('Animal_ID',1) #@@@@@@@\n",
      "C:\\Users\\diedr\\AppData\\Local\\Temp\\ipykernel_28932\\3061698073.py:7: FutureWarning: In a future version of pandas all arguments of DataFrame.drop except for the argument 'labels' will be keyword-only.\n",
      "  df_total = df_total.drop('Name',1)\n",
      "C:\\Users\\diedr\\AppData\\Local\\Temp\\ipykernel_28932\\3061698073.py:11: FutureWarning: In a future version of pandas all arguments of DataFrame.drop except for the argument 'labels' will be keyword-only.\n",
      "  df_total = df_total.drop('Location',1)\n",
      "C:\\Users\\diedr\\AppData\\Local\\Temp\\ipykernel_28932\\3061698073.py:12: FutureWarning: In a future version of pandas all arguments of DataFrame.drop except for the argument 'labels' will be keyword-only.\n",
      "  df_total = df_total.drop('Found_Location',1)    #@@@@@@@@@\n"
     ]
    },
    {
     "name": "stdout",
     "output_type": "stream",
     "text": [
      "<class 'pandas.core.frame.DataFrame'>\n",
      "RangeIndex: 109121 entries, 0 to 109120\n",
      "Data columns (total 25 columns):\n",
      " #   Column                Non-Null Count   Dtype  \n",
      "---  ------                --------------   -----  \n",
      " 0   DateTime_Intake       109121 non-null  object \n",
      " 1   Intake_type           109121 non-null  object \n",
      " 2   Intake_Condition      109121 non-null  object \n",
      " 3   Animal_Type           109121 non-null  object \n",
      " 4   Age_upon_Intake       109121 non-null  float64\n",
      " 5   Mix_Breed             109121 non-null  object \n",
      " 6   Primary_Breed         109121 non-null  object \n",
      " 7   Secondary_Breed       109121 non-null  object \n",
      " 8   Main_Color            109121 non-null  object \n",
      " 9   Secondary_Color       109121 non-null  object \n",
      " 10  DateTime_Outcome      109121 non-null  object \n",
      " 11  Date of Birth         109121 non-null  object \n",
      " 12  Outcome_Type          109121 non-null  object \n",
      " 13  Outcome_Subtype       109121 non-null  object \n",
      " 14  Age_upon_Outcome      109121 non-null  float64\n",
      " 15  Sex                   109121 non-null  object \n",
      " 16  neuter/spay           109121 non-null  object \n",
      " 17  adopted/non-adopted   109121 non-null  object \n",
      " 18  Days_in_shelter       109121 non-null  float64\n",
      " 19  Breed_size            109121 non-null  object \n",
      " 20  Trainability          109121 non-null  object \n",
      " 21  Breed_characteristic  109121 non-null  object \n",
      " 22  Barking_level         109121 non-null  object \n",
      " 23  activity_level        109121 non-null  object \n",
      " 24  breed_group           109121 non-null  object \n",
      "dtypes: float64(3), object(22)\n",
      "memory usage: 20.8+ MB\n"
     ]
    },
    {
     "name": "stderr",
     "output_type": "stream",
     "text": [
      "C:\\Users\\diedr\\AppData\\Local\\Temp\\ipykernel_28932\\3061698073.py:19: FutureWarning: In a future version of pandas all arguments of DataFrame.drop except for the argument 'labels' will be keyword-only.\n",
      "  df_total = df_total.drop('Outcome_Type', 1)\n",
      "C:\\Users\\diedr\\AppData\\Local\\Temp\\ipykernel_28932\\3061698073.py:20: FutureWarning: In a future version of pandas all arguments of DataFrame.drop except for the argument 'labels' will be keyword-only.\n",
      "  df_total = df_total.drop('Outcome_Subtype', 1)\n"
     ]
    }
   ],
   "source": [
    "# csv created this\n",
    "df_total = df_total.drop('Unnamed: 0',1)\n",
    "\n",
    "# not conbine well with label coding\n",
    "\n",
    "df_total = df_total.drop('Animal_ID',1) #@@@@@@@\n",
    "df_total = df_total.drop('Name',1)\n",
    "#df_total = df_total.drop('Date of Birth',1)\n",
    "#df_total = df_total.drop('DateTime_Intake',1)\n",
    "#df_total = df_total.drop('DateTime_Outcome',1)\n",
    "df_total = df_total.drop('Location',1)\n",
    "df_total = df_total.drop('Found_Location',1)    #@@@@@@@@@\n",
    "#df_total = df_total.drop('Age_upon_Intake_weeks',1)\n",
    "#df_total = df_total.drop('Age_upon_Outcome_weeks',1)\n",
    "#df_total = df_total.drop('Days in Shelter',1)\n",
    "\n",
    "df_total.info()\n",
    "\n",
    "df_total = df_total.drop('Outcome_Type', 1)\n",
    "df_total = df_total.drop('Outcome_Subtype', 1)"
   ],
   "metadata": {
    "collapsed": false,
    "pycharm": {
     "name": "#%%\n"
    }
   }
  },
  {
   "cell_type": "code",
   "execution_count": 69,
   "outputs": [
    {
     "name": "stdout",
     "output_type": "stream",
     "text": [
      "<class 'pandas.core.frame.DataFrame'>\n",
      "RangeIndex: 109121 entries, 0 to 109120\n",
      "Data columns (total 23 columns):\n",
      " #   Column                Non-Null Count   Dtype         \n",
      "---  ------                --------------   -----         \n",
      " 0   DateTime_Intake       109121 non-null  datetime64[ns]\n",
      " 1   Intake_type           109121 non-null  category      \n",
      " 2   Intake_Condition      109121 non-null  category      \n",
      " 3   Animal_Type           109121 non-null  category      \n",
      " 4   Age_upon_Intake       109121 non-null  float64       \n",
      " 5   Mix_Breed             109121 non-null  category      \n",
      " 6   Primary_Breed         109121 non-null  category      \n",
      " 7   Secondary_Breed       109121 non-null  category      \n",
      " 8   Main_Color            109121 non-null  category      \n",
      " 9   Secondary_Color       109121 non-null  category      \n",
      " 10  DateTime_Outcome      109121 non-null  datetime64[ns]\n",
      " 11  Date of Birth         109121 non-null  datetime64[ns]\n",
      " 12  Age_upon_Outcome      109121 non-null  float64       \n",
      " 13  Sex                   109121 non-null  category      \n",
      " 14  neuter/spay           109121 non-null  category      \n",
      " 15  adopted/non-adopted   109121 non-null  category      \n",
      " 16  Days_in_shelter       109121 non-null  float64       \n",
      " 17  Breed_size            109121 non-null  category      \n",
      " 18  Trainability          109121 non-null  category      \n",
      " 19  Breed_characteristic  109121 non-null  category      \n",
      " 20  Barking_level         109121 non-null  category      \n",
      " 21  activity_level        109121 non-null  category      \n",
      " 22  breed_group           109121 non-null  category      \n",
      "dtypes: category(17), datetime64[ns](3), float64(3)\n",
      "memory usage: 7.0 MB\n"
     ]
    }
   ],
   "source": [
    "cols_num = ['DateTime_Intake','Age_upon_Intake','DateTime_Outcome','Age_upon_Outcome','Date of Birth','Days_in_shelter']\n",
    "cols_cat = ['Intake_type','Intake_Condition','Mix_Breed','Primary_Breed','Secondary_Breed','Main_Color','Secondary_Color','Sex','neuter/spay','Breed_size','Trainability','Breed_characteristic','Barking_level','activity_level','adopted/non-adopted','breed_group','Animal_Type']\n",
    "df_total[cols_cat] = df_total[cols_cat].astype('category')\n",
    "col2 = ['DateTime_Intake','DateTime_Outcome','Date of Birth']\n",
    "df_total[col2] = df_total[col2].astype('datetime64[ns]')\n",
    "df_total.info()"
   ],
   "metadata": {
    "collapsed": false,
    "pycharm": {
     "name": "#%%\n"
    }
   }
  },
  {
   "cell_type": "markdown",
   "source": [
    "df_total = df_total.drop('Animal_ID',1)\n",
    "df_total = df_total.drop('Name',1)\n",
    "df_total = df_total.drop('Location',1)\n",
    "df_total = df_total.drop('Found_Location',1)\n",
    "# Cause multicollinearity or it become irrelevant\n",
    "df_total = df_total.drop('Outcome_Subtype',1)   #same info in outcome  & multicollinearity\n",
    "df_total = df_total.drop('Animal_Type',1)   # only dogs"
   ],
   "metadata": {
    "collapsed": false,
    "pycharm": {
     "name": "#%% md\n"
    }
   }
  },
  {
   "cell_type": "markdown",
   "source": [
    "df_total = df_total.drop('adopted/non-adopted',1)"
   ],
   "metadata": {
    "collapsed": false,
    "pycharm": {
     "name": "#%% md\n"
    }
   }
  },
  {
   "cell_type": "code",
   "execution_count": 70,
   "outputs": [],
   "source": [
    "# adopted variable comes from outcome type (group in two)\n",
    "#df_total = df_total.drop('Outcome_Type', axis = 1)"
   ],
   "metadata": {
    "collapsed": false,
    "pycharm": {
     "name": "#%%\n"
    }
   }
  },
  {
   "cell_type": "markdown",
   "source": [
    "from sklearn.preprocessing import LabelEncoder\n",
    "labelencoder = LabelEncoder()\n",
    "X_en= df_total.iloc[cols].values\n",
    "X_en = labelencoder.fit_transform(X_en)"
   ],
   "metadata": {
    "collapsed": false,
    "pycharm": {
     "name": "#%% md\n"
    }
   }
  },
  {
   "cell_type": "markdown",
   "source": [
    "df_total['adopted/non-adopted'].unique()"
   ],
   "metadata": {
    "collapsed": false,
    "pycharm": {
     "name": "#%% md\n"
    }
   }
  },
  {
   "cell_type": "markdown",
   "source": [
    "# number seperation"
   ],
   "metadata": {
    "collapsed": false
   }
  },
  {
   "cell_type": "code",
   "execution_count": 71,
   "outputs": [
    {
     "data": {
      "text/plain": "           DateTime_Intake  Age_upon_Intake    DateTime_Outcome Date of Birth  \\\n0      2019-01-03 04:19:00         2.000000 2019-01-08 03:11:00    2017-01-03   \n1      2015-07-05 12:59:00         8.000000 2015-07-05 03:13:00    2007-07-05   \n2      2016-04-14 06:43:00         0.916667 2016-04-21 05:17:00    2015-04-17   \n3      2013-10-21 07:59:00         0.076660 2013-10-21 11:39:00    2013-09-21   \n4      2014-06-29 10:38:00         4.000000 2014-07-02 02:16:00    2010-06-29   \n...                    ...              ...                 ...           ...   \n109116 2021-03-03 02:17:00         0.083333 2021-03-03 02:28:00    2021-01-19   \n109117 2021-02-21 02:56:00         3.000000 2021-02-21 05:28:00    2017-09-21   \n109118 2018-01-14 11:31:00         0.083333 2018-01-15 05:12:00    2017-11-14   \n109119 2021-02-25 11:40:00         1.000000 2021-03-03 03:47:00    2020-02-25   \n109120 2021-01-08 07:01:00         0.833333 2021-03-03 05:19:00    2020-03-09   \n\n        Age_upon_Outcome  Days_in_shelter  \n0                   2.00              4.0  \n1                   8.00              0.0  \n2                   1.00              6.0  \n3                   0.08              0.0  \n4                   4.00              2.0  \n...                  ...              ...  \n109116              0.08              0.0  \n109117              3.00              0.0  \n109118              0.17              0.0  \n109119              1.00              5.0  \n109120              0.92             53.0  \n\n[109121 rows x 6 columns]",
      "text/html": "<div>\n<style scoped>\n    .dataframe tbody tr th:only-of-type {\n        vertical-align: middle;\n    }\n\n    .dataframe tbody tr th {\n        vertical-align: top;\n    }\n\n    .dataframe thead th {\n        text-align: right;\n    }\n</style>\n<table border=\"1\" class=\"dataframe\">\n  <thead>\n    <tr style=\"text-align: right;\">\n      <th></th>\n      <th>DateTime_Intake</th>\n      <th>Age_upon_Intake</th>\n      <th>DateTime_Outcome</th>\n      <th>Date of Birth</th>\n      <th>Age_upon_Outcome</th>\n      <th>Days_in_shelter</th>\n    </tr>\n  </thead>\n  <tbody>\n    <tr>\n      <th>0</th>\n      <td>2019-01-03 04:19:00</td>\n      <td>2.000000</td>\n      <td>2019-01-08 03:11:00</td>\n      <td>2017-01-03</td>\n      <td>2.00</td>\n      <td>4.0</td>\n    </tr>\n    <tr>\n      <th>1</th>\n      <td>2015-07-05 12:59:00</td>\n      <td>8.000000</td>\n      <td>2015-07-05 03:13:00</td>\n      <td>2007-07-05</td>\n      <td>8.00</td>\n      <td>0.0</td>\n    </tr>\n    <tr>\n      <th>2</th>\n      <td>2016-04-14 06:43:00</td>\n      <td>0.916667</td>\n      <td>2016-04-21 05:17:00</td>\n      <td>2015-04-17</td>\n      <td>1.00</td>\n      <td>6.0</td>\n    </tr>\n    <tr>\n      <th>3</th>\n      <td>2013-10-21 07:59:00</td>\n      <td>0.076660</td>\n      <td>2013-10-21 11:39:00</td>\n      <td>2013-09-21</td>\n      <td>0.08</td>\n      <td>0.0</td>\n    </tr>\n    <tr>\n      <th>4</th>\n      <td>2014-06-29 10:38:00</td>\n      <td>4.000000</td>\n      <td>2014-07-02 02:16:00</td>\n      <td>2010-06-29</td>\n      <td>4.00</td>\n      <td>2.0</td>\n    </tr>\n    <tr>\n      <th>...</th>\n      <td>...</td>\n      <td>...</td>\n      <td>...</td>\n      <td>...</td>\n      <td>...</td>\n      <td>...</td>\n    </tr>\n    <tr>\n      <th>109116</th>\n      <td>2021-03-03 02:17:00</td>\n      <td>0.083333</td>\n      <td>2021-03-03 02:28:00</td>\n      <td>2021-01-19</td>\n      <td>0.08</td>\n      <td>0.0</td>\n    </tr>\n    <tr>\n      <th>109117</th>\n      <td>2021-02-21 02:56:00</td>\n      <td>3.000000</td>\n      <td>2021-02-21 05:28:00</td>\n      <td>2017-09-21</td>\n      <td>3.00</td>\n      <td>0.0</td>\n    </tr>\n    <tr>\n      <th>109118</th>\n      <td>2018-01-14 11:31:00</td>\n      <td>0.083333</td>\n      <td>2018-01-15 05:12:00</td>\n      <td>2017-11-14</td>\n      <td>0.17</td>\n      <td>0.0</td>\n    </tr>\n    <tr>\n      <th>109119</th>\n      <td>2021-02-25 11:40:00</td>\n      <td>1.000000</td>\n      <td>2021-03-03 03:47:00</td>\n      <td>2020-02-25</td>\n      <td>1.00</td>\n      <td>5.0</td>\n    </tr>\n    <tr>\n      <th>109120</th>\n      <td>2021-01-08 07:01:00</td>\n      <td>0.833333</td>\n      <td>2021-03-03 05:19:00</td>\n      <td>2020-03-09</td>\n      <td>0.92</td>\n      <td>53.0</td>\n    </tr>\n  </tbody>\n</table>\n<p>109121 rows × 6 columns</p>\n</div>"
     },
     "execution_count": 71,
     "metadata": {},
     "output_type": "execute_result"
    }
   ],
   "source": [
    "df_num = df_total.drop(cols_cat,axis=1)\n",
    "#df_num = df_num.drop('DateTime_Intake', axis=1)\n",
    "#df_num = df_num.drop('DateTime_Outcome',axis=1)\n",
    "df_num"
   ],
   "metadata": {
    "collapsed": false,
    "pycharm": {
     "name": "#%%\n"
    }
   }
  },
  {
   "cell_type": "code",
   "execution_count": 72,
   "outputs": [],
   "source": [
    "df_total = df_total.drop(cols_num, axis=1)"
   ],
   "metadata": {
    "collapsed": false,
    "pycharm": {
     "name": "#%%\n"
    }
   }
  },
  {
   "cell_type": "markdown",
   "source": [
    "# Label Encoder"
   ],
   "metadata": {
    "collapsed": false
   }
  },
  {
   "cell_type": "code",
   "execution_count": 73,
   "outputs": [
    {
     "data": {
      "text/plain": "        Intake_type  Intake_Condition  Animal_Type  Mix_Breed  Primary_Breed  \\\n0                 4                 5            2          1             35   \n1                 4                 5            2          0            131   \n2                 4                 5            2          1             32   \n3                 4                 9            1          1            119   \n4                 4                 5            2          0            116   \n...             ...               ...          ...        ...            ...   \n109116            2                 5            2          1            266   \n109117            4                 5            2          0             89   \n109118            2                 5            2          1             89   \n109119            4                 5            2          0             35   \n109120            4                 5            2          1            282   \n\n        Secondary_Breed  Main_Color  Secondary_Color  Sex  neuter/spay  \\\n0                   126          55               37    1            2   \n1                   126          56               34    0            2   \n2                   126          46               51    1            2   \n3                   126          21               37    0            0   \n4                    16          51               29    1            2   \n...                 ...         ...              ...  ...          ...   \n109116              126           2               51    2            1   \n109117              126          15               37    1            0   \n109118              126          51               51    1            2   \n109119              109          55               37    1            2   \n109120              126           2               47    1            2   \n\n        adopted/non-adopted  Breed_size  Trainability  Breed_characteristic  \\\n0                         1           3             1                     2   \n1                         0           2             4                     0   \n2                         0           3             3                     1   \n3                         1           0             0                     0   \n4                         0           1             4                     3   \n...                     ...         ...           ...                   ...   \n109116                    1           3             1                     2   \n109117                    0           5             3                     1   \n109118                    0           5             3                     1   \n109119                    0           3             1                     2   \n109120                    0           1             1                     3   \n\n        Barking_level  activity_level  breed_group  \n0                   1               2            1  \n1                   3               3            5  \n2                   4               2            1  \n3                   0               4            3  \n4                   3               0            9  \n...               ...             ...          ...  \n109116              4               3            8  \n109117              5               3            8  \n109118              5               3            8  \n109119              1               2            1  \n109120              4               3            9  \n\n[109121 rows x 17 columns]",
      "text/html": "<div>\n<style scoped>\n    .dataframe tbody tr th:only-of-type {\n        vertical-align: middle;\n    }\n\n    .dataframe tbody tr th {\n        vertical-align: top;\n    }\n\n    .dataframe thead th {\n        text-align: right;\n    }\n</style>\n<table border=\"1\" class=\"dataframe\">\n  <thead>\n    <tr style=\"text-align: right;\">\n      <th></th>\n      <th>Intake_type</th>\n      <th>Intake_Condition</th>\n      <th>Animal_Type</th>\n      <th>Mix_Breed</th>\n      <th>Primary_Breed</th>\n      <th>Secondary_Breed</th>\n      <th>Main_Color</th>\n      <th>Secondary_Color</th>\n      <th>Sex</th>\n      <th>neuter/spay</th>\n      <th>adopted/non-adopted</th>\n      <th>Breed_size</th>\n      <th>Trainability</th>\n      <th>Breed_characteristic</th>\n      <th>Barking_level</th>\n      <th>activity_level</th>\n      <th>breed_group</th>\n    </tr>\n  </thead>\n  <tbody>\n    <tr>\n      <th>0</th>\n      <td>4</td>\n      <td>5</td>\n      <td>2</td>\n      <td>1</td>\n      <td>35</td>\n      <td>126</td>\n      <td>55</td>\n      <td>37</td>\n      <td>1</td>\n      <td>2</td>\n      <td>1</td>\n      <td>3</td>\n      <td>1</td>\n      <td>2</td>\n      <td>1</td>\n      <td>2</td>\n      <td>1</td>\n    </tr>\n    <tr>\n      <th>1</th>\n      <td>4</td>\n      <td>5</td>\n      <td>2</td>\n      <td>0</td>\n      <td>131</td>\n      <td>126</td>\n      <td>56</td>\n      <td>34</td>\n      <td>0</td>\n      <td>2</td>\n      <td>0</td>\n      <td>2</td>\n      <td>4</td>\n      <td>0</td>\n      <td>3</td>\n      <td>3</td>\n      <td>5</td>\n    </tr>\n    <tr>\n      <th>2</th>\n      <td>4</td>\n      <td>5</td>\n      <td>2</td>\n      <td>1</td>\n      <td>32</td>\n      <td>126</td>\n      <td>46</td>\n      <td>51</td>\n      <td>1</td>\n      <td>2</td>\n      <td>0</td>\n      <td>3</td>\n      <td>3</td>\n      <td>1</td>\n      <td>4</td>\n      <td>2</td>\n      <td>1</td>\n    </tr>\n    <tr>\n      <th>3</th>\n      <td>4</td>\n      <td>9</td>\n      <td>1</td>\n      <td>1</td>\n      <td>119</td>\n      <td>126</td>\n      <td>21</td>\n      <td>37</td>\n      <td>0</td>\n      <td>0</td>\n      <td>1</td>\n      <td>0</td>\n      <td>0</td>\n      <td>0</td>\n      <td>0</td>\n      <td>4</td>\n      <td>3</td>\n    </tr>\n    <tr>\n      <th>4</th>\n      <td>4</td>\n      <td>5</td>\n      <td>2</td>\n      <td>0</td>\n      <td>116</td>\n      <td>16</td>\n      <td>51</td>\n      <td>29</td>\n      <td>1</td>\n      <td>2</td>\n      <td>0</td>\n      <td>1</td>\n      <td>4</td>\n      <td>3</td>\n      <td>3</td>\n      <td>0</td>\n      <td>9</td>\n    </tr>\n    <tr>\n      <th>...</th>\n      <td>...</td>\n      <td>...</td>\n      <td>...</td>\n      <td>...</td>\n      <td>...</td>\n      <td>...</td>\n      <td>...</td>\n      <td>...</td>\n      <td>...</td>\n      <td>...</td>\n      <td>...</td>\n      <td>...</td>\n      <td>...</td>\n      <td>...</td>\n      <td>...</td>\n      <td>...</td>\n      <td>...</td>\n    </tr>\n    <tr>\n      <th>109116</th>\n      <td>2</td>\n      <td>5</td>\n      <td>2</td>\n      <td>1</td>\n      <td>266</td>\n      <td>126</td>\n      <td>2</td>\n      <td>51</td>\n      <td>2</td>\n      <td>1</td>\n      <td>1</td>\n      <td>3</td>\n      <td>1</td>\n      <td>2</td>\n      <td>4</td>\n      <td>3</td>\n      <td>8</td>\n    </tr>\n    <tr>\n      <th>109117</th>\n      <td>4</td>\n      <td>5</td>\n      <td>2</td>\n      <td>0</td>\n      <td>89</td>\n      <td>126</td>\n      <td>15</td>\n      <td>37</td>\n      <td>1</td>\n      <td>0</td>\n      <td>0</td>\n      <td>5</td>\n      <td>3</td>\n      <td>1</td>\n      <td>5</td>\n      <td>3</td>\n      <td>8</td>\n    </tr>\n    <tr>\n      <th>109118</th>\n      <td>2</td>\n      <td>5</td>\n      <td>2</td>\n      <td>1</td>\n      <td>89</td>\n      <td>126</td>\n      <td>51</td>\n      <td>51</td>\n      <td>1</td>\n      <td>2</td>\n      <td>0</td>\n      <td>5</td>\n      <td>3</td>\n      <td>1</td>\n      <td>5</td>\n      <td>3</td>\n      <td>8</td>\n    </tr>\n    <tr>\n      <th>109119</th>\n      <td>4</td>\n      <td>5</td>\n      <td>2</td>\n      <td>0</td>\n      <td>35</td>\n      <td>109</td>\n      <td>55</td>\n      <td>37</td>\n      <td>1</td>\n      <td>2</td>\n      <td>0</td>\n      <td>3</td>\n      <td>1</td>\n      <td>2</td>\n      <td>1</td>\n      <td>2</td>\n      <td>1</td>\n    </tr>\n    <tr>\n      <th>109120</th>\n      <td>4</td>\n      <td>5</td>\n      <td>2</td>\n      <td>1</td>\n      <td>282</td>\n      <td>126</td>\n      <td>2</td>\n      <td>47</td>\n      <td>1</td>\n      <td>2</td>\n      <td>0</td>\n      <td>1</td>\n      <td>1</td>\n      <td>3</td>\n      <td>4</td>\n      <td>3</td>\n      <td>9</td>\n    </tr>\n  </tbody>\n</table>\n<p>109121 rows × 17 columns</p>\n</div>"
     },
     "execution_count": 73,
     "metadata": {},
     "output_type": "execute_result"
    }
   ],
   "source": [
    "from sklearn.preprocessing import LabelEncoder\n",
    "\n",
    "# creating instance of labelencoder\n",
    "labelencoder = LabelEncoder()\n",
    "\n",
    "# Assigning numerical values and storing in another column\n",
    "for i in df_total.columns:\n",
    "    df_total[i] = labelencoder.fit_transform(df_total[i])\n",
    "df_total"
   ],
   "metadata": {
    "collapsed": false,
    "pycharm": {
     "name": "#%%\n"
    }
   }
  },
  {
   "cell_type": "markdown",
   "source": [
    "df_total.drop('adopted/non-adopted', axis=1)"
   ],
   "metadata": {
    "collapsed": false,
    "pycharm": {
     "name": "#%% md\n"
    }
   }
  },
  {
   "cell_type": "code",
   "execution_count": 74,
   "outputs": [
    {
     "name": "stderr",
     "output_type": "stream",
     "text": [
      "C:\\Users\\diedr\\AppData\\Local\\Temp\\ipykernel_28932\\4183125591.py:1: FutureWarning: In a future version of pandas all arguments of DataFrame.drop except for the argument 'labels' will be keyword-only.\n",
      "  x = df_total.drop('adopted/non-adopted', 1)\n"
     ]
    },
    {
     "data": {
      "text/plain": "   Intake_type  Intake_Condition  Animal_Type  Mix_Breed  Primary_Breed  \\\n0            4                 5            2          1             35   \n1            4                 5            2          0            131   \n2            4                 5            2          1             32   \n3            4                 9            1          1            119   \n4            4                 5            2          0            116   \n\n   Secondary_Breed  Main_Color  Secondary_Color  Sex  neuter/spay  Breed_size  \\\n0              126          55               37    1            2           3   \n1              126          56               34    0            2           2   \n2              126          46               51    1            2           3   \n3              126          21               37    0            0           0   \n4               16          51               29    1            2           1   \n\n   Trainability  Breed_characteristic  Barking_level  activity_level  \\\n0             1                     2              1               2   \n1             4                     0              3               3   \n2             3                     1              4               2   \n3             0                     0              0               4   \n4             4                     3              3               0   \n\n   breed_group  \n0            1  \n1            5  \n2            1  \n3            3  \n4            9  ",
      "text/html": "<div>\n<style scoped>\n    .dataframe tbody tr th:only-of-type {\n        vertical-align: middle;\n    }\n\n    .dataframe tbody tr th {\n        vertical-align: top;\n    }\n\n    .dataframe thead th {\n        text-align: right;\n    }\n</style>\n<table border=\"1\" class=\"dataframe\">\n  <thead>\n    <tr style=\"text-align: right;\">\n      <th></th>\n      <th>Intake_type</th>\n      <th>Intake_Condition</th>\n      <th>Animal_Type</th>\n      <th>Mix_Breed</th>\n      <th>Primary_Breed</th>\n      <th>Secondary_Breed</th>\n      <th>Main_Color</th>\n      <th>Secondary_Color</th>\n      <th>Sex</th>\n      <th>neuter/spay</th>\n      <th>Breed_size</th>\n      <th>Trainability</th>\n      <th>Breed_characteristic</th>\n      <th>Barking_level</th>\n      <th>activity_level</th>\n      <th>breed_group</th>\n    </tr>\n  </thead>\n  <tbody>\n    <tr>\n      <th>0</th>\n      <td>4</td>\n      <td>5</td>\n      <td>2</td>\n      <td>1</td>\n      <td>35</td>\n      <td>126</td>\n      <td>55</td>\n      <td>37</td>\n      <td>1</td>\n      <td>2</td>\n      <td>3</td>\n      <td>1</td>\n      <td>2</td>\n      <td>1</td>\n      <td>2</td>\n      <td>1</td>\n    </tr>\n    <tr>\n      <th>1</th>\n      <td>4</td>\n      <td>5</td>\n      <td>2</td>\n      <td>0</td>\n      <td>131</td>\n      <td>126</td>\n      <td>56</td>\n      <td>34</td>\n      <td>0</td>\n      <td>2</td>\n      <td>2</td>\n      <td>4</td>\n      <td>0</td>\n      <td>3</td>\n      <td>3</td>\n      <td>5</td>\n    </tr>\n    <tr>\n      <th>2</th>\n      <td>4</td>\n      <td>5</td>\n      <td>2</td>\n      <td>1</td>\n      <td>32</td>\n      <td>126</td>\n      <td>46</td>\n      <td>51</td>\n      <td>1</td>\n      <td>2</td>\n      <td>3</td>\n      <td>3</td>\n      <td>1</td>\n      <td>4</td>\n      <td>2</td>\n      <td>1</td>\n    </tr>\n    <tr>\n      <th>3</th>\n      <td>4</td>\n      <td>9</td>\n      <td>1</td>\n      <td>1</td>\n      <td>119</td>\n      <td>126</td>\n      <td>21</td>\n      <td>37</td>\n      <td>0</td>\n      <td>0</td>\n      <td>0</td>\n      <td>0</td>\n      <td>0</td>\n      <td>0</td>\n      <td>4</td>\n      <td>3</td>\n    </tr>\n    <tr>\n      <th>4</th>\n      <td>4</td>\n      <td>5</td>\n      <td>2</td>\n      <td>0</td>\n      <td>116</td>\n      <td>16</td>\n      <td>51</td>\n      <td>29</td>\n      <td>1</td>\n      <td>2</td>\n      <td>1</td>\n      <td>4</td>\n      <td>3</td>\n      <td>3</td>\n      <td>0</td>\n      <td>9</td>\n    </tr>\n  </tbody>\n</table>\n</div>"
     },
     "execution_count": 74,
     "metadata": {},
     "output_type": "execute_result"
    }
   ],
   "source": [
    "x = df_total.drop('adopted/non-adopted', 1)\n",
    "y = df_total['adopted/non-adopted']\n",
    "x.head()"
   ],
   "metadata": {
    "collapsed": false,
    "pycharm": {
     "name": "#%%\n"
    }
   }
  },
  {
   "cell_type": "markdown",
   "source": [
    "Applying step 1 (filter method)"
   ],
   "metadata": {
    "collapsed": false,
    "pycharm": {
     "name": "#%% md\n"
    }
   }
  },
  {
   "cell_type": "markdown",
   "source": [
    "# change the name so it fix in the next code\n",
    "import copy\n",
    "df_total['Outcome_Type'] = copy.deepcopy(df_total[\"Outcome Type\"])"
   ],
   "metadata": {
    "collapsed": false,
    "pycharm": {
     "name": "#%% md\n"
    }
   }
  },
  {
   "cell_type": "code",
   "source": [
    "# change the name so it fix in the next code\n",
    "import copy\n",
    "df_total['adopted'] = copy.deepcopy(df_total[\"adopted/non-adopted\"])\n",
    "df_total = df_total.drop('adopted/non-adopted', 1)"
   ],
   "metadata": {
    "collapsed": false,
    "pycharm": {
     "name": "#%%\n"
    }
   },
   "execution_count": 75,
   "outputs": [
    {
     "name": "stderr",
     "output_type": "stream",
     "text": [
      "C:\\Users\\diedr\\AppData\\Local\\Temp\\ipykernel_28932\\3450325865.py:4: FutureWarning: In a future version of pandas all arguments of DataFrame.drop except for the argument 'labels' will be keyword-only.\n",
      "  df_total = df_total.drop('adopted/non-adopted', 1)\n"
     ]
    }
   ]
  },
  {
   "cell_type": "code",
   "execution_count": 76,
   "outputs": [
    {
     "name": "stdout",
     "output_type": "stream",
     "text": [
      "neuter/spay            -0.550374\n",
      "Barking_level          -0.262396\n",
      "Trainability           -0.245777\n",
      "Breed_characteristic   -0.204422\n",
      "Breed_size             -0.200529\n",
      "breed_group            -0.111479\n",
      "Primary_Breed          -0.065110\n",
      "Main_Color             -0.044790\n",
      "Secondary_Color        -0.026816\n",
      "Mix_Breed               0.014245\n",
      "Animal_Type             0.051655\n",
      "Secondary_Breed         0.061428\n",
      "Intake_Condition        0.099577\n",
      "Intake_type             0.135955\n",
      "activity_level          0.233348\n",
      "Sex                     0.235755\n",
      "dtype: float64\n"
     ]
    }
   ],
   "source": [
    "importances = df_total.drop('adopted', axis=1).apply(lambda x: x.corr(df_total.adopted))\n",
    "indices = np.argsort(importances)\n",
    "print(importances[indices])"
   ],
   "metadata": {
    "collapsed": false,
    "pycharm": {
     "name": "#%%\n"
    }
   }
  },
  {
   "cell_type": "code",
   "execution_count": 77,
   "outputs": [
    {
     "data": {
      "text/plain": "<Figure size 432x288 with 1 Axes>",
      "image/png": "[encoded data removed]"
     },
     "metadata": {
      "needs_background": "light"
     },
     "output_type": "display_data"
    }
   ],
   "source": [
    "names=['neuter/spay','Days in Shelter','Date of Birth','Trainability','DateTime_Outcome','Breed_characteristic', 'DateTime_Intake','Secondary_Color','Barking_level','Mix_Breed','Intake Type','Main_Color','Breed_size','Intake Condition','Breed_size','Intake Condition','Secondary_Breed','activity_level','Primary_Breed','Sex','breed_group','Age_upon_Outcome_weeks','Age_upon_Intake_weeks']\n",
    "plt.title('Correlation to outcome type')\n",
    "plt.barh(range(len(indices)), importances[indices], color='g', align='center')\n",
    "plt.yticks(range(len(indices)), [names[i] for i in indices])\n",
    "plt.xlabel('Relative Importance')\n",
    "plt.show()"
   ],
   "metadata": {
    "collapsed": false,
    "pycharm": {
     "name": "#%%\n"
    }
   }
  },
  {
   "cell_type": "code",
   "execution_count": 78,
   "outputs": [
    {
     "name": "stdout",
     "output_type": "stream",
     "text": [
      "neuter/spay\n",
      "Barking_level\n",
      "Mix_Breed\n",
      "Intake Type\n",
      "Main_Color\n",
      "Breed_size\n",
      "Intake Condition\n",
      "Breed_size\n",
      "Intake Condition\n"
     ]
    }
   ],
   "source": [
    "for i in range(0, len(indices)):\n",
    "    if np.abs(importances[i])>0.1:\n",
    "        print(names[i])"
   ],
   "metadata": {
    "collapsed": false,
    "pycharm": {
     "name": "#%%\n"
    }
   }
  },
  {
   "cell_type": "markdown",
   "source": [
    "# step 2"
   ],
   "metadata": {
    "collapsed": false,
    "pycharm": {
     "name": "#%% md\n"
    }
   }
  },
  {
   "cell_type": "code",
   "execution_count": 79,
   "outputs": [
    {
     "name": "stdout",
     "output_type": "stream",
     "text": [
      "Intake_type  is not correlated  with  Intake_Condition\n",
      "Intake_type  is not correlated  with  Animal_Type\n",
      "Intake_type  is not correlated  with  Mix_Breed\n",
      "Intake_type  is not correlated  with  Primary_Breed\n",
      "Intake_type  is not correlated  with  Secondary_Breed\n",
      "Intake_type  is not correlated  with  Main_Color\n",
      "Intake_type  is not correlated  with  Secondary_Color\n",
      "Intake_type  is not correlated  with  Sex\n",
      "Intake_type  is not correlated  with  neuter/spay\n",
      "Intake_type  is not correlated  with  Breed_size\n",
      "Intake_type  is not correlated  with  Trainability\n",
      "Intake_type  is not correlated  with  Breed_characteristic\n",
      "Intake_type  is not correlated  with  Barking_level\n",
      "Intake_type  is not correlated  with  activity_level\n",
      "Intake_type  is not correlated  with  breed_group\n",
      "Intake_Condition  is not correlated  with  Intake_type\n",
      "Intake_Condition  is not correlated  with  Animal_Type\n",
      "Intake_Condition  is not correlated  with  Mix_Breed\n",
      "Intake_Condition  is not correlated  with  Primary_Breed\n",
      "Intake_Condition  is not correlated  with  Secondary_Breed\n",
      "Intake_Condition  is not correlated  with  Main_Color\n",
      "Intake_Condition  is not correlated  with  Secondary_Color\n",
      "Intake_Condition  is not correlated  with  Sex\n",
      "Intake_Condition  is not correlated  with  neuter/spay\n",
      "Intake_Condition  is not correlated  with  Breed_size\n",
      "Intake_Condition  is not correlated  with  Trainability\n",
      "Intake_Condition  is not correlated  with  Breed_characteristic\n",
      "Intake_Condition  is not correlated  with  Barking_level\n",
      "Intake_Condition  is not correlated  with  activity_level\n",
      "Intake_Condition  is not correlated  with  breed_group\n",
      "Animal_Type  is not correlated  with  Intake_type\n",
      "Animal_Type  is not correlated  with  Intake_Condition\n",
      "Animal_Type  is not correlated  with  Mix_Breed\n",
      "Animal_Type  is not correlated  with  Primary_Breed\n",
      "Animal_Type  is not correlated  with  Secondary_Breed\n",
      "Animal_Type  is not correlated  with  Main_Color\n",
      "Animal_Type  is not correlated  with  Secondary_Color\n",
      "Animal_Type  is not correlated  with  Sex\n",
      "Animal_Type  is not correlated  with  neuter/spay\n",
      "Animal_Type  is not correlated  with  Breed_characteristic\n",
      "Animal_Type  is not correlated  with  breed_group\n",
      "Mix_Breed  is not correlated  with  Intake_type\n",
      "Mix_Breed  is not correlated  with  Intake_Condition\n",
      "Mix_Breed  is not correlated  with  Animal_Type\n",
      "Mix_Breed  is not correlated  with  Primary_Breed\n",
      "Mix_Breed  is not correlated  with  Main_Color\n",
      "Mix_Breed  is not correlated  with  Secondary_Color\n",
      "Mix_Breed  is not correlated  with  Sex\n",
      "Mix_Breed  is not correlated  with  neuter/spay\n",
      "Mix_Breed  is not correlated  with  Breed_size\n",
      "Mix_Breed  is not correlated  with  Trainability\n",
      "Mix_Breed  is not correlated  with  Breed_characteristic\n",
      "Mix_Breed  is not correlated  with  Barking_level\n",
      "Mix_Breed  is not correlated  with  activity_level\n",
      "Mix_Breed  is not correlated  with  breed_group\n",
      "Primary_Breed  is not correlated  with  Intake_type\n",
      "Primary_Breed  is not correlated  with  Intake_Condition\n",
      "Primary_Breed  is not correlated  with  Animal_Type\n",
      "Primary_Breed  is not correlated  with  Mix_Breed\n",
      "Primary_Breed  is not correlated  with  Secondary_Breed\n",
      "Primary_Breed  is not correlated  with  Main_Color\n",
      "Primary_Breed  is not correlated  with  Secondary_Color\n",
      "Primary_Breed  is not correlated  with  Sex\n",
      "Primary_Breed  is not correlated  with  neuter/spay\n",
      "Primary_Breed  is not correlated  with  Breed_size\n",
      "Primary_Breed  is not correlated  with  Trainability\n",
      "Primary_Breed  is not correlated  with  Breed_characteristic\n",
      "Primary_Breed  is not correlated  with  Barking_level\n",
      "Primary_Breed  is not correlated  with  activity_level\n",
      "Secondary_Breed  is not correlated  with  Intake_type\n",
      "Secondary_Breed  is not correlated  with  Intake_Condition\n",
      "Secondary_Breed  is not correlated  with  Animal_Type\n",
      "Secondary_Breed  is not correlated  with  Primary_Breed\n",
      "Secondary_Breed  is not correlated  with  Main_Color\n",
      "Secondary_Breed  is not correlated  with  Secondary_Color\n",
      "Secondary_Breed  is not correlated  with  Sex\n",
      "Secondary_Breed  is not correlated  with  neuter/spay\n",
      "Secondary_Breed  is not correlated  with  Breed_size\n",
      "Secondary_Breed  is not correlated  with  Trainability\n",
      "Secondary_Breed  is not correlated  with  Breed_characteristic\n",
      "Secondary_Breed  is not correlated  with  Barking_level\n",
      "Secondary_Breed  is not correlated  with  activity_level\n",
      "Secondary_Breed  is not correlated  with  breed_group\n",
      "Main_Color  is not correlated  with  Intake_type\n",
      "Main_Color  is not correlated  with  Intake_Condition\n",
      "Main_Color  is not correlated  with  Animal_Type\n",
      "Main_Color  is not correlated  with  Mix_Breed\n",
      "Main_Color  is not correlated  with  Primary_Breed\n",
      "Main_Color  is not correlated  with  Secondary_Breed\n",
      "Main_Color  is not correlated  with  Secondary_Color\n",
      "Main_Color  is not correlated  with  Sex\n",
      "Main_Color  is not correlated  with  neuter/spay\n",
      "Main_Color  is not correlated  with  Breed_size\n",
      "Main_Color  is not correlated  with  Trainability\n",
      "Main_Color  is not correlated  with  Breed_characteristic\n",
      "Main_Color  is not correlated  with  Barking_level\n",
      "Main_Color  is not correlated  with  activity_level\n",
      "Main_Color  is not correlated  with  breed_group\n",
      "Secondary_Color  is not correlated  with  Intake_type\n",
      "Secondary_Color  is not correlated  with  Intake_Condition\n",
      "Secondary_Color  is not correlated  with  Animal_Type\n",
      "Secondary_Color  is not correlated  with  Mix_Breed\n",
      "Secondary_Color  is not correlated  with  Primary_Breed\n",
      "Secondary_Color  is not correlated  with  Secondary_Breed\n",
      "Secondary_Color  is not correlated  with  Main_Color\n",
      "Secondary_Color  is not correlated  with  Sex\n",
      "Secondary_Color  is not correlated  with  neuter/spay\n",
      "Secondary_Color  is not correlated  with  Breed_size\n",
      "Secondary_Color  is not correlated  with  Trainability\n",
      "Secondary_Color  is not correlated  with  Breed_characteristic\n",
      "Secondary_Color  is not correlated  with  Barking_level\n",
      "Secondary_Color  is not correlated  with  activity_level\n",
      "Secondary_Color  is not correlated  with  breed_group\n",
      "Sex  is not correlated  with  Intake_type\n",
      "Sex  is not correlated  with  Intake_Condition\n",
      "Sex  is not correlated  with  Animal_Type\n",
      "Sex  is not correlated  with  Mix_Breed\n",
      "Sex  is not correlated  with  Primary_Breed\n",
      "Sex  is not correlated  with  Secondary_Breed\n",
      "Sex  is not correlated  with  Main_Color\n",
      "Sex  is not correlated  with  Secondary_Color\n",
      "Sex  is not correlated  with  neuter/spay\n",
      "Sex  is not correlated  with  Breed_size\n",
      "Sex  is not correlated  with  Trainability\n",
      "Sex  is not correlated  with  Breed_characteristic\n",
      "Sex  is not correlated  with  Barking_level\n",
      "Sex  is not correlated  with  activity_level\n",
      "Sex  is not correlated  with  breed_group\n",
      "neuter/spay  is not correlated  with  Intake_type\n",
      "neuter/spay  is not correlated  with  Intake_Condition\n",
      "neuter/spay  is not correlated  with  Animal_Type\n",
      "neuter/spay  is not correlated  with  Mix_Breed\n",
      "neuter/spay  is not correlated  with  Primary_Breed\n",
      "neuter/spay  is not correlated  with  Secondary_Breed\n",
      "neuter/spay  is not correlated  with  Main_Color\n",
      "neuter/spay  is not correlated  with  Secondary_Color\n",
      "neuter/spay  is not correlated  with  Sex\n",
      "neuter/spay  is not correlated  with  Breed_size\n",
      "neuter/spay  is not correlated  with  Trainability\n",
      "neuter/spay  is not correlated  with  Breed_characteristic\n",
      "neuter/spay  is not correlated  with  Barking_level\n",
      "neuter/spay  is not correlated  with  activity_level\n",
      "neuter/spay  is not correlated  with  breed_group\n",
      "Breed_size  is not correlated  with  Intake_type\n",
      "Breed_size  is not correlated  with  Intake_Condition\n",
      "Breed_size  is not correlated  with  Mix_Breed\n",
      "Breed_size  is not correlated  with  Primary_Breed\n",
      "Breed_size  is not correlated  with  Secondary_Breed\n",
      "Breed_size  is not correlated  with  Main_Color\n",
      "Breed_size  is not correlated  with  Secondary_Color\n",
      "Breed_size  is not correlated  with  Sex\n",
      "Breed_size  is not correlated  with  neuter/spay\n",
      "Breed_size  is not correlated  with  Breed_characteristic\n",
      "Breed_size  is highly  correlated  with  Barking_level\n",
      "Trainability  is not correlated  with  Intake_type\n",
      "Trainability  is not correlated  with  Intake_Condition\n",
      "Trainability  is not correlated  with  Mix_Breed\n",
      "Trainability  is not correlated  with  Primary_Breed\n",
      "Trainability  is not correlated  with  Secondary_Breed\n",
      "Trainability  is not correlated  with  Main_Color\n",
      "Trainability  is not correlated  with  Secondary_Color\n",
      "Trainability  is not correlated  with  Sex\n",
      "Trainability  is not correlated  with  neuter/spay\n",
      "Trainability  is highly  correlated  with  Breed_characteristic\n",
      "Trainability  is highly  correlated  with  Barking_level\n",
      "Trainability  is highly  correlated  with  activity_level\n",
      "Trainability  is not correlated  with  breed_group\n",
      "Breed_characteristic  is not correlated  with  Intake_type\n",
      "Breed_characteristic  is not correlated  with  Intake_Condition\n",
      "Breed_characteristic  is not correlated  with  Animal_Type\n",
      "Breed_characteristic  is not correlated  with  Mix_Breed\n",
      "Breed_characteristic  is not correlated  with  Primary_Breed\n",
      "Breed_characteristic  is not correlated  with  Secondary_Breed\n",
      "Breed_characteristic  is not correlated  with  Main_Color\n",
      "Breed_characteristic  is not correlated  with  Secondary_Color\n",
      "Breed_characteristic  is not correlated  with  Sex\n",
      "Breed_characteristic  is not correlated  with  neuter/spay\n",
      "Breed_characteristic  is not correlated  with  Breed_size\n",
      "Breed_characteristic  is highly  correlated  with  Trainability\n",
      "Breed_characteristic  is highly  correlated  with  activity_level\n",
      "Breed_characteristic  is not correlated  with  breed_group\n",
      "Barking_level  is not correlated  with  Intake_type\n",
      "Barking_level  is not correlated  with  Intake_Condition\n",
      "Barking_level  is not correlated  with  Mix_Breed\n",
      "Barking_level  is not correlated  with  Primary_Breed\n",
      "Barking_level  is not correlated  with  Secondary_Breed\n",
      "Barking_level  is not correlated  with  Main_Color\n",
      "Barking_level  is not correlated  with  Secondary_Color\n",
      "Barking_level  is not correlated  with  Sex\n",
      "Barking_level  is not correlated  with  neuter/spay\n",
      "Barking_level  is highly  correlated  with  Breed_size\n",
      "Barking_level  is highly  correlated  with  Trainability\n",
      "activity_level  is not correlated  with  Intake_type\n",
      "activity_level  is not correlated  with  Intake_Condition\n",
      "activity_level  is not correlated  with  Mix_Breed\n",
      "activity_level  is not correlated  with  Primary_Breed\n",
      "activity_level  is not correlated  with  Secondary_Breed\n",
      "activity_level  is not correlated  with  Main_Color\n",
      "activity_level  is not correlated  with  Secondary_Color\n",
      "activity_level  is not correlated  with  Sex\n",
      "activity_level  is not correlated  with  neuter/spay\n",
      "activity_level  is highly  correlated  with  Trainability\n",
      "activity_level  is highly  correlated  with  Breed_characteristic\n",
      "activity_level  is not correlated  with  breed_group\n",
      "breed_group  is not correlated  with  Intake_type\n",
      "breed_group  is not correlated  with  Intake_Condition\n",
      "breed_group  is not correlated  with  Animal_Type\n",
      "breed_group  is not correlated  with  Mix_Breed\n",
      "breed_group  is not correlated  with  Secondary_Breed\n",
      "breed_group  is not correlated  with  Main_Color\n",
      "breed_group  is not correlated  with  Secondary_Color\n",
      "breed_group  is not correlated  with  Sex\n",
      "breed_group  is not correlated  with  neuter/spay\n",
      "breed_group  is not correlated  with  Trainability\n",
      "breed_group  is not correlated  with  Breed_characteristic\n",
      "breed_group  is not correlated  with  activity_level\n"
     ]
    }
   ],
   "source": [
    "for i in range(0,len(x.columns)):\n",
    "    for j in  range(0,len(x.columns)):\n",
    "        if i!=j:\n",
    "            corr_1=np.abs(x[x.columns[i]].corr(x[x.columns[j]]))\n",
    "            if corr_1 <0.3:\n",
    "                print( x.columns[i] , \" is not correlated  with \", x.columns[j])\n",
    "            elif corr_1>0.75:\n",
    "                print( x.columns[i] , \" is highly  correlated  with \", x.columns[j])"
   ],
   "metadata": {
    "collapsed": false,
    "pycharm": {
     "name": "#%%\n"
    }
   }
  },
  {
   "cell_type": "markdown",
   "source": [
    "# The variables that are higly correlated with eachother\n",
    "\n",
    "DateTime_Intake  is highly  correlated  with  DateTime_Outcome\n",
    "\n",
    "Age_upon_Intake_weeks  is highly  correlated  with  Age_upon_Outcome_week\n",
    "\n",
    "DateTime_Outcome  is highly  correlated  with  DateTime_Intakes\n",
    "\n",
    "Age_upon_Outcome_weeks  is highly  correlated  with  Age_upon_Intake_weeks"
   ],
   "metadata": {
    "collapsed": false,
    "pycharm": {
     "name": "#%% md\n"
    }
   }
  },
  {
   "cell_type": "markdown",
   "source": [
    "# drop the highly correlated\n",
    "\n",
    "x.drop(['DateTime_Intake','DateTime_Outcome','Age_upon_Outcome_weeks','Age_upon_Intake_weeks'], axis = 1)"
   ],
   "metadata": {
    "collapsed": false,
    "pycharm": {
     "name": "#%% md\n"
    }
   }
  },
  {
   "cell_type": "markdown",
   "source": [
    "# adopted variable comes from outcome type (group in two)\n",
    "x.drop('Outcome Type', axis = 1)"
   ],
   "metadata": {
    "collapsed": false,
    "pycharm": {
     "name": "#%% md\n"
    }
   }
  },
  {
   "cell_type": "markdown",
   "source": [
    "# adopted variable comes from outcome type (group in two)\n",
    "x.drop('adopted/non-adopted', axis = 1)"
   ],
   "metadata": {
    "collapsed": false,
    "pycharm": {
     "name": "#%% md\n"
    }
   }
  },
  {
   "cell_type": "code",
   "execution_count": 80,
   "outputs": [],
   "source": [
    "mi = mutual_info_regression(x, y)"
   ],
   "metadata": {
    "collapsed": false,
    "pycharm": {
     "name": "#%%\n"
    }
   }
  },
  {
   "cell_type": "code",
   "execution_count": 81,
   "outputs": [
    {
     "data": {
      "text/plain": "<AxesSubplot:>"
     },
     "execution_count": 81,
     "metadata": {},
     "output_type": "execute_result"
    },
    {
     "data": {
      "text/plain": "<Figure size 720x288 with 1 Axes>",
      "image/png": "[encoded data removed]"
     },
     "metadata": {
      "needs_background": "light"
     },
     "output_type": "display_data"
    }
   ],
   "source": [
    "mi = pd.Series(mi)\n",
    "mi.index = x.columns\n",
    "mi.sort_values(ascending=False)\n",
    "mi.sort_values(ascending=False).plot.bar(figsize=(10, 4))"
   ],
   "metadata": {
    "collapsed": false,
    "pycharm": {
     "name": "#%%\n"
    }
   }
  }
 ],
 "metadata": {
  "kernelspec": {
   "display_name": "Python 3",
   "language": "python",
   "name": "python3"
  },
  "language_info": {
   "codemirror_mode": {
    "name": "ipython",
    "version": 2
   },
   "file_extension": ".py",
   "mimetype": "text/x-python",
   "name": "python",
   "nbconvert_exporter": "python",
   "pygments_lexer": "ipython2",
   "version": "2.7.6"
  }
 },
 "nbformat": 4,
 "nbformat_minor": 0
}