{
 "cells": [
  {
   "cell_type": "code",
   "execution_count": 1,
   "metadata": {
    "collapsed": true
   },
   "outputs": [],
   "source": [
    "import numpy as np\n",
    "import pandas_profiling\n",
    "import pandas as pd\n",
    "import sklearn"
   ]
  },
  {
   "cell_type": "code",
   "execution_count": 2,
   "outputs": [],
   "source": [
    "from sklearn.svm import SVC\n",
    "from sklearn.ensemble import RandomForestClassifier\n",
    "from sklearn.neighbors import KNeighborsClassifier"
   ],
   "metadata": {
    "collapsed": false,
    "pycharm": {
     "name": "#%%\n"
    }
   }
  },
  {
   "cell_type": "code",
   "execution_count": 3,
   "outputs": [],
   "source": [
    "from mlxtend.plotting import plot_sequential_feature_selection as plot_sfs\n",
    "import matplotlib.pyplot as plt\n",
    "import matplotlib\n",
    "%matplotlib inline"
   ],
   "metadata": {
    "collapsed": false,
    "pycharm": {
     "name": "#%%\n"
    }
   }
  },
  {
   "cell_type": "code",
   "execution_count": 4,
   "outputs": [],
   "source": [
    "from sklearn.preprocessing import LabelEncoder"
   ],
   "metadata": {
    "collapsed": false,
    "pycharm": {
     "name": "#%%\n"
    }
   }
  },
  {
   "cell_type": "markdown",
   "source": [],
   "metadata": {
    "collapsed": false
   }
  },
  {
   "cell_type": "code",
   "source": [
    "df_total = pd.read_csv('df_total1.csv')\n",
    "df_total"
   ],
   "metadata": {
    "collapsed": false,
    "pycharm": {
     "name": "#%%\n"
    }
   },
   "execution_count": 5,
   "outputs": [
    {
     "data": {
      "text/plain": "        Unnamed: 0 Animal_ID     Name      DateTime_Intake  \\\n0                0   a786884   *brock  2019-01-03 04:19:00   \n1                1   a706918    belle  2015-07-05 12:59:00   \n2                2   a724273  runster  2016-04-14 06:43:00   \n3                3   a665644  unknown  2013-10-21 07:59:00   \n4                4   a682524      rio  2014-06-29 10:38:00   \n...            ...       ...      ...                  ...   \n109116      110490   a830164  unknown  2021-03-03 02:17:00   \n109117      110491   a829701  pee wee  2021-02-21 02:56:00   \n109118      110492   a765174   carson  2018-01-14 11:31:00   \n109119      110493   a829868     remy  2021-02-25 11:40:00   \n109120      110494   a828158     odin  2021-01-08 07:01:00   \n\n                              Found_Location      Intake_type  \\\n0        2501 magin meadow dr in austin (tx)            stray   \n1           9409 bluegrass dr in austin (tx)            stray   \n2         2818 palomino trail in austin (tx)            stray   \n3                                austin (tx)            stray   \n4              800 grove blvd in austin (tx)            stray   \n...                                      ...              ...   \n109116                           travis (tx)  owner surrender   \n109117  16201 biltmore avenue in travis (tx)            stray   \n109118                           austin (tx)  owner surrender   \n109119                 valdez in austin (tx)            stray   \n109120        2224 e stassney in austin (tx)            stray   \n\n       Intake_Condition Animal_Type  Age_upon_Intake Mix_Breed  ...      Sex  \\\n0                normal         dog         2.000000       yes  ...     male   \n1                normal         dog         8.000000        no  ...   female   \n2                normal         dog         0.916667       yes  ...     male   \n3                  sick         cat         0.076660       yes  ...   female   \n4                normal         dog         4.000000        no  ...     male   \n...                 ...         ...              ...       ...  ...      ...   \n109116           normal         dog         0.083333       yes  ...  unknown   \n109117           normal         dog         3.000000        no  ...     male   \n109118           normal         dog         0.083333       yes  ...     male   \n109119           normal         dog         1.000000        no  ...     male   \n109120           normal         dog         0.833333       yes  ...     male   \n\n       neuter/spay adopted/non-adopted Days_in_shelter Breed_size  \\\n0              yes         non-adopted             4.0      small   \n1              yes             adopted             0.0     medium   \n2              yes             adopted             6.0      small   \n3               no         non-adopted             0.0    Unknown   \n4              yes             adopted             2.0      large   \n...            ...                 ...             ...        ...   \n109116     unknown         non-adopted             0.0      small   \n109117          no             adopted             0.0     xsmall   \n109118         yes             adopted             0.0     xsmall   \n109119         yes             adopted             5.0      small   \n109120         yes             adopted            53.0      large   \n\n       Trainability Breed_characteristic Barking_level  activity_level  \\\n0         agreeable           family_dog      frequent     medium_high   \n1           pleaser           Not_define        medium      medium_low   \n2       independent   apartment_friendly          rare     medium_high   \n3           Unknown           Not_define       Unknown      not_define   \n4           pleaser            guard_dog        medium            high   \n...             ...                  ...           ...             ...   \n109116    agreeable           family_dog          rare      medium_low   \n109117  independent   apartment_friendly   very_common      medium_low   \n109118  independent   apartment_friendly   very_common      medium_low   \n109119    agreeable           family_dog      frequent     medium_high   \n109120    agreeable            guard_dog          rare      medium_low   \n\n           breed_group  \n0          hound_group  \n1       sporting_group  \n2          hound_group  \n3           not_define  \n4        working_group  \n...                ...  \n109116       toy_group  \n109117       toy_group  \n109118       toy_group  \n109119     hound_group  \n109120   working_group  \n\n[109121 rows x 30 columns]",
      "text/html": "<div>\n<style scoped>\n    .dataframe tbody tr th:only-of-type {\n        vertical-align: middle;\n    }\n\n    .dataframe tbody tr th {\n        vertical-align: top;\n    }\n\n    .dataframe thead th {\n        text-align: right;\n    }\n</style>\n<table border=\"1\" class=\"dataframe\">\n  <thead>\n    <tr style=\"text-align: right;\">\n      <th></th>\n      <th>Unnamed: 0</th>\n      <th>Animal_ID</th>\n      <th>Name</th>\n      <th>DateTime_Intake</th>\n      <th>Found_Location</th>\n      <th>Intake_type</th>\n      <th>Intake_Condition</th>\n      <th>Animal_Type</th>\n      <th>Age_upon_Intake</th>\n      <th>Mix_Breed</th>\n      <th>...</th>\n      <th>Sex</th>\n      <th>neuter/spay</th>\n      <th>adopted/non-adopted</th>\n      <th>Days_in_shelter</th>\n      <th>Breed_size</th>\n      <th>Trainability</th>\n      <th>Breed_characteristic</th>\n      <th>Barking_level</th>\n      <th>activity_level</th>\n      <th>breed_group</th>\n    </tr>\n  </thead>\n  <tbody>\n    <tr>\n      <th>0</th>\n      <td>0</td>\n      <td>a786884</td>\n      <td>*brock</td>\n      <td>2019-01-03 04:19:00</td>\n      <td>2501 magin meadow dr in austin (tx)</td>\n      <td>stray</td>\n      <td>normal</td>\n      <td>dog</td>\n      <td>2.000000</td>\n      <td>yes</td>\n      <td>...</td>\n      <td>male</td>\n      <td>yes</td>\n      <td>non-adopted</td>\n      <td>4.0</td>\n      <td>small</td>\n      <td>agreeable</td>\n      <td>family_dog</td>\n      <td>frequent</td>\n      <td>medium_high</td>\n      <td>hound_group</td>\n    </tr>\n    <tr>\n      <th>1</th>\n      <td>1</td>\n      <td>a706918</td>\n      <td>belle</td>\n      <td>2015-07-05 12:59:00</td>\n      <td>9409 bluegrass dr in austin (tx)</td>\n      <td>stray</td>\n      <td>normal</td>\n      <td>dog</td>\n      <td>8.000000</td>\n      <td>no</td>\n      <td>...</td>\n      <td>female</td>\n      <td>yes</td>\n      <td>adopted</td>\n      <td>0.0</td>\n      <td>medium</td>\n      <td>pleaser</td>\n      <td>Not_define</td>\n      <td>medium</td>\n      <td>medium_low</td>\n      <td>sporting_group</td>\n    </tr>\n    <tr>\n      <th>2</th>\n      <td>2</td>\n      <td>a724273</td>\n      <td>runster</td>\n      <td>2016-04-14 06:43:00</td>\n      <td>2818 palomino trail in austin (tx)</td>\n      <td>stray</td>\n      <td>normal</td>\n      <td>dog</td>\n      <td>0.916667</td>\n      <td>yes</td>\n      <td>...</td>\n      <td>male</td>\n      <td>yes</td>\n      <td>adopted</td>\n      <td>6.0</td>\n      <td>small</td>\n      <td>independent</td>\n      <td>apartment_friendly</td>\n      <td>rare</td>\n      <td>medium_high</td>\n      <td>hound_group</td>\n    </tr>\n    <tr>\n      <th>3</th>\n      <td>3</td>\n      <td>a665644</td>\n      <td>unknown</td>\n      <td>2013-10-21 07:59:00</td>\n      <td>austin (tx)</td>\n      <td>stray</td>\n      <td>sick</td>\n      <td>cat</td>\n      <td>0.076660</td>\n      <td>yes</td>\n      <td>...</td>\n      <td>female</td>\n      <td>no</td>\n      <td>non-adopted</td>\n      <td>0.0</td>\n      <td>Unknown</td>\n      <td>Unknown</td>\n      <td>Not_define</td>\n      <td>Unknown</td>\n      <td>not_define</td>\n      <td>not_define</td>\n    </tr>\n    <tr>\n      <th>4</th>\n      <td>4</td>\n      <td>a682524</td>\n      <td>rio</td>\n      <td>2014-06-29 10:38:00</td>\n      <td>800 grove blvd in austin (tx)</td>\n      <td>stray</td>\n      <td>normal</td>\n      <td>dog</td>\n      <td>4.000000</td>\n      <td>no</td>\n      <td>...</td>\n      <td>male</td>\n      <td>yes</td>\n      <td>adopted</td>\n      <td>2.0</td>\n      <td>large</td>\n      <td>pleaser</td>\n      <td>guard_dog</td>\n      <td>medium</td>\n      <td>high</td>\n      <td>working_group</td>\n    </tr>\n    <tr>\n      <th>...</th>\n      <td>...</td>\n      <td>...</td>\n      <td>...</td>\n      <td>...</td>\n      <td>...</td>\n      <td>...</td>\n      <td>...</td>\n      <td>...</td>\n      <td>...</td>\n      <td>...</td>\n      <td>...</td>\n      <td>...</td>\n      <td>...</td>\n      <td>...</td>\n      <td>...</td>\n      <td>...</td>\n      <td>...</td>\n      <td>...</td>\n      <td>...</td>\n      <td>...</td>\n      <td>...</td>\n    </tr>\n    <tr>\n      <th>109116</th>\n      <td>110490</td>\n      <td>a830164</td>\n      <td>unknown</td>\n      <td>2021-03-03 02:17:00</td>\n      <td>travis (tx)</td>\n      <td>owner surrender</td>\n      <td>normal</td>\n      <td>dog</td>\n      <td>0.083333</td>\n      <td>yes</td>\n      <td>...</td>\n      <td>unknown</td>\n      <td>unknown</td>\n      <td>non-adopted</td>\n      <td>0.0</td>\n      <td>small</td>\n      <td>agreeable</td>\n      <td>family_dog</td>\n      <td>rare</td>\n      <td>medium_low</td>\n      <td>toy_group</td>\n    </tr>\n    <tr>\n      <th>109117</th>\n      <td>110491</td>\n      <td>a829701</td>\n      <td>pee wee</td>\n      <td>2021-02-21 02:56:00</td>\n      <td>16201 biltmore avenue in travis (tx)</td>\n      <td>stray</td>\n      <td>normal</td>\n      <td>dog</td>\n      <td>3.000000</td>\n      <td>no</td>\n      <td>...</td>\n      <td>male</td>\n      <td>no</td>\n      <td>adopted</td>\n      <td>0.0</td>\n      <td>xsmall</td>\n      <td>independent</td>\n      <td>apartment_friendly</td>\n      <td>very_common</td>\n      <td>medium_low</td>\n      <td>toy_group</td>\n    </tr>\n    <tr>\n      <th>109118</th>\n      <td>110492</td>\n      <td>a765174</td>\n      <td>carson</td>\n      <td>2018-01-14 11:31:00</td>\n      <td>austin (tx)</td>\n      <td>owner surrender</td>\n      <td>normal</td>\n      <td>dog</td>\n      <td>0.083333</td>\n      <td>yes</td>\n      <td>...</td>\n      <td>male</td>\n      <td>yes</td>\n      <td>adopted</td>\n      <td>0.0</td>\n      <td>xsmall</td>\n      <td>independent</td>\n      <td>apartment_friendly</td>\n      <td>very_common</td>\n      <td>medium_low</td>\n      <td>toy_group</td>\n    </tr>\n    <tr>\n      <th>109119</th>\n      <td>110493</td>\n      <td>a829868</td>\n      <td>remy</td>\n      <td>2021-02-25 11:40:00</td>\n      <td>valdez in austin (tx)</td>\n      <td>stray</td>\n      <td>normal</td>\n      <td>dog</td>\n      <td>1.000000</td>\n      <td>no</td>\n      <td>...</td>\n      <td>male</td>\n      <td>yes</td>\n      <td>adopted</td>\n      <td>5.0</td>\n      <td>small</td>\n      <td>agreeable</td>\n      <td>family_dog</td>\n      <td>frequent</td>\n      <td>medium_high</td>\n      <td>hound_group</td>\n    </tr>\n    <tr>\n      <th>109120</th>\n      <td>110494</td>\n      <td>a828158</td>\n      <td>odin</td>\n      <td>2021-01-08 07:01:00</td>\n      <td>2224 e stassney in austin (tx)</td>\n      <td>stray</td>\n      <td>normal</td>\n      <td>dog</td>\n      <td>0.833333</td>\n      <td>yes</td>\n      <td>...</td>\n      <td>male</td>\n      <td>yes</td>\n      <td>adopted</td>\n      <td>53.0</td>\n      <td>large</td>\n      <td>agreeable</td>\n      <td>guard_dog</td>\n      <td>rare</td>\n      <td>medium_low</td>\n      <td>working_group</td>\n    </tr>\n  </tbody>\n</table>\n<p>109121 rows × 30 columns</p>\n</div>"
     },
     "execution_count": 5,
     "metadata": {},
     "output_type": "execute_result"
    }
   ]
  },
  {
   "cell_type": "markdown",
   "source": [
    "# Data Preparation"
   ],
   "metadata": {
    "collapsed": false
   }
  },
  {
   "cell_type": "code",
   "execution_count": 7,
   "outputs": [
    {
     "name": "stderr",
     "output_type": "stream",
     "text": [
      "C:\\Users\\diedr\\AppData\\Local\\Temp\\ipykernel_16772\\2350378753.py:2: FutureWarning: In a future version of pandas all arguments of DataFrame.drop except for the argument 'labels' will be keyword-only.\n",
      "  df_total = df_total.drop('Unnamed: 0',1)\n"
     ]
    },
    {
     "ename": "KeyError",
     "evalue": "\"['Unnamed: 0'] not found in axis\"",
     "output_type": "error",
     "traceback": [
      "\u001B[1;31m---------------------------------------------------------------------------\u001B[0m",
      "\u001B[1;31mKeyError\u001B[0m                                  Traceback (most recent call last)",
      "Input \u001B[1;32mIn [7]\u001B[0m, in \u001B[0;36m<module>\u001B[1;34m\u001B[0m\n\u001B[0;32m      1\u001B[0m \u001B[38;5;66;03m# csv created this\u001B[39;00m\n\u001B[1;32m----> 2\u001B[0m df_total \u001B[38;5;241m=\u001B[39m \u001B[43mdf_total\u001B[49m\u001B[38;5;241;43m.\u001B[39;49m\u001B[43mdrop\u001B[49m\u001B[43m(\u001B[49m\u001B[38;5;124;43m'\u001B[39;49m\u001B[38;5;124;43mUnnamed: 0\u001B[39;49m\u001B[38;5;124;43m'\u001B[39;49m\u001B[43m,\u001B[49m\u001B[38;5;241;43m1\u001B[39;49m\u001B[43m)\u001B[49m\n",
      "File \u001B[1;32mD:\\Data Analysis and Science\\Data Manipulation\\Plataforms\\Python\\Python Base Original\\lib\\site-packages\\pandas\\util\\_decorators.py:311\u001B[0m, in \u001B[0;36mdeprecate_nonkeyword_arguments.<locals>.decorate.<locals>.wrapper\u001B[1;34m(*args, **kwargs)\u001B[0m\n\u001B[0;32m    305\u001B[0m \u001B[38;5;28;01mif\u001B[39;00m \u001B[38;5;28mlen\u001B[39m(args) \u001B[38;5;241m>\u001B[39m num_allow_args:\n\u001B[0;32m    306\u001B[0m     warnings\u001B[38;5;241m.\u001B[39mwarn(\n\u001B[0;32m    307\u001B[0m         msg\u001B[38;5;241m.\u001B[39mformat(arguments\u001B[38;5;241m=\u001B[39marguments),\n\u001B[0;32m    308\u001B[0m         \u001B[38;5;167;01mFutureWarning\u001B[39;00m,\n\u001B[0;32m    309\u001B[0m         stacklevel\u001B[38;5;241m=\u001B[39mstacklevel,\n\u001B[0;32m    310\u001B[0m     )\n\u001B[1;32m--> 311\u001B[0m \u001B[38;5;28;01mreturn\u001B[39;00m func(\u001B[38;5;241m*\u001B[39margs, \u001B[38;5;241m*\u001B[39m\u001B[38;5;241m*\u001B[39mkwargs)\n",
      "File \u001B[1;32mD:\\Data Analysis and Science\\Data Manipulation\\Plataforms\\Python\\Python Base Original\\lib\\site-packages\\pandas\\core\\frame.py:4948\u001B[0m, in \u001B[0;36mDataFrame.drop\u001B[1;34m(self, labels, axis, index, columns, level, inplace, errors)\u001B[0m\n\u001B[0;32m   4800\u001B[0m \u001B[38;5;129m@deprecate_nonkeyword_arguments\u001B[39m(version\u001B[38;5;241m=\u001B[39m\u001B[38;5;28;01mNone\u001B[39;00m, allowed_args\u001B[38;5;241m=\u001B[39m[\u001B[38;5;124m\"\u001B[39m\u001B[38;5;124mself\u001B[39m\u001B[38;5;124m\"\u001B[39m, \u001B[38;5;124m\"\u001B[39m\u001B[38;5;124mlabels\u001B[39m\u001B[38;5;124m\"\u001B[39m])\n\u001B[0;32m   4801\u001B[0m \u001B[38;5;28;01mdef\u001B[39;00m \u001B[38;5;21mdrop\u001B[39m(\n\u001B[0;32m   4802\u001B[0m     \u001B[38;5;28mself\u001B[39m,\n\u001B[1;32m   (...)\u001B[0m\n\u001B[0;32m   4809\u001B[0m     errors: \u001B[38;5;28mstr\u001B[39m \u001B[38;5;241m=\u001B[39m \u001B[38;5;124m\"\u001B[39m\u001B[38;5;124mraise\u001B[39m\u001B[38;5;124m\"\u001B[39m,\n\u001B[0;32m   4810\u001B[0m ):\n\u001B[0;32m   4811\u001B[0m     \u001B[38;5;124;03m\"\"\"\u001B[39;00m\n\u001B[0;32m   4812\u001B[0m \u001B[38;5;124;03m    Drop specified labels from rows or columns.\u001B[39;00m\n\u001B[0;32m   4813\u001B[0m \n\u001B[1;32m   (...)\u001B[0m\n\u001B[0;32m   4946\u001B[0m \u001B[38;5;124;03m            weight  1.0     0.8\u001B[39;00m\n\u001B[0;32m   4947\u001B[0m \u001B[38;5;124;03m    \"\"\"\u001B[39;00m\n\u001B[1;32m-> 4948\u001B[0m     \u001B[38;5;28;01mreturn\u001B[39;00m \u001B[38;5;28;43msuper\u001B[39;49m\u001B[43m(\u001B[49m\u001B[43m)\u001B[49m\u001B[38;5;241;43m.\u001B[39;49m\u001B[43mdrop\u001B[49m\u001B[43m(\u001B[49m\n\u001B[0;32m   4949\u001B[0m \u001B[43m        \u001B[49m\u001B[43mlabels\u001B[49m\u001B[38;5;241;43m=\u001B[39;49m\u001B[43mlabels\u001B[49m\u001B[43m,\u001B[49m\n\u001B[0;32m   4950\u001B[0m \u001B[43m        \u001B[49m\u001B[43maxis\u001B[49m\u001B[38;5;241;43m=\u001B[39;49m\u001B[43maxis\u001B[49m\u001B[43m,\u001B[49m\n\u001B[0;32m   4951\u001B[0m \u001B[43m        \u001B[49m\u001B[43mindex\u001B[49m\u001B[38;5;241;43m=\u001B[39;49m\u001B[43mindex\u001B[49m\u001B[43m,\u001B[49m\n\u001B[0;32m   4952\u001B[0m \u001B[43m        \u001B[49m\u001B[43mcolumns\u001B[49m\u001B[38;5;241;43m=\u001B[39;49m\u001B[43mcolumns\u001B[49m\u001B[43m,\u001B[49m\n\u001B[0;32m   4953\u001B[0m \u001B[43m        \u001B[49m\u001B[43mlevel\u001B[49m\u001B[38;5;241;43m=\u001B[39;49m\u001B[43mlevel\u001B[49m\u001B[43m,\u001B[49m\n\u001B[0;32m   4954\u001B[0m \u001B[43m        \u001B[49m\u001B[43minplace\u001B[49m\u001B[38;5;241;43m=\u001B[39;49m\u001B[43minplace\u001B[49m\u001B[43m,\u001B[49m\n\u001B[0;32m   4955\u001B[0m \u001B[43m        \u001B[49m\u001B[43merrors\u001B[49m\u001B[38;5;241;43m=\u001B[39;49m\u001B[43merrors\u001B[49m\u001B[43m,\u001B[49m\n\u001B[0;32m   4956\u001B[0m \u001B[43m    \u001B[49m\u001B[43m)\u001B[49m\n",
      "File \u001B[1;32mD:\\Data Analysis and Science\\Data Manipulation\\Plataforms\\Python\\Python Base Original\\lib\\site-packages\\pandas\\core\\generic.py:4279\u001B[0m, in \u001B[0;36mNDFrame.drop\u001B[1;34m(self, labels, axis, index, columns, level, inplace, errors)\u001B[0m\n\u001B[0;32m   4277\u001B[0m \u001B[38;5;28;01mfor\u001B[39;00m axis, labels \u001B[38;5;129;01min\u001B[39;00m axes\u001B[38;5;241m.\u001B[39mitems():\n\u001B[0;32m   4278\u001B[0m     \u001B[38;5;28;01mif\u001B[39;00m labels \u001B[38;5;129;01mis\u001B[39;00m \u001B[38;5;129;01mnot\u001B[39;00m \u001B[38;5;28;01mNone\u001B[39;00m:\n\u001B[1;32m-> 4279\u001B[0m         obj \u001B[38;5;241m=\u001B[39m \u001B[43mobj\u001B[49m\u001B[38;5;241;43m.\u001B[39;49m\u001B[43m_drop_axis\u001B[49m\u001B[43m(\u001B[49m\u001B[43mlabels\u001B[49m\u001B[43m,\u001B[49m\u001B[43m \u001B[49m\u001B[43maxis\u001B[49m\u001B[43m,\u001B[49m\u001B[43m \u001B[49m\u001B[43mlevel\u001B[49m\u001B[38;5;241;43m=\u001B[39;49m\u001B[43mlevel\u001B[49m\u001B[43m,\u001B[49m\u001B[43m \u001B[49m\u001B[43merrors\u001B[49m\u001B[38;5;241;43m=\u001B[39;49m\u001B[43merrors\u001B[49m\u001B[43m)\u001B[49m\n\u001B[0;32m   4281\u001B[0m \u001B[38;5;28;01mif\u001B[39;00m inplace:\n\u001B[0;32m   4282\u001B[0m     \u001B[38;5;28mself\u001B[39m\u001B[38;5;241m.\u001B[39m_update_inplace(obj)\n",
      "File \u001B[1;32mD:\\Data Analysis and Science\\Data Manipulation\\Plataforms\\Python\\Python Base Original\\lib\\site-packages\\pandas\\core\\generic.py:4323\u001B[0m, in \u001B[0;36mNDFrame._drop_axis\u001B[1;34m(self, labels, axis, level, errors, consolidate, only_slice)\u001B[0m\n\u001B[0;32m   4321\u001B[0m         new_axis \u001B[38;5;241m=\u001B[39m axis\u001B[38;5;241m.\u001B[39mdrop(labels, level\u001B[38;5;241m=\u001B[39mlevel, errors\u001B[38;5;241m=\u001B[39merrors)\n\u001B[0;32m   4322\u001B[0m     \u001B[38;5;28;01melse\u001B[39;00m:\n\u001B[1;32m-> 4323\u001B[0m         new_axis \u001B[38;5;241m=\u001B[39m \u001B[43maxis\u001B[49m\u001B[38;5;241;43m.\u001B[39;49m\u001B[43mdrop\u001B[49m\u001B[43m(\u001B[49m\u001B[43mlabels\u001B[49m\u001B[43m,\u001B[49m\u001B[43m \u001B[49m\u001B[43merrors\u001B[49m\u001B[38;5;241;43m=\u001B[39;49m\u001B[43merrors\u001B[49m\u001B[43m)\u001B[49m\n\u001B[0;32m   4324\u001B[0m     indexer \u001B[38;5;241m=\u001B[39m axis\u001B[38;5;241m.\u001B[39mget_indexer(new_axis)\n\u001B[0;32m   4326\u001B[0m \u001B[38;5;66;03m# Case for non-unique axis\u001B[39;00m\n\u001B[0;32m   4327\u001B[0m \u001B[38;5;28;01melse\u001B[39;00m:\n",
      "File \u001B[1;32mD:\\Data Analysis and Science\\Data Manipulation\\Plataforms\\Python\\Python Base Original\\lib\\site-packages\\pandas\\core\\indexes\\base.py:6644\u001B[0m, in \u001B[0;36mIndex.drop\u001B[1;34m(self, labels, errors)\u001B[0m\n\u001B[0;32m   6642\u001B[0m \u001B[38;5;28;01mif\u001B[39;00m mask\u001B[38;5;241m.\u001B[39many():\n\u001B[0;32m   6643\u001B[0m     \u001B[38;5;28;01mif\u001B[39;00m errors \u001B[38;5;241m!=\u001B[39m \u001B[38;5;124m\"\u001B[39m\u001B[38;5;124mignore\u001B[39m\u001B[38;5;124m\"\u001B[39m:\n\u001B[1;32m-> 6644\u001B[0m         \u001B[38;5;28;01mraise\u001B[39;00m \u001B[38;5;167;01mKeyError\u001B[39;00m(\u001B[38;5;124mf\u001B[39m\u001B[38;5;124m\"\u001B[39m\u001B[38;5;132;01m{\u001B[39;00m\u001B[38;5;28mlist\u001B[39m(labels[mask])\u001B[38;5;132;01m}\u001B[39;00m\u001B[38;5;124m not found in axis\u001B[39m\u001B[38;5;124m\"\u001B[39m)\n\u001B[0;32m   6645\u001B[0m     indexer \u001B[38;5;241m=\u001B[39m indexer[\u001B[38;5;241m~\u001B[39mmask]\n\u001B[0;32m   6646\u001B[0m \u001B[38;5;28;01mreturn\u001B[39;00m \u001B[38;5;28mself\u001B[39m\u001B[38;5;241m.\u001B[39mdelete(indexer)\n",
      "\u001B[1;31mKeyError\u001B[0m: \"['Unnamed: 0'] not found in axis\""
     ]
    }
   ],
   "source": [
    "# csv created this\n",
    "df_total = df_total.drop('Unnamed: 0',1)"
   ],
   "metadata": {
    "collapsed": false,
    "pycharm": {
     "name": "#%%\n"
    }
   }
  },
  {
   "cell_type": "code",
   "execution_count": null,
   "outputs": [],
   "source": [
    "# not conbine well with label coding\n",
    "\n",
    "df_total = df_total.drop('Animal_ID',1) #@@@@@@@\n",
    "df_total = df_total.drop('Name',1)\n",
    "#df_total = df_total.drop('Date of Birth',1)\n",
    "df_total = df_total.drop('DateTime_Intake',1)\n",
    "df_total = df_total.drop('DateTime_Outcome',1)\n",
    "df_total = df_total.drop('Location',1)\n",
    "df_total = df_total.drop('Found_Location',1)    #@@@@@@@@@\n",
    "#df_total = df_total.drop('Age_upon_Intake_weeks',1)\n",
    "#df_total = df_total.drop('Age_upon_Outcome_weeks',1)\n",
    "#df_total = df_total.drop('Days in Shelter',1)\n"
   ],
   "metadata": {
    "collapsed": false,
    "pycharm": {
     "name": "#%%\n"
    }
   }
  },
  {
   "cell_type": "code",
   "execution_count": 8,
   "outputs": [
    {
     "name": "stderr",
     "output_type": "stream",
     "text": [
      "C:\\Users\\diedr\\AppData\\Local\\Temp\\ipykernel_16772\\1735493739.py:1: FutureWarning: In a future version of pandas all arguments of DataFrame.drop except for the argument 'labels' will be keyword-only.\n",
      "  df_total = df_total.drop('Outcome_Type',1)\n",
      "C:\\Users\\diedr\\AppData\\Local\\Temp\\ipykernel_16772\\1735493739.py:2: FutureWarning: In a future version of pandas all arguments of DataFrame.drop except for the argument 'labels' will be keyword-only.\n",
      "  df_total = df_total.drop('Outcome_Subtype',1)\n"
     ]
    }
   ],
   "source": [
    "df_total = df_total.drop('Outcome_Type',1)\n",
    "df_total = df_total.drop('Outcome_Subtype',1)"
   ],
   "metadata": {
    "collapsed": false,
    "pycharm": {
     "name": "#%%\n"
    }
   }
  },
  {
   "cell_type": "code",
   "execution_count": 9,
   "outputs": [],
   "source": [
    "# Cause multicollinearity or it become irrelevant\n",
    "#df_total = df_total.drop('Outcome Subtype',1)   #same info in outcome  & multicollinearity\n",
    "#df_total = df_total.drop('Animal_Type',1)   # only dogs\n",
    "\n",
    "#df_total = df_total.drop('Outcome Type',1)"
   ],
   "metadata": {
    "collapsed": false,
    "pycharm": {
     "name": "#%%\n"
    }
   }
  },
  {
   "cell_type": "markdown",
   "source": [
    "cols_cat = ['Intake_type','Intake_Condition','Mix_Breed','Primary_Breed','Secondary_Breed','Main_Color','Secondary_Color','Sex','neuter/spay','Breed_size','Trainability','Breed_characteristic','Barking_level','activity_level','adopted/non-adopted','Outcome_Type','breed_group']\n",
    "#df_total[cols] = df_total[cols].astype('category')\n",
    "#"
   ],
   "metadata": {
    "collapsed": false,
    "pycharm": {
     "name": "#%% md\n"
    }
   }
  },
  {
   "cell_type": "markdown",
   "source": [
    "cols2 = ['Breed_size','Trainability','Breed_characteristic','Barking_level','activity_level','Outcome_Type','adopted/non-adopted','breed_group','Outcome_Subtype']\n",
    "df_total[cols2] = df_total[cols2].astype('category')"
   ],
   "metadata": {
    "collapsed": false,
    "pycharm": {
     "name": "#%% md\n"
    }
   }
  },
  {
   "cell_type": "code",
   "execution_count": 9,
   "outputs": [],
   "source": [
    "cols_cat = ['Intake_type','Intake_Condition','Mix_Breed','Primary_Breed','Secondary_Breed','Main_Color','Secondary_Color','Sex','neuter/spay','Breed_size','Trainability','Breed_characteristic','Barking_level','activity_level','adopted/non-adopted','breed_group','Animal_Type']\n",
    "df_total[cols_cat] = df_total[cols_cat].astype('category')"
   ],
   "metadata": {
    "collapsed": false,
    "pycharm": {
     "name": "#%%\n"
    }
   }
  },
  {
   "cell_type": "code",
   "source": [
    "#df_total['Days_in_shelter'] = df_total['Days_in_Shelter'].astype('int')\n",
    "#df_total['Age_upon_Intake_weeks'] = df_total['Age_upon_Intake_weeks'].astype('int')\n",
    "#df_total['Age_upon_Outcome_weeks'] = df_total['Age_upon_Outcome_weeks'].astype('int')\n",
    "\n",
    "\n",
    "df_total['Date of Birth'] = df_total['Date of Birth'].astype('datetime64[ns]')\n",
    "#df_total['DateTime_Outcome'] = df_total['DateTime_Outcome'].astype('datetime64[ns]')\n",
    "#df_total['DateTime_Intake'] = df_total['DateTime_Intake'].astype('datetime64[ns]')\n"
   ],
   "metadata": {
    "collapsed": false,
    "pycharm": {
     "name": "#%%\n"
    }
   },
   "execution_count": 10,
   "outputs": []
  },
  {
   "cell_type": "code",
   "source": [
    "df_total.info()"
   ],
   "metadata": {
    "collapsed": false,
    "pycharm": {
     "name": "#%%\n"
    }
   },
   "execution_count": 11,
   "outputs": [
    {
     "name": "stdout",
     "output_type": "stream",
     "text": [
      "<class 'pandas.core.frame.DataFrame'>\n",
      "RangeIndex: 109121 entries, 0 to 109120\n",
      "Data columns (total 27 columns):\n",
      " #   Column                Non-Null Count   Dtype         \n",
      "---  ------                --------------   -----         \n",
      " 0   Animal_ID             109121 non-null  object        \n",
      " 1   Name                  109120 non-null  object        \n",
      " 2   DateTime_Intake       109121 non-null  object        \n",
      " 3   Found_Location        109121 non-null  object        \n",
      " 4   Intake_type           109121 non-null  category      \n",
      " 5   Intake_Condition      109121 non-null  category      \n",
      " 6   Animal_Type           109121 non-null  category      \n",
      " 7   Age_upon_Intake       109121 non-null  float64       \n",
      " 8   Mix_Breed             109121 non-null  category      \n",
      " 9   Primary_Breed         109121 non-null  category      \n",
      " 10  Secondary_Breed       109121 non-null  category      \n",
      " 11  Main_Color            109121 non-null  category      \n",
      " 12  Secondary_Color       109121 non-null  category      \n",
      " 13  DateTime_Outcome      109121 non-null  object        \n",
      " 14  Date of Birth         109121 non-null  datetime64[ns]\n",
      " 15  Age_upon_Outcome      109121 non-null  float64       \n",
      " 16  Location              109121 non-null  object        \n",
      " 17  Sex                   109121 non-null  category      \n",
      " 18  neuter/spay           109121 non-null  category      \n",
      " 19  adopted/non-adopted   109121 non-null  category      \n",
      " 20  Days_in_shelter       109121 non-null  float64       \n",
      " 21  Breed_size            109121 non-null  category      \n",
      " 22  Trainability          109121 non-null  category      \n",
      " 23  Breed_characteristic  109121 non-null  category      \n",
      " 24  Barking_level         109121 non-null  category      \n",
      " 25  activity_level        109121 non-null  category      \n",
      " 26  breed_group           109121 non-null  category      \n",
      "dtypes: category(17), datetime64[ns](1), float64(3), object(6)\n",
      "memory usage: 10.3+ MB\n"
     ]
    }
   ]
  },
  {
   "cell_type": "markdown",
   "source": [
    "x = df_total.drop('Outcome Type',1)\n",
    "y = df_total['Outcome Type']"
   ],
   "metadata": {
    "collapsed": false,
    "pycharm": {
     "name": "#%% md\n"
    }
   }
  },
  {
   "cell_type": "markdown",
   "source": [
    "# Label Encoder"
   ],
   "metadata": {
    "collapsed": false
   }
  },
  {
   "cell_type": "markdown",
   "source": [
    "from sklearn import preprocessing\n",
    "le = preprocessing.LabelEncoder()\n",
    "x_2 = x.apply(le.fit_transform)\n",
    "x_2.head()"
   ],
   "metadata": {
    "collapsed": false,
    "pycharm": {
     "name": "#%% md\n"
    }
   }
  },
  {
   "cell_type": "code",
   "execution_count": 12,
   "outputs": [
    {
     "data": {
      "text/plain": "        Animal_ID   Name  DateTime_Intake  Found_Location  Intake_type  \\\n0           83488   1031            58071           15478            4   \n1           31871   8948            20527           34171            4   \n2           43128  17087            28844           16635            4   \n3            4730  18881              725           35511            4   \n4           15390  16807             8742           30563            4   \n...           ...    ...              ...             ...          ...   \n109116     109120  18881            76109           47218            2   \n109117     109049  15898            76044           10185            4   \n109118      69521   9832            47858           35511            2   \n109119     109082  16711            76083           47446            4   \n109120     108592  15605            75655           14381            4   \n\n        Intake_Condition  Animal_Type  Age_upon_Intake  Mix_Breed  \\\n0                      5            2               18          1   \n1                      5            2               24          0   \n2                      5            2               16          1   \n3                      9            1                4          1   \n4                      5            2               20          0   \n...                  ...          ...              ...        ...   \n109116                 5            2                5          1   \n109117                 5            2               19          0   \n109118                 5            2                5          1   \n109119                 5            2               17          0   \n109120                 5            2               15          1   \n\n        Primary_Breed  ...  Sex  neuter/spay  adopted/non-adopted  \\\n0                  35  ...    1            2                    1   \n1                 131  ...    0            2                    0   \n2                  32  ...    1            2                    0   \n3                 119  ...    0            0                    1   \n4                 116  ...    1            2                    0   \n...               ...  ...  ...          ...                  ...   \n109116            266  ...    2            1                    1   \n109117             89  ...    1            0                    0   \n109118             89  ...    1            2                    0   \n109119             35  ...    1            2                    0   \n109120            282  ...    1            2                    0   \n\n        Days_in_shelter  Breed_size  Trainability  Breed_characteristic  \\\n0                     4           3             1                     2   \n1                     0           2             4                     0   \n2                     6           3             3                     1   \n3                     0           0             0                     0   \n4                     2           1             4                     3   \n...                 ...         ...           ...                   ...   \n109116                0           3             1                     2   \n109117                0           5             3                     1   \n109118                0           5             3                     1   \n109119                5           3             1                     2   \n109120               53           1             1                     3   \n\n        Barking_level  activity_level  breed_group  \n0                   1               2            1  \n1                   3               3            5  \n2                   4               2            1  \n3                   0               4            3  \n4                   3               0            9  \n...               ...             ...          ...  \n109116              4               3            8  \n109117              5               3            8  \n109118              5               3            8  \n109119              1               2            1  \n109120              4               3            9  \n\n[109121 rows x 27 columns]",
      "text/html": "<div>\n<style scoped>\n    .dataframe tbody tr th:only-of-type {\n        vertical-align: middle;\n    }\n\n    .dataframe tbody tr th {\n        vertical-align: top;\n    }\n\n    .dataframe thead th {\n        text-align: right;\n    }\n</style>\n<table border=\"1\" class=\"dataframe\">\n  <thead>\n    <tr style=\"text-align: right;\">\n      <th></th>\n      <th>Animal_ID</th>\n      <th>Name</th>\n      <th>DateTime_Intake</th>\n      <th>Found_Location</th>\n      <th>Intake_type</th>\n      <th>Intake_Condition</th>\n      <th>Animal_Type</th>\n      <th>Age_upon_Intake</th>\n      <th>Mix_Breed</th>\n      <th>Primary_Breed</th>\n      <th>...</th>\n      <th>Sex</th>\n      <th>neuter/spay</th>\n      <th>adopted/non-adopted</th>\n      <th>Days_in_shelter</th>\n      <th>Breed_size</th>\n      <th>Trainability</th>\n      <th>Breed_characteristic</th>\n      <th>Barking_level</th>\n      <th>activity_level</th>\n      <th>breed_group</th>\n    </tr>\n  </thead>\n  <tbody>\n    <tr>\n      <th>0</th>\n      <td>83488</td>\n      <td>1031</td>\n      <td>58071</td>\n      <td>15478</td>\n      <td>4</td>\n      <td>5</td>\n      <td>2</td>\n      <td>18</td>\n      <td>1</td>\n      <td>35</td>\n      <td>...</td>\n      <td>1</td>\n      <td>2</td>\n      <td>1</td>\n      <td>4</td>\n      <td>3</td>\n      <td>1</td>\n      <td>2</td>\n      <td>1</td>\n      <td>2</td>\n      <td>1</td>\n    </tr>\n    <tr>\n      <th>1</th>\n      <td>31871</td>\n      <td>8948</td>\n      <td>20527</td>\n      <td>34171</td>\n      <td>4</td>\n      <td>5</td>\n      <td>2</td>\n      <td>24</td>\n      <td>0</td>\n      <td>131</td>\n      <td>...</td>\n      <td>0</td>\n      <td>2</td>\n      <td>0</td>\n      <td>0</td>\n      <td>2</td>\n      <td>4</td>\n      <td>0</td>\n      <td>3</td>\n      <td>3</td>\n      <td>5</td>\n    </tr>\n    <tr>\n      <th>2</th>\n      <td>43128</td>\n      <td>17087</td>\n      <td>28844</td>\n      <td>16635</td>\n      <td>4</td>\n      <td>5</td>\n      <td>2</td>\n      <td>16</td>\n      <td>1</td>\n      <td>32</td>\n      <td>...</td>\n      <td>1</td>\n      <td>2</td>\n      <td>0</td>\n      <td>6</td>\n      <td>3</td>\n      <td>3</td>\n      <td>1</td>\n      <td>4</td>\n      <td>2</td>\n      <td>1</td>\n    </tr>\n    <tr>\n      <th>3</th>\n      <td>4730</td>\n      <td>18881</td>\n      <td>725</td>\n      <td>35511</td>\n      <td>4</td>\n      <td>9</td>\n      <td>1</td>\n      <td>4</td>\n      <td>1</td>\n      <td>119</td>\n      <td>...</td>\n      <td>0</td>\n      <td>0</td>\n      <td>1</td>\n      <td>0</td>\n      <td>0</td>\n      <td>0</td>\n      <td>0</td>\n      <td>0</td>\n      <td>4</td>\n      <td>3</td>\n    </tr>\n    <tr>\n      <th>4</th>\n      <td>15390</td>\n      <td>16807</td>\n      <td>8742</td>\n      <td>30563</td>\n      <td>4</td>\n      <td>5</td>\n      <td>2</td>\n      <td>20</td>\n      <td>0</td>\n      <td>116</td>\n      <td>...</td>\n      <td>1</td>\n      <td>2</td>\n      <td>0</td>\n      <td>2</td>\n      <td>1</td>\n      <td>4</td>\n      <td>3</td>\n      <td>3</td>\n      <td>0</td>\n      <td>9</td>\n    </tr>\n    <tr>\n      <th>...</th>\n      <td>...</td>\n      <td>...</td>\n      <td>...</td>\n      <td>...</td>\n      <td>...</td>\n      <td>...</td>\n      <td>...</td>\n      <td>...</td>\n      <td>...</td>\n      <td>...</td>\n      <td>...</td>\n      <td>...</td>\n      <td>...</td>\n      <td>...</td>\n      <td>...</td>\n      <td>...</td>\n      <td>...</td>\n      <td>...</td>\n      <td>...</td>\n      <td>...</td>\n      <td>...</td>\n    </tr>\n    <tr>\n      <th>109116</th>\n      <td>109120</td>\n      <td>18881</td>\n      <td>76109</td>\n      <td>47218</td>\n      <td>2</td>\n      <td>5</td>\n      <td>2</td>\n      <td>5</td>\n      <td>1</td>\n      <td>266</td>\n      <td>...</td>\n      <td>2</td>\n      <td>1</td>\n      <td>1</td>\n      <td>0</td>\n      <td>3</td>\n      <td>1</td>\n      <td>2</td>\n      <td>4</td>\n      <td>3</td>\n      <td>8</td>\n    </tr>\n    <tr>\n      <th>109117</th>\n      <td>109049</td>\n      <td>15898</td>\n      <td>76044</td>\n      <td>10185</td>\n      <td>4</td>\n      <td>5</td>\n      <td>2</td>\n      <td>19</td>\n      <td>0</td>\n      <td>89</td>\n      <td>...</td>\n      <td>1</td>\n      <td>0</td>\n      <td>0</td>\n      <td>0</td>\n      <td>5</td>\n      <td>3</td>\n      <td>1</td>\n      <td>5</td>\n      <td>3</td>\n      <td>8</td>\n    </tr>\n    <tr>\n      <th>109118</th>\n      <td>69521</td>\n      <td>9832</td>\n      <td>47858</td>\n      <td>35511</td>\n      <td>2</td>\n      <td>5</td>\n      <td>2</td>\n      <td>5</td>\n      <td>1</td>\n      <td>89</td>\n      <td>...</td>\n      <td>1</td>\n      <td>2</td>\n      <td>0</td>\n      <td>0</td>\n      <td>5</td>\n      <td>3</td>\n      <td>1</td>\n      <td>5</td>\n      <td>3</td>\n      <td>8</td>\n    </tr>\n    <tr>\n      <th>109119</th>\n      <td>109082</td>\n      <td>16711</td>\n      <td>76083</td>\n      <td>47446</td>\n      <td>4</td>\n      <td>5</td>\n      <td>2</td>\n      <td>17</td>\n      <td>0</td>\n      <td>35</td>\n      <td>...</td>\n      <td>1</td>\n      <td>2</td>\n      <td>0</td>\n      <td>5</td>\n      <td>3</td>\n      <td>1</td>\n      <td>2</td>\n      <td>1</td>\n      <td>2</td>\n      <td>1</td>\n    </tr>\n    <tr>\n      <th>109120</th>\n      <td>108592</td>\n      <td>15605</td>\n      <td>75655</td>\n      <td>14381</td>\n      <td>4</td>\n      <td>5</td>\n      <td>2</td>\n      <td>15</td>\n      <td>1</td>\n      <td>282</td>\n      <td>...</td>\n      <td>1</td>\n      <td>2</td>\n      <td>0</td>\n      <td>53</td>\n      <td>1</td>\n      <td>1</td>\n      <td>3</td>\n      <td>4</td>\n      <td>3</td>\n      <td>9</td>\n    </tr>\n  </tbody>\n</table>\n<p>109121 rows × 27 columns</p>\n</div>"
     },
     "execution_count": 12,
     "metadata": {},
     "output_type": "execute_result"
    }
   ],
   "source": [
    "from sklearn.preprocessing import LabelEncoder\n",
    "\n",
    "# creating instance of labelencoder\n",
    "labelencoder = LabelEncoder()\n",
    "\n",
    "# Assigning numerical values and storing in another column\n",
    "for i in df_total.columns:\n",
    "    df_total[i] = labelencoder.fit_transform(df_total[i])\n",
    "df_total\n",
    "\n",
    "\n",
    "#df_total['Outcome Type'] = labelencoder.fit_transform(df_total['Outcome Type'])\n",
    "#df_total"
   ],
   "metadata": {
    "collapsed": false,
    "pycharm": {
     "name": "#%%\n"
    }
   }
  },
  {
   "cell_type": "markdown",
   "source": [
    "# Separate Data (x,y,categorical and numerical)"
   ],
   "metadata": {
    "collapsed": false
   }
  },
  {
   "cell_type": "code",
   "execution_count": 13,
   "outputs": [
    {
     "name": "stderr",
     "output_type": "stream",
     "text": [
      "C:\\Users\\diedr\\AppData\\Local\\Temp\\ipykernel_16772\\4183125591.py:1: FutureWarning: In a future version of pandas all arguments of DataFrame.drop except for the argument 'labels' will be keyword-only.\n",
      "  x = df_total.drop('adopted/non-adopted', 1)\n"
     ]
    },
    {
     "data": {
      "text/plain": "   Animal_ID   Name  DateTime_Intake  Found_Location  Intake_type  \\\n0      83488   1031            58071           15478            4   \n1      31871   8948            20527           34171            4   \n2      43128  17087            28844           16635            4   \n3       4730  18881              725           35511            4   \n4      15390  16807             8742           30563            4   \n\n   Intake_Condition  Animal_Type  Age_upon_Intake  Mix_Breed  Primary_Breed  \\\n0                 5            2               18          1             35   \n1                 5            2               24          0            131   \n2                 5            2               16          1             32   \n3                 9            1                4          1            119   \n4                 5            2               20          0            116   \n\n   ...  Location  Sex  neuter/spay  Days_in_shelter  Breed_size  Trainability  \\\n0  ...         0    1            2                4           3             1   \n1  ...         0    0            2                0           2             4   \n2  ...         0    1            2                6           3             3   \n3  ...         0    0            0                0           0             0   \n4  ...         0    1            2                2           1             4   \n\n   Breed_characteristic  Barking_level  activity_level  breed_group  \n0                     2              1               2            1  \n1                     0              3               3            5  \n2                     1              4               2            1  \n3                     0              0               4            3  \n4                     3              3               0            9  \n\n[5 rows x 26 columns]",
      "text/html": "<div>\n<style scoped>\n    .dataframe tbody tr th:only-of-type {\n        vertical-align: middle;\n    }\n\n    .dataframe tbody tr th {\n        vertical-align: top;\n    }\n\n    .dataframe thead th {\n        text-align: right;\n    }\n</style>\n<table border=\"1\" class=\"dataframe\">\n  <thead>\n    <tr style=\"text-align: right;\">\n      <th></th>\n      <th>Animal_ID</th>\n      <th>Name</th>\n      <th>DateTime_Intake</th>\n      <th>Found_Location</th>\n      <th>Intake_type</th>\n      <th>Intake_Condition</th>\n      <th>Animal_Type</th>\n      <th>Age_upon_Intake</th>\n      <th>Mix_Breed</th>\n      <th>Primary_Breed</th>\n      <th>...</th>\n      <th>Location</th>\n      <th>Sex</th>\n      <th>neuter/spay</th>\n      <th>Days_in_shelter</th>\n      <th>Breed_size</th>\n      <th>Trainability</th>\n      <th>Breed_characteristic</th>\n      <th>Barking_level</th>\n      <th>activity_level</th>\n      <th>breed_group</th>\n    </tr>\n  </thead>\n  <tbody>\n    <tr>\n      <th>0</th>\n      <td>83488</td>\n      <td>1031</td>\n      <td>58071</td>\n      <td>15478</td>\n      <td>4</td>\n      <td>5</td>\n      <td>2</td>\n      <td>18</td>\n      <td>1</td>\n      <td>35</td>\n      <td>...</td>\n      <td>0</td>\n      <td>1</td>\n      <td>2</td>\n      <td>4</td>\n      <td>3</td>\n      <td>1</td>\n      <td>2</td>\n      <td>1</td>\n      <td>2</td>\n      <td>1</td>\n    </tr>\n    <tr>\n      <th>1</th>\n      <td>31871</td>\n      <td>8948</td>\n      <td>20527</td>\n      <td>34171</td>\n      <td>4</td>\n      <td>5</td>\n      <td>2</td>\n      <td>24</td>\n      <td>0</td>\n      <td>131</td>\n      <td>...</td>\n      <td>0</td>\n      <td>0</td>\n      <td>2</td>\n      <td>0</td>\n      <td>2</td>\n      <td>4</td>\n      <td>0</td>\n      <td>3</td>\n      <td>3</td>\n      <td>5</td>\n    </tr>\n    <tr>\n      <th>2</th>\n      <td>43128</td>\n      <td>17087</td>\n      <td>28844</td>\n      <td>16635</td>\n      <td>4</td>\n      <td>5</td>\n      <td>2</td>\n      <td>16</td>\n      <td>1</td>\n      <td>32</td>\n      <td>...</td>\n      <td>0</td>\n      <td>1</td>\n      <td>2</td>\n      <td>6</td>\n      <td>3</td>\n      <td>3</td>\n      <td>1</td>\n      <td>4</td>\n      <td>2</td>\n      <td>1</td>\n    </tr>\n    <tr>\n      <th>3</th>\n      <td>4730</td>\n      <td>18881</td>\n      <td>725</td>\n      <td>35511</td>\n      <td>4</td>\n      <td>9</td>\n      <td>1</td>\n      <td>4</td>\n      <td>1</td>\n      <td>119</td>\n      <td>...</td>\n      <td>0</td>\n      <td>0</td>\n      <td>0</td>\n      <td>0</td>\n      <td>0</td>\n      <td>0</td>\n      <td>0</td>\n      <td>0</td>\n      <td>4</td>\n      <td>3</td>\n    </tr>\n    <tr>\n      <th>4</th>\n      <td>15390</td>\n      <td>16807</td>\n      <td>8742</td>\n      <td>30563</td>\n      <td>4</td>\n      <td>5</td>\n      <td>2</td>\n      <td>20</td>\n      <td>0</td>\n      <td>116</td>\n      <td>...</td>\n      <td>0</td>\n      <td>1</td>\n      <td>2</td>\n      <td>2</td>\n      <td>1</td>\n      <td>4</td>\n      <td>3</td>\n      <td>3</td>\n      <td>0</td>\n      <td>9</td>\n    </tr>\n  </tbody>\n</table>\n<p>5 rows × 26 columns</p>\n</div>"
     },
     "execution_count": 13,
     "metadata": {},
     "output_type": "execute_result"
    }
   ],
   "source": [
    "x = df_total.drop('adopted/non-adopted', 1)\n",
    "y = df_total['adopted/non-adopted']\n",
    "x.head()"
   ],
   "metadata": {
    "collapsed": false,
    "pycharm": {
     "name": "#%%\n"
    }
   }
  },
  {
   "cell_type": "code",
   "source": [
    "df_num = df_total.drop(cols_cat,axis=1)\n",
    "#df_num = df_num.drop('DateTime_Intake', axis=1)\n",
    "#df_num = df_num.drop('DateTime_Outcome',axis=1)\n",
    "df_num\n",
    "\n"
   ],
   "metadata": {
    "collapsed": false,
    "pycharm": {
     "name": "#%%\n"
    }
   },
   "execution_count": 14,
   "outputs": [
    {
     "data": {
      "text/plain": "        Animal_ID   Name  DateTime_Intake  Found_Location  Age_upon_Intake  \\\n0           83488   1031            58071           15478               18   \n1           31871   8948            20527           34171               24   \n2           43128  17087            28844           16635               16   \n3            4730  18881              725           35511                4   \n4           15390  16807             8742           30563               20   \n...           ...    ...              ...             ...              ...   \n109116     109120  18881            76109           47218                5   \n109117     109049  15898            76044           10185               19   \n109118      69521   9832            47858           35511                5   \n109119     109082  16711            76083           47446               17   \n109120     108592  15605            75655           14381               15   \n\n        DateTime_Outcome  Date of Birth  Age_upon_Outcome  Location  \\\n0                  67407           5632                17         0   \n1                  23285           2175                23         0   \n2                  33437           5005                16         0   \n3                    558           4432                 4         0   \n4                   9592           3252                19         0   \n...                  ...            ...               ...       ...   \n109116             89868           7070                 4         0   \n109117             89699           5893                18         0   \n109118             55493           5947                 6         0   \n109119             89872           6780                16         0   \n109120             89878           6793                15         0   \n\n        Days_in_shelter  \n0                     4  \n1                     0  \n2                     6  \n3                     0  \n4                     2  \n...                 ...  \n109116                0  \n109117                0  \n109118                0  \n109119                5  \n109120               53  \n\n[109121 rows x 10 columns]",
      "text/html": "<div>\n<style scoped>\n    .dataframe tbody tr th:only-of-type {\n        vertical-align: middle;\n    }\n\n    .dataframe tbody tr th {\n        vertical-align: top;\n    }\n\n    .dataframe thead th {\n        text-align: right;\n    }\n</style>\n<table border=\"1\" class=\"dataframe\">\n  <thead>\n    <tr style=\"text-align: right;\">\n      <th></th>\n      <th>Animal_ID</th>\n      <th>Name</th>\n      <th>DateTime_Intake</th>\n      <th>Found_Location</th>\n      <th>Age_upon_Intake</th>\n      <th>DateTime_Outcome</th>\n      <th>Date of Birth</th>\n      <th>Age_upon_Outcome</th>\n      <th>Location</th>\n      <th>Days_in_shelter</th>\n    </tr>\n  </thead>\n  <tbody>\n    <tr>\n      <th>0</th>\n      <td>83488</td>\n      <td>1031</td>\n      <td>58071</td>\n      <td>15478</td>\n      <td>18</td>\n      <td>67407</td>\n      <td>5632</td>\n      <td>17</td>\n      <td>0</td>\n      <td>4</td>\n    </tr>\n    <tr>\n      <th>1</th>\n      <td>31871</td>\n      <td>8948</td>\n      <td>20527</td>\n      <td>34171</td>\n      <td>24</td>\n      <td>23285</td>\n      <td>2175</td>\n      <td>23</td>\n      <td>0</td>\n      <td>0</td>\n    </tr>\n    <tr>\n      <th>2</th>\n      <td>43128</td>\n      <td>17087</td>\n      <td>28844</td>\n      <td>16635</td>\n      <td>16</td>\n      <td>33437</td>\n      <td>5005</td>\n      <td>16</td>\n      <td>0</td>\n      <td>6</td>\n    </tr>\n    <tr>\n      <th>3</th>\n      <td>4730</td>\n      <td>18881</td>\n      <td>725</td>\n      <td>35511</td>\n      <td>4</td>\n      <td>558</td>\n      <td>4432</td>\n      <td>4</td>\n      <td>0</td>\n      <td>0</td>\n    </tr>\n    <tr>\n      <th>4</th>\n      <td>15390</td>\n      <td>16807</td>\n      <td>8742</td>\n      <td>30563</td>\n      <td>20</td>\n      <td>9592</td>\n      <td>3252</td>\n      <td>19</td>\n      <td>0</td>\n      <td>2</td>\n    </tr>\n    <tr>\n      <th>...</th>\n      <td>...</td>\n      <td>...</td>\n      <td>...</td>\n      <td>...</td>\n      <td>...</td>\n      <td>...</td>\n      <td>...</td>\n      <td>...</td>\n      <td>...</td>\n      <td>...</td>\n    </tr>\n    <tr>\n      <th>109116</th>\n      <td>109120</td>\n      <td>18881</td>\n      <td>76109</td>\n      <td>47218</td>\n      <td>5</td>\n      <td>89868</td>\n      <td>7070</td>\n      <td>4</td>\n      <td>0</td>\n      <td>0</td>\n    </tr>\n    <tr>\n      <th>109117</th>\n      <td>109049</td>\n      <td>15898</td>\n      <td>76044</td>\n      <td>10185</td>\n      <td>19</td>\n      <td>89699</td>\n      <td>5893</td>\n      <td>18</td>\n      <td>0</td>\n      <td>0</td>\n    </tr>\n    <tr>\n      <th>109118</th>\n      <td>69521</td>\n      <td>9832</td>\n      <td>47858</td>\n      <td>35511</td>\n      <td>5</td>\n      <td>55493</td>\n      <td>5947</td>\n      <td>6</td>\n      <td>0</td>\n      <td>0</td>\n    </tr>\n    <tr>\n      <th>109119</th>\n      <td>109082</td>\n      <td>16711</td>\n      <td>76083</td>\n      <td>47446</td>\n      <td>17</td>\n      <td>89872</td>\n      <td>6780</td>\n      <td>16</td>\n      <td>0</td>\n      <td>5</td>\n    </tr>\n    <tr>\n      <th>109120</th>\n      <td>108592</td>\n      <td>15605</td>\n      <td>75655</td>\n      <td>14381</td>\n      <td>15</td>\n      <td>89878</td>\n      <td>6793</td>\n      <td>15</td>\n      <td>0</td>\n      <td>53</td>\n    </tr>\n  </tbody>\n</table>\n<p>109121 rows × 10 columns</p>\n</div>"
     },
     "execution_count": 14,
     "metadata": {},
     "output_type": "execute_result"
    }
   ]
  },
  {
   "cell_type": "markdown",
   "source": [
    "# One Hot Encoder"
   ],
   "metadata": {
    "collapsed": false
   }
  },
  {
   "cell_type": "markdown",
   "source": [
    "import pandas as pd\n",
    "import numpy as np\n",
    "from sklearn.preprocessing import OneHotEncoder\n",
    "\n",
    "enc = OneHotEncoder(handle_unknown='ignore')\n",
    "enc_df = pd.DataFrame(enc.fit_transform(df_total).toarray())      # modify here df_num for df_total\n",
    "\n",
    "df_total = enc_df\n",
    "df_total\n",
    "#df_codes = df_total.join(enc_df)\n",
    "#df_codes"
   ],
   "metadata": {
    "collapsed": false,
    "pycharm": {
     "name": "#%% md\n"
    }
   }
  },
  {
   "cell_type": "markdown",
   "source": [
    "x = df_total.drop('adopted/non-adopted',1)\n",
    "y = df_total['adopted/non-adopted']\n",
    "x.head()"
   ],
   "metadata": {
    "collapsed": false,
    "pycharm": {
     "name": "#%% md\n"
    }
   }
  },
  {
   "cell_type": "markdown",
   "source": [
    "# Features Selections"
   ],
   "metadata": {
    "collapsed": false
   }
  },
  {
   "cell_type": "code",
   "source": [
    "from sklearn.metrics import make_scorer, accuracy_score, precision_score,recall_score\n",
    "from sklearn.metrics import f1_score\n",
    "\n",
    "scorer = make_scorer(f1_score, average = 'weighted')"
   ],
   "metadata": {
    "collapsed": false,
    "pycharm": {
     "name": "#%%\n"
    }
   },
   "execution_count": 15,
   "outputs": []
  },
  {
   "cell_type": "markdown",
   "source": [
    "from sklearn.metrics import make_scorer, accuracy_score, precision_score,recall_score\n",
    "from sklearn.metrics import f1_score\n",
    "\n",
    "scorer = {'accuracy': make_scorer(accuracy_score),\n",
    "           'precision': make_scorer(precision_score, average = 'macro'),\n",
    "           'recall': make_scorer(recall_score, average = 'macro'),\n",
    "           'f1_macro': make_scorer(f1_score, average = 'macro'),\n",
    "           'f1_weighted': make_scorer(f1_score, average = 'weighted')\n",
    "           }\n"
   ],
   "metadata": {
    "collapsed": false,
    "pycharm": {
     "name": "#%% md\n"
    }
   }
  },
  {
   "cell_type": "markdown",
   "source": [
    "# Random Forest (feature selection)"
   ],
   "metadata": {
    "collapsed": false
   }
  },
  {
   "cell_type": "code",
   "execution_count": 17,
   "outputs": [
    {
     "data": {
      "text/plain": "('Intake_type',\n 'Intake_Condition',\n 'Age_upon_Intake',\n 'Mix_Breed',\n 'Primary_Breed',\n 'Main_Color',\n 'Secondary_Color',\n 'Date of Birth',\n 'Age_upon_Outcome',\n 'Sex',\n 'neuter/spay',\n 'Days_in_shelter',\n 'activity_level')"
     },
     "execution_count": 17,
     "metadata": {},
     "output_type": "execute_result"
    }
   ],
   "source": [
    "### Forward Selection - Random Forest\n",
    "from mlxtend.feature_selection import SequentialFeatureSelector as SFS\n",
    "\n",
    "sfs0 = SFS(RandomForestClassifier(),\n",
    "          k_features=(3,16),\n",
    "          forward=True,\n",
    "          floating=False,\n",
    "          scoring = scorer,\n",
    "          cv = 0)\n",
    "sfs0.fit(x,y)\n",
    "sfs0.k_feature_names_"
   ],
   "metadata": {
    "collapsed": false,
    "pycharm": {
     "name": "#%%\n"
    }
   }
  },
  {
   "cell_type": "code",
   "execution_count": 18,
   "outputs": [
    {
     "name": "stderr",
     "output_type": "stream",
     "text": [
      "D:\\Data Analysis and Science\\Data Manipulation\\Plataforms\\Python\\Python Base Original\\lib\\site-packages\\numpy\\core\\_methods.py:262: RuntimeWarning: Degrees of freedom <= 0 for slice\n",
      "  ret = _var(a, axis=axis, dtype=dtype, out=out, ddof=ddof,\n",
      "D:\\Data Analysis and Science\\Data Manipulation\\Plataforms\\Python\\Python Base Original\\lib\\site-packages\\numpy\\core\\_methods.py:254: RuntimeWarning: invalid value encountered in double_scalars\n",
      "  ret = ret.dtype.type(ret / rcount)\n"
     ]
    },
    {
     "data": {
      "text/plain": "<Figure size 432x288 with 1 Axes>",
      "image/png": "[encoded data removed]"
     },
     "metadata": {
      "needs_background": "light"
     },
     "output_type": "display_data"
    }
   ],
   "source": [
    "from mlxtend.plotting import plot_sequential_feature_selection as plot_sfs\n",
    "import matplotlib.pyplot as plt\n",
    "import matplotlib\n",
    "%matplotlib inline\n",
    "\n",
    "#matplotlib.use( 'tkagg' )   # 1 option\n",
    "fig0 = plot_sfs(sfs0.get_metric_dict(), kind='std_dev')\n",
    "plt.title('Sequential Forward Selection - RandomForestClassifier (w. StdErr)')\n",
    "plt.grid()\n",
    "plt.show()\n",
    "\n",
    "#fig0.savefig('demo0.png', bbox_inches='tight')   # 2 option\n",
    "#fig0.savefig('demo.pdf')   # 3 option"
   ],
   "metadata": {
    "collapsed": false,
    "pycharm": {
     "name": "#%%\n"
    }
   }
  },
  {
   "cell_type": "markdown",
   "source": [
    "The y-axis, the performance label indicates the R-squared values for the different numbers of features."
   ],
   "metadata": {
    "collapsed": false
   }
  },
  {
   "cell_type": "code",
   "execution_count": 19,
   "outputs": [
    {
     "data": {
      "text/plain": "('Intake_type',\n 'Intake_Condition',\n 'Animal_Type',\n 'Primary_Breed',\n 'Main_Color',\n 'Secondary_Color',\n 'Date of Birth',\n 'Age_upon_Outcome',\n 'Sex',\n 'neuter/spay',\n 'Days_in_shelter',\n 'Breed_size',\n 'Trainability',\n 'Barking_level',\n 'activity_level',\n 'breed_group')"
     },
     "execution_count": 19,
     "metadata": {},
     "output_type": "execute_result"
    }
   ],
   "source": [
    "### Backward Selection - Random forest\n",
    "from mlxtend.feature_selection import SequentialFeatureSelector as SFS\n",
    "\n",
    "sfs1 = SFS(RandomForestClassifier(),\n",
    "          k_features=(3,16),\n",
    "          forward=False,\n",
    "          floating=False,\n",
    "          scoring = scorer,\n",
    "          cv = 0)\n",
    "sfs1.fit(x,y)\n",
    "sfs1.k_feature_names_"
   ],
   "metadata": {
    "collapsed": false,
    "pycharm": {
     "name": "#%%\n"
    }
   }
  },
  {
   "cell_type": "code",
   "execution_count": 20,
   "outputs": [
    {
     "name": "stderr",
     "output_type": "stream",
     "text": [
      "D:\\Data Analysis and Science\\Data Manipulation\\Plataforms\\Python\\Python Base Original\\lib\\site-packages\\numpy\\core\\_methods.py:262: RuntimeWarning: Degrees of freedom <= 0 for slice\n",
      "  ret = _var(a, axis=axis, dtype=dtype, out=out, ddof=ddof,\n",
      "D:\\Data Analysis and Science\\Data Manipulation\\Plataforms\\Python\\Python Base Original\\lib\\site-packages\\numpy\\core\\_methods.py:254: RuntimeWarning: invalid value encountered in double_scalars\n",
      "  ret = ret.dtype.type(ret / rcount)\n"
     ]
    },
    {
     "data": {
      "text/plain": "<Figure size 432x288 with 1 Axes>",
      "image/png": "[encoded data removed]"
     },
     "metadata": {
      "needs_background": "light"
     },
     "output_type": "display_data"
    }
   ],
   "source": [
    "from mlxtend.plotting import plot_sequential_feature_selection as plot_sfs\n",
    "import matplotlib.pyplot as plt\n",
    "import matplotlib\n",
    "%matplotlib inline\n",
    "\n",
    "#matplotlib.use( 'tkagg' )   # 1 option\n",
    "fig1 = plot_sfs(sfs1.get_metric_dict(), kind='std_dev')\n",
    "plt.title('Sequential Backward Selection - RandomForestClassifier (w. StdErr)')\n",
    "plt.grid()\n",
    "plt.show()\n",
    "\n",
    "#fig1.savefig('demo1.png', bbox_inches='tight')  # 2 option\n",
    "#fig1.savefig('demo.pdf')   # 3 option"
   ],
   "metadata": {
    "collapsed": false,
    "pycharm": {
     "name": "#%%\n"
    }
   }
  },
  {
   "cell_type": "code",
   "execution_count": 21,
   "outputs": [
    {
     "data": {
      "text/plain": "('Intake_type',\n 'Intake_Condition',\n 'Animal_Type',\n 'Primary_Breed',\n 'Secondary_Breed',\n 'Main_Color',\n 'Secondary_Color',\n 'Date of Birth',\n 'Age_upon_Outcome',\n 'Sex',\n 'neuter/spay',\n 'Days_in_shelter',\n 'Barking_level')"
     },
     "execution_count": 21,
     "metadata": {},
     "output_type": "execute_result"
    }
   ],
   "source": [
    "### Wrapper Bi Selection - Random Forest\n",
    "from mlxtend.feature_selection import SequentialFeatureSelector as SFS\n",
    "\n",
    "sfs2 = SFS(RandomForestClassifier(),\n",
    "          k_features=(3,16),\n",
    "          forward=True,\n",
    "          floating=True,\n",
    "          scoring = scorer,\n",
    "          cv = 0)\n",
    "sfs2.fit(x,y)\n",
    "sfs2.k_feature_names_"
   ],
   "metadata": {
    "collapsed": false,
    "pycharm": {
     "name": "#%%\n"
    }
   }
  },
  {
   "cell_type": "code",
   "execution_count": 22,
   "outputs": [
    {
     "name": "stderr",
     "output_type": "stream",
     "text": [
      "D:\\Data Analysis and Science\\Data Manipulation\\Plataforms\\Python\\Python Base Original\\lib\\site-packages\\numpy\\core\\_methods.py:262: RuntimeWarning: Degrees of freedom <= 0 for slice\n",
      "  ret = _var(a, axis=axis, dtype=dtype, out=out, ddof=ddof,\n",
      "D:\\Data Analysis and Science\\Data Manipulation\\Plataforms\\Python\\Python Base Original\\lib\\site-packages\\numpy\\core\\_methods.py:254: RuntimeWarning: invalid value encountered in double_scalars\n",
      "  ret = ret.dtype.type(ret / rcount)\n"
     ]
    },
    {
     "data": {
      "text/plain": "<Figure size 432x288 with 1 Axes>",
      "image/png": "[encoded data removed]"
     },
     "metadata": {
      "needs_background": "light"
     },
     "output_type": "display_data"
    }
   ],
   "source": [
    "from mlxtend.plotting import plot_sequential_feature_selection as plot_sfs\n",
    "import matplotlib.pyplot as plt\n",
    "import matplotlib\n",
    "%matplotlib inline\n",
    "\n",
    "#matplotlib.use( 'tkagg' )   # 1 option\n",
    "fig2 = plot_sfs(sfs2.get_metric_dict(), kind='std_dev')\n",
    "plt.title('Sequential Wrapper Bi Selection - RandomForestClassifier (w. StdErr)')\n",
    "plt.grid()\n",
    "plt.show()\n",
    "\n",
    "#fig2.savefig('demo2.png', bbox_inches='tight')\n",
    "#fig2.savefig('demo.pdf')   # 3 option"
   ],
   "metadata": {
    "collapsed": false,
    "pycharm": {
     "name": "#%%\n"
    }
   }
  },
  {
   "cell_type": "markdown",
   "source": [],
   "metadata": {
    "collapsed": false
   }
  },
  {
   "cell_type": "markdown",
   "source": [
    "# KNN  (Feature Selection)"
   ],
   "metadata": {
    "collapsed": false
   }
  },
  {
   "cell_type": "code",
   "execution_count": 23,
   "outputs": [
    {
     "data": {
      "text/plain": "('Intake_type',\n 'Intake_Condition',\n 'Animal_Type',\n 'Mix_Breed',\n 'Date of Birth',\n 'Age_upon_Outcome',\n 'Sex',\n 'neuter/spay',\n 'Days_in_shelter',\n 'Trainability',\n 'activity_level')"
     },
     "execution_count": 23,
     "metadata": {},
     "output_type": "execute_result"
    }
   ],
   "source": [
    "### Forward Selection - KNN\n",
    "from mlxtend.feature_selection import SequentialFeatureSelector as SFS\n",
    "\n",
    "sfs0_k = SFS(KNeighborsClassifier(),\n",
    "           k_features=(3,16),\n",
    "           forward=True,\n",
    "           floating=False,\n",
    "           scoring = scorer,\n",
    "           cv = 0)\n",
    "sfs0_k.fit(x,y)\n",
    "sfs0_k.k_feature_names_"
   ],
   "metadata": {
    "collapsed": false,
    "pycharm": {
     "name": "#%%\n"
    }
   }
  },
  {
   "cell_type": "code",
   "execution_count": 24,
   "outputs": [
    {
     "name": "stderr",
     "output_type": "stream",
     "text": [
      "D:\\Data Analysis and Science\\Data Manipulation\\Plataforms\\Python\\Python Base Original\\lib\\site-packages\\numpy\\core\\_methods.py:262: RuntimeWarning: Degrees of freedom <= 0 for slice\n",
      "  ret = _var(a, axis=axis, dtype=dtype, out=out, ddof=ddof,\n",
      "D:\\Data Analysis and Science\\Data Manipulation\\Plataforms\\Python\\Python Base Original\\lib\\site-packages\\numpy\\core\\_methods.py:254: RuntimeWarning: invalid value encountered in double_scalars\n",
      "  ret = ret.dtype.type(ret / rcount)\n"
     ]
    },
    {
     "data": {
      "text/plain": "<Figure size 432x288 with 1 Axes>",
      "image/png": "[encoded data removed]"
     },
     "metadata": {
      "needs_background": "light"
     },
     "output_type": "display_data"
    }
   ],
   "source": [
    "from mlxtend.plotting import plot_sequential_feature_selection as plot_sfs\n",
    "import matplotlib.pyplot as plt\n",
    "import matplotlib\n",
    "%matplotlib inline\n",
    "\n",
    "#matplotlib.use( 'tkagg' )   # 1 option\n",
    "fig0_k = plot_sfs(sfs0_k.get_metric_dict(), kind='std_dev')\n",
    "plt.title('Sequential Forward Selection - KNN ')\n",
    "plt.grid()\n",
    "plt.show()"
   ],
   "metadata": {
    "collapsed": false,
    "pycharm": {
     "name": "#%%\n"
    }
   }
  },
  {
   "cell_type": "code",
   "execution_count": 25,
   "outputs": [
    {
     "data": {
      "text/plain": "('Intake_type',\n 'Intake_Condition',\n 'Animal_Type',\n 'Age_upon_Intake',\n 'Mix_Breed',\n 'Age_upon_Outcome',\n 'Sex',\n 'neuter/spay',\n 'Days_in_shelter',\n 'Trainability',\n 'Breed_characteristic',\n 'activity_level')"
     },
     "execution_count": 25,
     "metadata": {},
     "output_type": "execute_result"
    }
   ],
   "source": [
    "### Backward Selection - kNN\n",
    "from mlxtend.feature_selection import SequentialFeatureSelector as SFS\n",
    "\n",
    "sfs1_k = SFS(KNeighborsClassifier(),\n",
    "           k_features=(3,16),\n",
    "           forward=False,\n",
    "           floating=False,\n",
    "           scoring = scorer,\n",
    "           cv = 0)\n",
    "sfs1_k.fit(x,y)\n",
    "sfs1_k.k_feature_names_"
   ],
   "metadata": {
    "collapsed": false,
    "pycharm": {
     "name": "#%%\n"
    }
   }
  },
  {
   "cell_type": "code",
   "execution_count": 26,
   "outputs": [
    {
     "name": "stderr",
     "output_type": "stream",
     "text": [
      "D:\\Data Analysis and Science\\Data Manipulation\\Plataforms\\Python\\Python Base Original\\lib\\site-packages\\numpy\\core\\_methods.py:262: RuntimeWarning: Degrees of freedom <= 0 for slice\n",
      "  ret = _var(a, axis=axis, dtype=dtype, out=out, ddof=ddof,\n",
      "D:\\Data Analysis and Science\\Data Manipulation\\Plataforms\\Python\\Python Base Original\\lib\\site-packages\\numpy\\core\\_methods.py:254: RuntimeWarning: invalid value encountered in double_scalars\n",
      "  ret = ret.dtype.type(ret / rcount)\n"
     ]
    },
    {
     "data": {
      "text/plain": "<Figure size 432x288 with 1 Axes>",
      "image/png": "[encoded data removed]"
     },
     "metadata": {
      "needs_background": "light"
     },
     "output_type": "display_data"
    }
   ],
   "source": [
    "from mlxtend.plotting import plot_sequential_feature_selection as plot_sfs\n",
    "import matplotlib.pyplot as plt\n",
    "import matplotlib\n",
    "%matplotlib inline\n",
    "\n",
    "#matplotlib.use( 'tkagg' )   # 1 option\n",
    "fig1_K = plot_sfs(sfs1_k.get_metric_dict(), kind='std_dev')\n",
    "plt.title('Sequential Backward Selection - KNN ')\n",
    "plt.grid()\n",
    "plt.show()\n",
    "\n",
    "#fig1.savefig('demo1.png', bbox_inches='tight')  # 2 option\n",
    "#fig1.savefig('demo.pdf')   # 3 option"
   ],
   "metadata": {
    "collapsed": false,
    "pycharm": {
     "name": "#%%\n"
    }
   }
  },
  {
   "cell_type": "code",
   "execution_count": 16,
   "outputs": [
    {
     "data": {
      "text/plain": "('Intake_type',\n 'Intake_Condition',\n 'Animal_Type',\n 'Age_upon_Intake',\n 'Mix_Breed',\n 'Age_upon_Outcome',\n 'Sex',\n 'neuter/spay',\n 'Days_in_shelter',\n 'Trainability',\n 'Breed_characteristic',\n 'activity_level')"
     },
     "execution_count": 16,
     "metadata": {},
     "output_type": "execute_result"
    }
   ],
   "source": [
    "### Wrapper Bi Selection - KNN\n",
    "from mlxtend.feature_selection import SequentialFeatureSelector as SFS\n",
    "\n",
    "sfs2_K = SFS(KNeighborsClassifier(),\n",
    "           k_features=(3,16),\n",
    "           forward=True,\n",
    "           floating=True,\n",
    "           scoring = scorer,\n",
    "           cv = 0)\n",
    "sfs2_K.fit(x,y)\n",
    "sfs2_K.k_feature_names_"
   ],
   "metadata": {
    "collapsed": false,
    "pycharm": {
     "name": "#%%\n"
    }
   }
  },
  {
   "cell_type": "code",
   "execution_count": 17,
   "outputs": [
    {
     "name": "stderr",
     "output_type": "stream",
     "text": [
      "D:\\Data Analysis and Science\\Data Manipulation\\Plataforms\\Python\\Python Base Original\\lib\\site-packages\\numpy\\core\\_methods.py:262: RuntimeWarning: Degrees of freedom <= 0 for slice\n",
      "  ret = _var(a, axis=axis, dtype=dtype, out=out, ddof=ddof,\n",
      "D:\\Data Analysis and Science\\Data Manipulation\\Plataforms\\Python\\Python Base Original\\lib\\site-packages\\numpy\\core\\_methods.py:254: RuntimeWarning: invalid value encountered in double_scalars\n",
      "  ret = ret.dtype.type(ret / rcount)\n"
     ]
    },
    {
     "data": {
      "text/plain": "<Figure size 432x288 with 1 Axes>",
      "image/png": "[encoded data removed]"
     },
     "metadata": {
      "needs_background": "light"
     },
     "output_type": "display_data"
    }
   ],
   "source": [
    "from mlxtend.plotting import plot_sequential_feature_selection as plot_sfs\n",
    "import matplotlib.pyplot as plt\n",
    "import matplotlib\n",
    "%matplotlib inline\n",
    "\n",
    "#matplotlib.use( 'tkagg' )   # 1 option\n",
    "fig2_K = plot_sfs(sfs2_K.get_metric_dict(), kind='std_dev')\n",
    "plt.title('Sequential Wrapper Bi Selection - KNN (w. StdErr)')\n",
    "plt.grid()\n",
    "plt.show()\n",
    "\n",
    "#fig2.savefig('demo2.png', bbox_inches='tight')\n",
    "#fig2.savefig('demo.pdf')   # 3 option"
   ],
   "metadata": {
    "collapsed": false,
    "pycharm": {
     "name": "#%%\n"
    }
   }
  },
  {
   "cell_type": "markdown",
   "source": [
    "# SVM (Feature Selection)"
   ],
   "metadata": {
    "collapsed": false
   }
  },
  {
   "cell_type": "code",
   "execution_count": null,
   "outputs": [],
   "source": [
    "### Forward Selection - SVM\n",
    "from mlxtend.feature_selection import SequentialFeatureSelector as SFS\n",
    "\n",
    "sfs0_s = SFS(SVC(),\n",
    "             k_features=(3,16),\n",
    "             forward=True,\n",
    "             floating=False,\n",
    "             scoring = scorer,\n",
    "             cv = 0)\n",
    "sfs0_s.fit(x,y)\n",
    "sfs0_s.k_feature_names_"
   ],
   "metadata": {
    "collapsed": false,
    "pycharm": {
     "name": "#%%\n",
     "is_executing": true
    }
   }
  },
  {
   "cell_type": "code",
   "execution_count": null,
   "outputs": [],
   "source": [
    "from mlxtend.plotting import plot_sequential_feature_selection as plot_sfs\n",
    "import matplotlib.pyplot as plt\n",
    "import matplotlib\n",
    "%matplotlib inline\n",
    "\n",
    "#matplotlib.use( 'tkagg' )   # 1 option\n",
    "fig0_s = plot_sfs(sfs0_s.get_metric_dict(), kind='std_dev')\n",
    "plt.title('Sequential Forward Selection - SVM ')\n",
    "plt.grid()\n",
    "plt.show()"
   ],
   "metadata": {
    "collapsed": false,
    "pycharm": {
     "name": "#%%\n",
     "is_executing": true
    }
   }
  }
 ],
 "metadata": {
  "kernelspec": {
   "display_name": "Python 3",
   "language": "python",
   "name": "python3"
  },
  "language_info": {
   "codemirror_mode": {
    "name": "ipython",
    "version": 2
   },
   "file_extension": ".py",
   "mimetype": "text/x-python",
   "name": "python",
   "nbconvert_exporter": "python",
   "pygments_lexer": "ipython2",
   "version": "2.7.6"
  }
 },
 "nbformat": 4,
 "nbformat_minor": 0
}