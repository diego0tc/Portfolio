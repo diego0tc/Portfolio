{
 "cells": [
  {
   "cell_type": "code",
   "execution_count": 102,
   "metadata": {
    "collapsed": true
   },
   "outputs": [],
   "source": [
    "import numpy as np\n",
    "import matplotlib.pyplot as plt\n",
    "import pandas as pd\n",
    "import sklearn\n",
    "%matplotlib inline"
   ]
  },
  {
   "cell_type": "code",
   "execution_count": 103,
   "outputs": [],
   "source": [
    "# Code to Measure time taken by program to execute.\n",
    "import time\n",
    "\n",
    "# store starting time\n",
    "begin = time.time()"
   ],
   "metadata": {
    "collapsed": false,
    "pycharm": {
     "name": "#%%\n"
    }
   }
  },
  {
   "cell_type": "code",
   "execution_count": 104,
   "outputs": [
    {
     "data": {
      "text/plain": "        Unnamed: 0 Animal_ID     Name      DateTime_Intake  \\\n0                0   a786884   *brock  2019-01-03 04:19:00   \n1                1   a706918    belle  2015-07-05 12:59:00   \n2                2   a724273  runster  2016-04-14 06:43:00   \n3                3   a665644  unknown  2013-10-21 07:59:00   \n4                4   a682524      rio  2014-06-29 10:38:00   \n...            ...       ...      ...                  ...   \n109116      110490   a830164  unknown  2021-03-03 02:17:00   \n109117      110491   a829701  pee wee  2021-02-21 02:56:00   \n109118      110492   a765174   carson  2018-01-14 11:31:00   \n109119      110493   a829868     remy  2021-02-25 11:40:00   \n109120      110494   a828158     odin  2021-01-08 07:01:00   \n\n                              Found_Location      Intake_type  \\\n0        2501 magin meadow dr in austin (tx)            stray   \n1           9409 bluegrass dr in austin (tx)            stray   \n2         2818 palomino trail in austin (tx)            stray   \n3                                austin (tx)            stray   \n4              800 grove blvd in austin (tx)            stray   \n...                                      ...              ...   \n109116                           travis (tx)  owner surrender   \n109117  16201 biltmore avenue in travis (tx)            stray   \n109118                           austin (tx)  owner surrender   \n109119                 valdez in austin (tx)            stray   \n109120        2224 e stassney in austin (tx)            stray   \n\n       Intake_Condition Animal_Type  Age_upon_Intake Mix_Breed  ...      Sex  \\\n0                normal         dog         2.000000       yes  ...     male   \n1                normal         dog         8.000000        no  ...   female   \n2                normal         dog         0.916667       yes  ...     male   \n3                  sick         cat         0.076660       yes  ...   female   \n4                normal         dog         4.000000        no  ...     male   \n...                 ...         ...              ...       ...  ...      ...   \n109116           normal         dog         0.083333       yes  ...  unknown   \n109117           normal         dog         3.000000        no  ...     male   \n109118           normal         dog         0.083333       yes  ...     male   \n109119           normal         dog         1.000000        no  ...     male   \n109120           normal         dog         0.833333       yes  ...     male   \n\n       neuter/spay adopted/non-adopted Days_in_shelter Breed_size  \\\n0              yes         non-adopted             4.0      small   \n1              yes             adopted             0.0     medium   \n2              yes             adopted             6.0      small   \n3               no         non-adopted             0.0    Unknown   \n4              yes             adopted             2.0      large   \n...            ...                 ...             ...        ...   \n109116     unknown         non-adopted             0.0      small   \n109117          no             adopted             0.0     xsmall   \n109118         yes             adopted             0.0     xsmall   \n109119         yes             adopted             5.0      small   \n109120         yes             adopted            53.0      large   \n\n       Trainability Breed_characteristic Barking_level  activity_level  \\\n0         agreeable           family_dog      frequent     medium_high   \n1           pleaser           Not_define        medium      medium_low   \n2       independent   apartment_friendly          rare     medium_high   \n3           Unknown           Not_define       Unknown      not_define   \n4           pleaser            guard_dog        medium            high   \n...             ...                  ...           ...             ...   \n109116    agreeable           family_dog          rare      medium_low   \n109117  independent   apartment_friendly   very_common      medium_low   \n109118  independent   apartment_friendly   very_common      medium_low   \n109119    agreeable           family_dog      frequent     medium_high   \n109120    agreeable            guard_dog          rare      medium_low   \n\n           breed_group  \n0          hound_group  \n1       sporting_group  \n2          hound_group  \n3           not_define  \n4        working_group  \n...                ...  \n109116       toy_group  \n109117       toy_group  \n109118       toy_group  \n109119     hound_group  \n109120   working_group  \n\n[109121 rows x 30 columns]",
      "text/html": "<div>\n<style scoped>\n    .dataframe tbody tr th:only-of-type {\n        vertical-align: middle;\n    }\n\n    .dataframe tbody tr th {\n        vertical-align: top;\n    }\n\n    .dataframe thead th {\n        text-align: right;\n    }\n</style>\n<table border=\"1\" class=\"dataframe\">\n  <thead>\n    <tr style=\"text-align: right;\">\n      <th></th>\n      <th>Unnamed: 0</th>\n      <th>Animal_ID</th>\n      <th>Name</th>\n      <th>DateTime_Intake</th>\n      <th>Found_Location</th>\n      <th>Intake_type</th>\n      <th>Intake_Condition</th>\n      <th>Animal_Type</th>\n      <th>Age_upon_Intake</th>\n      <th>Mix_Breed</th>\n      <th>...</th>\n      <th>Sex</th>\n      <th>neuter/spay</th>\n      <th>adopted/non-adopted</th>\n      <th>Days_in_shelter</th>\n      <th>Breed_size</th>\n      <th>Trainability</th>\n      <th>Breed_characteristic</th>\n      <th>Barking_level</th>\n      <th>activity_level</th>\n      <th>breed_group</th>\n    </tr>\n  </thead>\n  <tbody>\n    <tr>\n      <th>0</th>\n      <td>0</td>\n      <td>a786884</td>\n      <td>*brock</td>\n      <td>2019-01-03 04:19:00</td>\n      <td>2501 magin meadow dr in austin (tx)</td>\n      <td>stray</td>\n      <td>normal</td>\n      <td>dog</td>\n      <td>2.000000</td>\n      <td>yes</td>\n      <td>...</td>\n      <td>male</td>\n      <td>yes</td>\n      <td>non-adopted</td>\n      <td>4.0</td>\n      <td>small</td>\n      <td>agreeable</td>\n      <td>family_dog</td>\n      <td>frequent</td>\n      <td>medium_high</td>\n      <td>hound_group</td>\n    </tr>\n    <tr>\n      <th>1</th>\n      <td>1</td>\n      <td>a706918</td>\n      <td>belle</td>\n      <td>2015-07-05 12:59:00</td>\n      <td>9409 bluegrass dr in austin (tx)</td>\n      <td>stray</td>\n      <td>normal</td>\n      <td>dog</td>\n      <td>8.000000</td>\n      <td>no</td>\n      <td>...</td>\n      <td>female</td>\n      <td>yes</td>\n      <td>adopted</td>\n      <td>0.0</td>\n      <td>medium</td>\n      <td>pleaser</td>\n      <td>Not_define</td>\n      <td>medium</td>\n      <td>medium_low</td>\n      <td>sporting_group</td>\n    </tr>\n    <tr>\n      <th>2</th>\n      <td>2</td>\n      <td>a724273</td>\n      <td>runster</td>\n      <td>2016-04-14 06:43:00</td>\n      <td>2818 palomino trail in austin (tx)</td>\n      <td>stray</td>\n      <td>normal</td>\n      <td>dog</td>\n      <td>0.916667</td>\n      <td>yes</td>\n      <td>...</td>\n      <td>male</td>\n      <td>yes</td>\n      <td>adopted</td>\n      <td>6.0</td>\n      <td>small</td>\n      <td>independent</td>\n      <td>apartment_friendly</td>\n      <td>rare</td>\n      <td>medium_high</td>\n      <td>hound_group</td>\n    </tr>\n    <tr>\n      <th>3</th>\n      <td>3</td>\n      <td>a665644</td>\n      <td>unknown</td>\n      <td>2013-10-21 07:59:00</td>\n      <td>austin (tx)</td>\n      <td>stray</td>\n      <td>sick</td>\n      <td>cat</td>\n      <td>0.076660</td>\n      <td>yes</td>\n      <td>...</td>\n      <td>female</td>\n      <td>no</td>\n      <td>non-adopted</td>\n      <td>0.0</td>\n      <td>Unknown</td>\n      <td>Unknown</td>\n      <td>Not_define</td>\n      <td>Unknown</td>\n      <td>not_define</td>\n      <td>not_define</td>\n    </tr>\n    <tr>\n      <th>4</th>\n      <td>4</td>\n      <td>a682524</td>\n      <td>rio</td>\n      <td>2014-06-29 10:38:00</td>\n      <td>800 grove blvd in austin (tx)</td>\n      <td>stray</td>\n      <td>normal</td>\n      <td>dog</td>\n      <td>4.000000</td>\n      <td>no</td>\n      <td>...</td>\n      <td>male</td>\n      <td>yes</td>\n      <td>adopted</td>\n      <td>2.0</td>\n      <td>large</td>\n      <td>pleaser</td>\n      <td>guard_dog</td>\n      <td>medium</td>\n      <td>high</td>\n      <td>working_group</td>\n    </tr>\n    <tr>\n      <th>...</th>\n      <td>...</td>\n      <td>...</td>\n      <td>...</td>\n      <td>...</td>\n      <td>...</td>\n      <td>...</td>\n      <td>...</td>\n      <td>...</td>\n      <td>...</td>\n      <td>...</td>\n      <td>...</td>\n      <td>...</td>\n      <td>...</td>\n      <td>...</td>\n      <td>...</td>\n      <td>...</td>\n      <td>...</td>\n      <td>...</td>\n      <td>...</td>\n      <td>...</td>\n      <td>...</td>\n    </tr>\n    <tr>\n      <th>109116</th>\n      <td>110490</td>\n      <td>a830164</td>\n      <td>unknown</td>\n      <td>2021-03-03 02:17:00</td>\n      <td>travis (tx)</td>\n      <td>owner surrender</td>\n      <td>normal</td>\n      <td>dog</td>\n      <td>0.083333</td>\n      <td>yes</td>\n      <td>...</td>\n      <td>unknown</td>\n      <td>unknown</td>\n      <td>non-adopted</td>\n      <td>0.0</td>\n      <td>small</td>\n      <td>agreeable</td>\n      <td>family_dog</td>\n      <td>rare</td>\n      <td>medium_low</td>\n      <td>toy_group</td>\n    </tr>\n    <tr>\n      <th>109117</th>\n      <td>110491</td>\n      <td>a829701</td>\n      <td>pee wee</td>\n      <td>2021-02-21 02:56:00</td>\n      <td>16201 biltmore avenue in travis (tx)</td>\n      <td>stray</td>\n      <td>normal</td>\n      <td>dog</td>\n      <td>3.000000</td>\n      <td>no</td>\n      <td>...</td>\n      <td>male</td>\n      <td>no</td>\n      <td>adopted</td>\n      <td>0.0</td>\n      <td>xsmall</td>\n      <td>independent</td>\n      <td>apartment_friendly</td>\n      <td>very_common</td>\n      <td>medium_low</td>\n      <td>toy_group</td>\n    </tr>\n    <tr>\n      <th>109118</th>\n      <td>110492</td>\n      <td>a765174</td>\n      <td>carson</td>\n      <td>2018-01-14 11:31:00</td>\n      <td>austin (tx)</td>\n      <td>owner surrender</td>\n      <td>normal</td>\n      <td>dog</td>\n      <td>0.083333</td>\n      <td>yes</td>\n      <td>...</td>\n      <td>male</td>\n      <td>yes</td>\n      <td>adopted</td>\n      <td>0.0</td>\n      <td>xsmall</td>\n      <td>independent</td>\n      <td>apartment_friendly</td>\n      <td>very_common</td>\n      <td>medium_low</td>\n      <td>toy_group</td>\n    </tr>\n    <tr>\n      <th>109119</th>\n      <td>110493</td>\n      <td>a829868</td>\n      <td>remy</td>\n      <td>2021-02-25 11:40:00</td>\n      <td>valdez in austin (tx)</td>\n      <td>stray</td>\n      <td>normal</td>\n      <td>dog</td>\n      <td>1.000000</td>\n      <td>no</td>\n      <td>...</td>\n      <td>male</td>\n      <td>yes</td>\n      <td>adopted</td>\n      <td>5.0</td>\n      <td>small</td>\n      <td>agreeable</td>\n      <td>family_dog</td>\n      <td>frequent</td>\n      <td>medium_high</td>\n      <td>hound_group</td>\n    </tr>\n    <tr>\n      <th>109120</th>\n      <td>110494</td>\n      <td>a828158</td>\n      <td>odin</td>\n      <td>2021-01-08 07:01:00</td>\n      <td>2224 e stassney in austin (tx)</td>\n      <td>stray</td>\n      <td>normal</td>\n      <td>dog</td>\n      <td>0.833333</td>\n      <td>yes</td>\n      <td>...</td>\n      <td>male</td>\n      <td>yes</td>\n      <td>adopted</td>\n      <td>53.0</td>\n      <td>large</td>\n      <td>agreeable</td>\n      <td>guard_dog</td>\n      <td>rare</td>\n      <td>medium_low</td>\n      <td>working_group</td>\n    </tr>\n  </tbody>\n</table>\n<p>109121 rows × 30 columns</p>\n</div>"
     },
     "execution_count": 104,
     "metadata": {},
     "output_type": "execute_result"
    }
   ],
   "source": [
    "df_total = pd.read_csv('df_total1.csv')\n",
    "df_total"
   ],
   "metadata": {
    "collapsed": false,
    "pycharm": {
     "name": "#%%\n"
    }
   }
  },
  {
   "cell_type": "markdown",
   "source": [
    "# Standard Clean"
   ],
   "metadata": {
    "collapsed": false
   }
  },
  {
   "cell_type": "code",
   "execution_count": 105,
   "outputs": [
    {
     "name": "stderr",
     "output_type": "stream",
     "text": [
      "C:\\Users\\diedr\\AppData\\Local\\Temp\\ipykernel_15424\\1395291140.py:2: FutureWarning: In a future version of pandas all arguments of DataFrame.drop except for the argument 'labels' will be keyword-only.\n",
      "  df_total = df_total.drop('Unnamed: 0',1)\n",
      "C:\\Users\\diedr\\AppData\\Local\\Temp\\ipykernel_15424\\1395291140.py:6: FutureWarning: In a future version of pandas all arguments of DataFrame.drop except for the argument 'labels' will be keyword-only.\n",
      "  df_total = df_total.drop('Animal_ID',1) #@@@@@@@\n",
      "C:\\Users\\diedr\\AppData\\Local\\Temp\\ipykernel_15424\\1395291140.py:7: FutureWarning: In a future version of pandas all arguments of DataFrame.drop except for the argument 'labels' will be keyword-only.\n",
      "  df_total = df_total.drop('Name',1)\n",
      "C:\\Users\\diedr\\AppData\\Local\\Temp\\ipykernel_15424\\1395291140.py:8: FutureWarning: In a future version of pandas all arguments of DataFrame.drop except for the argument 'labels' will be keyword-only.\n",
      "  df_total = df_total.drop('Date of Birth',1)\n",
      "C:\\Users\\diedr\\AppData\\Local\\Temp\\ipykernel_15424\\1395291140.py:9: FutureWarning: In a future version of pandas all arguments of DataFrame.drop except for the argument 'labels' will be keyword-only.\n",
      "  df_total = df_total.drop('DateTime_Intake',1)\n",
      "C:\\Users\\diedr\\AppData\\Local\\Temp\\ipykernel_15424\\1395291140.py:10: FutureWarning: In a future version of pandas all arguments of DataFrame.drop except for the argument 'labels' will be keyword-only.\n",
      "  df_total = df_total.drop('DateTime_Outcome',1)\n",
      "C:\\Users\\diedr\\AppData\\Local\\Temp\\ipykernel_15424\\1395291140.py:11: FutureWarning: In a future version of pandas all arguments of DataFrame.drop except for the argument 'labels' will be keyword-only.\n",
      "  df_total = df_total.drop('Location',1)\n",
      "C:\\Users\\diedr\\AppData\\Local\\Temp\\ipykernel_15424\\1395291140.py:12: FutureWarning: In a future version of pandas all arguments of DataFrame.drop except for the argument 'labels' will be keyword-only.\n",
      "  df_total = df_total.drop('Found_Location',1)    #@@@@@@@@@\n"
     ]
    },
    {
     "name": "stdout",
     "output_type": "stream",
     "text": [
      "<class 'pandas.core.frame.DataFrame'>\n",
      "RangeIndex: 109121 entries, 0 to 109120\n",
      "Data columns (total 22 columns):\n",
      " #   Column                Non-Null Count   Dtype  \n",
      "---  ------                --------------   -----  \n",
      " 0   Intake_type           109121 non-null  object \n",
      " 1   Intake_Condition      109121 non-null  object \n",
      " 2   Animal_Type           109121 non-null  object \n",
      " 3   Age_upon_Intake       109121 non-null  float64\n",
      " 4   Mix_Breed             109121 non-null  object \n",
      " 5   Primary_Breed         109121 non-null  object \n",
      " 6   Secondary_Breed       109121 non-null  object \n",
      " 7   Main_Color            109121 non-null  object \n",
      " 8   Secondary_Color       109121 non-null  object \n",
      " 9   Outcome_Type          109121 non-null  object \n",
      " 10  Outcome_Subtype       109121 non-null  object \n",
      " 11  Age_upon_Outcome      109121 non-null  float64\n",
      " 12  Sex                   109121 non-null  object \n",
      " 13  neuter/spay           109121 non-null  object \n",
      " 14  adopted/non-adopted   109121 non-null  object \n",
      " 15  Days_in_shelter       109121 non-null  float64\n",
      " 16  Breed_size            109121 non-null  object \n",
      " 17  Trainability          109121 non-null  object \n",
      " 18  Breed_characteristic  109121 non-null  object \n",
      " 19  Barking_level         109121 non-null  object \n",
      " 20  activity_level        109121 non-null  object \n",
      " 21  breed_group           109121 non-null  object \n",
      "dtypes: float64(3), object(19)\n",
      "memory usage: 18.3+ MB\n"
     ]
    }
   ],
   "source": [
    "# csv created this\n",
    "df_total = df_total.drop('Unnamed: 0',1)\n",
    "\n",
    "# not conbine well with label coding\n",
    "\n",
    "df_total = df_total.drop('Animal_ID',1) #@@@@@@@\n",
    "df_total = df_total.drop('Name',1)\n",
    "df_total = df_total.drop('Date of Birth',1)\n",
    "df_total = df_total.drop('DateTime_Intake',1)\n",
    "df_total = df_total.drop('DateTime_Outcome',1)\n",
    "df_total = df_total.drop('Location',1)\n",
    "df_total = df_total.drop('Found_Location',1)    #@@@@@@@@@\n",
    "#df_total = df_total.drop('Age_upon_Intake_weeks',1)\n",
    "#df_total = df_total.drop('Age_upon_Outcome_weeks',1)\n",
    "#df_total = df_total.drop('Days in Shelter',1)\n",
    "\n",
    "df_total.info()"
   ],
   "metadata": {
    "collapsed": false,
    "pycharm": {
     "name": "#%%\n"
    }
   }
  },
  {
   "cell_type": "code",
   "source": [
    "cols_num = ['Age_upon_Intake','Age_upon_Outcome','Days_in_shelter']\n",
    "cols_cat = ['Intake_type','Intake_Condition','Mix_Breed','Primary_Breed','Secondary_Breed','Main_Color','Secondary_Color','Sex','neuter/spay','Breed_size','Trainability','Breed_characteristic','Barking_level','activity_level','adopted/non-adopted','breed_group','Animal_Type']\n",
    "df_total[cols_cat] = df_total[cols_cat].astype('category')\n",
    "#col2 = ['DateTime_Intake','DateTime_Outcome','Date of Birth']\n",
    "#df_total[col2] = df_total[col2].astype('datetime64[ns]')\n",
    "df_total.info()\n",
    "\n",
    "# modify cols_num and cols2 -> no datetime for now"
   ],
   "metadata": {
    "collapsed": false,
    "pycharm": {
     "name": "#%%\n"
    }
   },
   "execution_count": 106,
   "outputs": [
    {
     "name": "stdout",
     "output_type": "stream",
     "text": [
      "<class 'pandas.core.frame.DataFrame'>\n",
      "RangeIndex: 109121 entries, 0 to 109120\n",
      "Data columns (total 22 columns):\n",
      " #   Column                Non-Null Count   Dtype   \n",
      "---  ------                --------------   -----   \n",
      " 0   Intake_type           109121 non-null  category\n",
      " 1   Intake_Condition      109121 non-null  category\n",
      " 2   Animal_Type           109121 non-null  category\n",
      " 3   Age_upon_Intake       109121 non-null  float64 \n",
      " 4   Mix_Breed             109121 non-null  category\n",
      " 5   Primary_Breed         109121 non-null  category\n",
      " 6   Secondary_Breed       109121 non-null  category\n",
      " 7   Main_Color            109121 non-null  category\n",
      " 8   Secondary_Color       109121 non-null  category\n",
      " 9   Outcome_Type          109121 non-null  object  \n",
      " 10  Outcome_Subtype       109121 non-null  object  \n",
      " 11  Age_upon_Outcome      109121 non-null  float64 \n",
      " 12  Sex                   109121 non-null  category\n",
      " 13  neuter/spay           109121 non-null  category\n",
      " 14  adopted/non-adopted   109121 non-null  category\n",
      " 15  Days_in_shelter       109121 non-null  float64 \n",
      " 16  Breed_size            109121 non-null  category\n",
      " 17  Trainability          109121 non-null  category\n",
      " 18  Breed_characteristic  109121 non-null  category\n",
      " 19  Barking_level         109121 non-null  category\n",
      " 20  activity_level        109121 non-null  category\n",
      " 21  breed_group           109121 non-null  category\n",
      "dtypes: category(17), float64(3), object(2)\n",
      "memory usage: 6.2+ MB\n"
     ]
    }
   ]
  },
  {
   "cell_type": "markdown",
   "source": [
    "df_total.iloc[:,17]"
   ],
   "metadata": {
    "collapsed": false,
    "pycharm": {
     "name": "#%% md\n"
    }
   }
  },
  {
   "cell_type": "markdown",
   "source": [
    "X = df_total.iloc[:, [1, 2, 3]].values\n",
    "y = df_total.iloc[:, 1].values"
   ],
   "metadata": {
    "collapsed": false,
    "pycharm": {
     "name": "#%% md\n"
    }
   }
  },
  {
   "cell_type": "code",
   "execution_count": 107,
   "outputs": [],
   "source": [
    "df_total = df_total.drop('Outcome_Type', axis = 1)\n",
    "df_total = df_total.drop('Outcome_Subtype', axis = 1)"
   ],
   "metadata": {
    "collapsed": false,
    "pycharm": {
     "name": "#%%\n"
    }
   }
  },
  {
   "cell_type": "markdown",
   "source": [
    "# Label encoder"
   ],
   "metadata": {
    "collapsed": false
   }
  },
  {
   "cell_type": "code",
   "execution_count": 108,
   "outputs": [],
   "source": [
    "df_num = df_total.drop(cols_cat, axis=1)"
   ],
   "metadata": {
    "collapsed": false,
    "pycharm": {
     "name": "#%%\n"
    }
   }
  },
  {
   "cell_type": "code",
   "source": [
    "df_cat = df_total.drop(cols_num, axis=1)"
   ],
   "metadata": {
    "collapsed": false,
    "pycharm": {
     "name": "#%%\n"
    }
   },
   "execution_count": 109,
   "outputs": []
  },
  {
   "cell_type": "code",
   "execution_count": 110,
   "outputs": [
    {
     "data": {
      "text/plain": "        Intake_type  Intake_Condition  Animal_Type  Mix_Breed  Primary_Breed  \\\n0                 4                 5            2          1             35   \n1                 4                 5            2          0            131   \n2                 4                 5            2          1             32   \n3                 4                 9            1          1            119   \n4                 4                 5            2          0            116   \n...             ...               ...          ...        ...            ...   \n109116            2                 5            2          1            266   \n109117            4                 5            2          0             89   \n109118            2                 5            2          1             89   \n109119            4                 5            2          0             35   \n109120            4                 5            2          1            282   \n\n        Secondary_Breed  Main_Color  Secondary_Color  Sex  neuter/spay  \\\n0                   126          55               37    1            2   \n1                   126          56               34    0            2   \n2                   126          46               51    1            2   \n3                   126          21               37    0            0   \n4                    16          51               29    1            2   \n...                 ...         ...              ...  ...          ...   \n109116              126           2               51    2            1   \n109117              126          15               37    1            0   \n109118              126          51               51    1            2   \n109119              109          55               37    1            2   \n109120              126           2               47    1            2   \n\n        adopted/non-adopted  Breed_size  Trainability  Breed_characteristic  \\\n0                         1           3             1                     2   \n1                         0           2             4                     0   \n2                         0           3             3                     1   \n3                         1           0             0                     0   \n4                         0           1             4                     3   \n...                     ...         ...           ...                   ...   \n109116                    1           3             1                     2   \n109117                    0           5             3                     1   \n109118                    0           5             3                     1   \n109119                    0           3             1                     2   \n109120                    0           1             1                     3   \n\n        Barking_level  activity_level  breed_group  Age_upon_Intake  \\\n0                   1               2            1         2.000000   \n1                   3               3            5         8.000000   \n2                   4               2            1         0.916667   \n3                   0               4            3         0.076660   \n4                   3               0            9         4.000000   \n...               ...             ...          ...              ...   \n109116              4               3            8         0.083333   \n109117              5               3            8         3.000000   \n109118              5               3            8         0.083333   \n109119              1               2            1         1.000000   \n109120              4               3            9         0.833333   \n\n        Age_upon_Outcome  Days_in_shelter  \n0                   2.00              4.0  \n1                   8.00              0.0  \n2                   1.00              6.0  \n3                   0.08              0.0  \n4                   4.00              2.0  \n...                  ...              ...  \n109116              0.08              0.0  \n109117              3.00              0.0  \n109118              0.17              0.0  \n109119              1.00              5.0  \n109120              0.92             53.0  \n\n[109121 rows x 20 columns]",
      "text/html": "<div>\n<style scoped>\n    .dataframe tbody tr th:only-of-type {\n        vertical-align: middle;\n    }\n\n    .dataframe tbody tr th {\n        vertical-align: top;\n    }\n\n    .dataframe thead th {\n        text-align: right;\n    }\n</style>\n<table border=\"1\" class=\"dataframe\">\n  <thead>\n    <tr style=\"text-align: right;\">\n      <th></th>\n      <th>Intake_type</th>\n      <th>Intake_Condition</th>\n      <th>Animal_Type</th>\n      <th>Mix_Breed</th>\n      <th>Primary_Breed</th>\n      <th>Secondary_Breed</th>\n      <th>Main_Color</th>\n      <th>Secondary_Color</th>\n      <th>Sex</th>\n      <th>neuter/spay</th>\n      <th>adopted/non-adopted</th>\n      <th>Breed_size</th>\n      <th>Trainability</th>\n      <th>Breed_characteristic</th>\n      <th>Barking_level</th>\n      <th>activity_level</th>\n      <th>breed_group</th>\n      <th>Age_upon_Intake</th>\n      <th>Age_upon_Outcome</th>\n      <th>Days_in_shelter</th>\n    </tr>\n  </thead>\n  <tbody>\n    <tr>\n      <th>0</th>\n      <td>4</td>\n      <td>5</td>\n      <td>2</td>\n      <td>1</td>\n      <td>35</td>\n      <td>126</td>\n      <td>55</td>\n      <td>37</td>\n      <td>1</td>\n      <td>2</td>\n      <td>1</td>\n      <td>3</td>\n      <td>1</td>\n      <td>2</td>\n      <td>1</td>\n      <td>2</td>\n      <td>1</td>\n      <td>2.000000</td>\n      <td>2.00</td>\n      <td>4.0</td>\n    </tr>\n    <tr>\n      <th>1</th>\n      <td>4</td>\n      <td>5</td>\n      <td>2</td>\n      <td>0</td>\n      <td>131</td>\n      <td>126</td>\n      <td>56</td>\n      <td>34</td>\n      <td>0</td>\n      <td>2</td>\n      <td>0</td>\n      <td>2</td>\n      <td>4</td>\n      <td>0</td>\n      <td>3</td>\n      <td>3</td>\n      <td>5</td>\n      <td>8.000000</td>\n      <td>8.00</td>\n      <td>0.0</td>\n    </tr>\n    <tr>\n      <th>2</th>\n      <td>4</td>\n      <td>5</td>\n      <td>2</td>\n      <td>1</td>\n      <td>32</td>\n      <td>126</td>\n      <td>46</td>\n      <td>51</td>\n      <td>1</td>\n      <td>2</td>\n      <td>0</td>\n      <td>3</td>\n      <td>3</td>\n      <td>1</td>\n      <td>4</td>\n      <td>2</td>\n      <td>1</td>\n      <td>0.916667</td>\n      <td>1.00</td>\n      <td>6.0</td>\n    </tr>\n    <tr>\n      <th>3</th>\n      <td>4</td>\n      <td>9</td>\n      <td>1</td>\n      <td>1</td>\n      <td>119</td>\n      <td>126</td>\n      <td>21</td>\n      <td>37</td>\n      <td>0</td>\n      <td>0</td>\n      <td>1</td>\n      <td>0</td>\n      <td>0</td>\n      <td>0</td>\n      <td>0</td>\n      <td>4</td>\n      <td>3</td>\n      <td>0.076660</td>\n      <td>0.08</td>\n      <td>0.0</td>\n    </tr>\n    <tr>\n      <th>4</th>\n      <td>4</td>\n      <td>5</td>\n      <td>2</td>\n      <td>0</td>\n      <td>116</td>\n      <td>16</td>\n      <td>51</td>\n      <td>29</td>\n      <td>1</td>\n      <td>2</td>\n      <td>0</td>\n      <td>1</td>\n      <td>4</td>\n      <td>3</td>\n      <td>3</td>\n      <td>0</td>\n      <td>9</td>\n      <td>4.000000</td>\n      <td>4.00</td>\n      <td>2.0</td>\n    </tr>\n    <tr>\n      <th>...</th>\n      <td>...</td>\n      <td>...</td>\n      <td>...</td>\n      <td>...</td>\n      <td>...</td>\n      <td>...</td>\n      <td>...</td>\n      <td>...</td>\n      <td>...</td>\n      <td>...</td>\n      <td>...</td>\n      <td>...</td>\n      <td>...</td>\n      <td>...</td>\n      <td>...</td>\n      <td>...</td>\n      <td>...</td>\n      <td>...</td>\n      <td>...</td>\n      <td>...</td>\n    </tr>\n    <tr>\n      <th>109116</th>\n      <td>2</td>\n      <td>5</td>\n      <td>2</td>\n      <td>1</td>\n      <td>266</td>\n      <td>126</td>\n      <td>2</td>\n      <td>51</td>\n      <td>2</td>\n      <td>1</td>\n      <td>1</td>\n      <td>3</td>\n      <td>1</td>\n      <td>2</td>\n      <td>4</td>\n      <td>3</td>\n      <td>8</td>\n      <td>0.083333</td>\n      <td>0.08</td>\n      <td>0.0</td>\n    </tr>\n    <tr>\n      <th>109117</th>\n      <td>4</td>\n      <td>5</td>\n      <td>2</td>\n      <td>0</td>\n      <td>89</td>\n      <td>126</td>\n      <td>15</td>\n      <td>37</td>\n      <td>1</td>\n      <td>0</td>\n      <td>0</td>\n      <td>5</td>\n      <td>3</td>\n      <td>1</td>\n      <td>5</td>\n      <td>3</td>\n      <td>8</td>\n      <td>3.000000</td>\n      <td>3.00</td>\n      <td>0.0</td>\n    </tr>\n    <tr>\n      <th>109118</th>\n      <td>2</td>\n      <td>5</td>\n      <td>2</td>\n      <td>1</td>\n      <td>89</td>\n      <td>126</td>\n      <td>51</td>\n      <td>51</td>\n      <td>1</td>\n      <td>2</td>\n      <td>0</td>\n      <td>5</td>\n      <td>3</td>\n      <td>1</td>\n      <td>5</td>\n      <td>3</td>\n      <td>8</td>\n      <td>0.083333</td>\n      <td>0.17</td>\n      <td>0.0</td>\n    </tr>\n    <tr>\n      <th>109119</th>\n      <td>4</td>\n      <td>5</td>\n      <td>2</td>\n      <td>0</td>\n      <td>35</td>\n      <td>109</td>\n      <td>55</td>\n      <td>37</td>\n      <td>1</td>\n      <td>2</td>\n      <td>0</td>\n      <td>3</td>\n      <td>1</td>\n      <td>2</td>\n      <td>1</td>\n      <td>2</td>\n      <td>1</td>\n      <td>1.000000</td>\n      <td>1.00</td>\n      <td>5.0</td>\n    </tr>\n    <tr>\n      <th>109120</th>\n      <td>4</td>\n      <td>5</td>\n      <td>2</td>\n      <td>1</td>\n      <td>282</td>\n      <td>126</td>\n      <td>2</td>\n      <td>47</td>\n      <td>1</td>\n      <td>2</td>\n      <td>0</td>\n      <td>1</td>\n      <td>1</td>\n      <td>3</td>\n      <td>4</td>\n      <td>3</td>\n      <td>9</td>\n      <td>0.833333</td>\n      <td>0.92</td>\n      <td>53.0</td>\n    </tr>\n  </tbody>\n</table>\n<p>109121 rows × 20 columns</p>\n</div>"
     },
     "execution_count": 110,
     "metadata": {},
     "output_type": "execute_result"
    }
   ],
   "source": [
    "from sklearn.preprocessing import LabelEncoder\n",
    "\n",
    "# creating instance of labelencoder\n",
    "labelencoder = LabelEncoder()\n",
    "\n",
    "# Assigning numerical values and storing in another column\n",
    "for i in df_cat.columns:\n",
    "    df_cat[i] = labelencoder.fit_transform(df_cat[i])\n",
    "\n",
    "df_total = df_cat.join(df_num)\n",
    "df_total"
   ],
   "metadata": {
    "collapsed": false,
    "pycharm": {
     "name": "#%%\n"
    }
   }
  },
  {
   "cell_type": "markdown",
   "source": [
    "# One Hot encoder"
   ],
   "metadata": {
    "collapsed": false
   }
  },
  {
   "cell_type": "markdown",
   "source": [
    "import pandas as pd\n",
    "import numpy as np\n",
    "from sklearn.preprocessing import OneHotEncoder\n",
    "\n",
    "enc = OneHotEncoder(handle_unknown='ignore')\n",
    "enc_df = pd.DataFrame(enc.fit_transform(df_cat).toarray())      # modify here df_num for df_total\n",
    "\n",
    "#df_total = enc_df\n",
    "#df_total\n",
    "df_codes = enc_df.join(df_num)\n",
    "df_codes"
   ],
   "metadata": {
    "collapsed": false,
    "pycharm": {
     "name": "#%% md\n"
    }
   }
  },
  {
   "cell_type": "markdown",
   "source": [
    "# second version\n",
    "\n",
    "# One-hot encode the data using pandas get_dummies\n",
    "df_codes = pd.get_dummies(df_cat)\n",
    "df_total = df_codes.join(df_num)\n",
    "\n",
    "# Display the first 5 rows of the last 12 columns\n",
    "df_total.head(5)"
   ],
   "metadata": {
    "collapsed": false,
    "pycharm": {
     "name": "#%% md\n"
    }
   }
  },
  {
   "cell_type": "markdown",
   "source": [
    "# Cleaning target variable"
   ],
   "metadata": {
    "collapsed": false
   }
  },
  {
   "cell_type": "code",
   "execution_count": 111,
   "outputs": [
    {
     "data": {
      "text/plain": "array([1, 0, 2])"
     },
     "execution_count": 111,
     "metadata": {},
     "output_type": "execute_result"
    }
   ],
   "source": [
    "df_total['adopted/non-adopted'].unique()\n",
    "\n",
    "# unknown value is found in 21 rows"
   ],
   "metadata": {
    "collapsed": false,
    "pycharm": {
     "name": "#%%\n"
    }
   }
  },
  {
   "cell_type": "markdown",
   "source": [],
   "metadata": {
    "collapsed": false,
    "pycharm": {
     "name": "#%% md\n"
    }
   }
  },
  {
   "cell_type": "code",
   "execution_count": 112,
   "outputs": [
    {
     "data": {
      "text/plain": "Int64Index([ 13869,  29677,  31621,  31898,  32860,  39609,  48814,  52620,\n             54235,  57107,  72673,  74858,  75612,  79431,  90548,  93543,\n             93795,  95675, 100101, 103241, 108841],\n           dtype='int64')"
     },
     "execution_count": 112,
     "metadata": {},
     "output_type": "execute_result"
    }
   ],
   "source": [
    "index_names = df_total[df_total['adopted/non-adopted'] == 2 ].index\n",
    "index_names"
   ],
   "metadata": {
    "collapsed": false,
    "pycharm": {
     "name": "#%%\n"
    }
   }
  },
  {
   "cell_type": "code",
   "execution_count": 113,
   "outputs": [],
   "source": [
    "df_total.drop(index_names, inplace=True)"
   ],
   "metadata": {
    "collapsed": false,
    "pycharm": {
     "name": "#%%\n"
    }
   }
  },
  {
   "cell_type": "code",
   "execution_count": 114,
   "outputs": [
    {
     "data": {
      "text/plain": "array([1, 0])"
     },
     "execution_count": 114,
     "metadata": {},
     "output_type": "execute_result"
    }
   ],
   "source": [
    "df_total['adopted/non-adopted'].unique()"
   ],
   "metadata": {
    "collapsed": false,
    "pycharm": {
     "name": "#%%\n"
    }
   }
  },
  {
   "cell_type": "markdown",
   "source": [],
   "metadata": {
    "collapsed": false
   }
  },
  {
   "cell_type": "markdown",
   "source": [
    "# split"
   ],
   "metadata": {
    "collapsed": false
   }
  },
  {
   "cell_type": "markdown",
   "source": [
    "X = df_total.iloc[:, df_total.columns != 'adopted/non-adopted' ].values\n",
    "y = df_total['adopted/non-adopted'].values"
   ],
   "metadata": {
    "collapsed": false,
    "pycharm": {
     "name": "#%% md\n"
    }
   }
  },
  {
   "cell_type": "code",
   "execution_count": 115,
   "outputs": [
    {
     "name": "stderr",
     "output_type": "stream",
     "text": [
      "C:\\Users\\diedr\\AppData\\Local\\Temp\\ipykernel_15424\\488732468.py:1: FutureWarning: In a future version of pandas all arguments of DataFrame.drop except for the argument 'labels' will be keyword-only.\n",
      "  X = df_total.drop('adopted/non-adopted', 1)\n"
     ]
    },
    {
     "data": {
      "text/plain": "   Intake_type  Intake_Condition  Animal_Type  Mix_Breed  Primary_Breed  \\\n0            4                 5            2          1             35   \n1            4                 5            2          0            131   \n2            4                 5            2          1             32   \n3            4                 9            1          1            119   \n4            4                 5            2          0            116   \n\n   Secondary_Breed  Main_Color  Secondary_Color  Sex  neuter/spay  Breed_size  \\\n0              126          55               37    1            2           3   \n1              126          56               34    0            2           2   \n2              126          46               51    1            2           3   \n3              126          21               37    0            0           0   \n4               16          51               29    1            2           1   \n\n   Trainability  Breed_characteristic  Barking_level  activity_level  \\\n0             1                     2              1               2   \n1             4                     0              3               3   \n2             3                     1              4               2   \n3             0                     0              0               4   \n4             4                     3              3               0   \n\n   breed_group  Age_upon_Intake  Age_upon_Outcome  Days_in_shelter  \n0            1         2.000000              2.00              4.0  \n1            5         8.000000              8.00              0.0  \n2            1         0.916667              1.00              6.0  \n3            3         0.076660              0.08              0.0  \n4            9         4.000000              4.00              2.0  ",
      "text/html": "<div>\n<style scoped>\n    .dataframe tbody tr th:only-of-type {\n        vertical-align: middle;\n    }\n\n    .dataframe tbody tr th {\n        vertical-align: top;\n    }\n\n    .dataframe thead th {\n        text-align: right;\n    }\n</style>\n<table border=\"1\" class=\"dataframe\">\n  <thead>\n    <tr style=\"text-align: right;\">\n      <th></th>\n      <th>Intake_type</th>\n      <th>Intake_Condition</th>\n      <th>Animal_Type</th>\n      <th>Mix_Breed</th>\n      <th>Primary_Breed</th>\n      <th>Secondary_Breed</th>\n      <th>Main_Color</th>\n      <th>Secondary_Color</th>\n      <th>Sex</th>\n      <th>neuter/spay</th>\n      <th>Breed_size</th>\n      <th>Trainability</th>\n      <th>Breed_characteristic</th>\n      <th>Barking_level</th>\n      <th>activity_level</th>\n      <th>breed_group</th>\n      <th>Age_upon_Intake</th>\n      <th>Age_upon_Outcome</th>\n      <th>Days_in_shelter</th>\n    </tr>\n  </thead>\n  <tbody>\n    <tr>\n      <th>0</th>\n      <td>4</td>\n      <td>5</td>\n      <td>2</td>\n      <td>1</td>\n      <td>35</td>\n      <td>126</td>\n      <td>55</td>\n      <td>37</td>\n      <td>1</td>\n      <td>2</td>\n      <td>3</td>\n      <td>1</td>\n      <td>2</td>\n      <td>1</td>\n      <td>2</td>\n      <td>1</td>\n      <td>2.000000</td>\n      <td>2.00</td>\n      <td>4.0</td>\n    </tr>\n    <tr>\n      <th>1</th>\n      <td>4</td>\n      <td>5</td>\n      <td>2</td>\n      <td>0</td>\n      <td>131</td>\n      <td>126</td>\n      <td>56</td>\n      <td>34</td>\n      <td>0</td>\n      <td>2</td>\n      <td>2</td>\n      <td>4</td>\n      <td>0</td>\n      <td>3</td>\n      <td>3</td>\n      <td>5</td>\n      <td>8.000000</td>\n      <td>8.00</td>\n      <td>0.0</td>\n    </tr>\n    <tr>\n      <th>2</th>\n      <td>4</td>\n      <td>5</td>\n      <td>2</td>\n      <td>1</td>\n      <td>32</td>\n      <td>126</td>\n      <td>46</td>\n      <td>51</td>\n      <td>1</td>\n      <td>2</td>\n      <td>3</td>\n      <td>3</td>\n      <td>1</td>\n      <td>4</td>\n      <td>2</td>\n      <td>1</td>\n      <td>0.916667</td>\n      <td>1.00</td>\n      <td>6.0</td>\n    </tr>\n    <tr>\n      <th>3</th>\n      <td>4</td>\n      <td>9</td>\n      <td>1</td>\n      <td>1</td>\n      <td>119</td>\n      <td>126</td>\n      <td>21</td>\n      <td>37</td>\n      <td>0</td>\n      <td>0</td>\n      <td>0</td>\n      <td>0</td>\n      <td>0</td>\n      <td>0</td>\n      <td>4</td>\n      <td>3</td>\n      <td>0.076660</td>\n      <td>0.08</td>\n      <td>0.0</td>\n    </tr>\n    <tr>\n      <th>4</th>\n      <td>4</td>\n      <td>5</td>\n      <td>2</td>\n      <td>0</td>\n      <td>116</td>\n      <td>16</td>\n      <td>51</td>\n      <td>29</td>\n      <td>1</td>\n      <td>2</td>\n      <td>1</td>\n      <td>4</td>\n      <td>3</td>\n      <td>3</td>\n      <td>0</td>\n      <td>9</td>\n      <td>4.000000</td>\n      <td>4.00</td>\n      <td>2.0</td>\n    </tr>\n  </tbody>\n</table>\n</div>"
     },
     "execution_count": 115,
     "metadata": {},
     "output_type": "execute_result"
    }
   ],
   "source": [
    "X = df_total.drop('adopted/non-adopted', 1)\n",
    "y = df_total['adopted/non-adopted']\n",
    "X.head()"
   ],
   "metadata": {
    "collapsed": false,
    "pycharm": {
     "name": "#%%\n"
    }
   }
  },
  {
   "cell_type": "code",
   "source": [
    "from sklearn.model_selection import train_test_split\n",
    "X_train, X_test, y_train, y_test = train_test_split(X, y, test_size = 0.20, random_state = 0)"
   ],
   "metadata": {
    "collapsed": false,
    "pycharm": {
     "name": "#%%\n"
    }
   },
   "execution_count": 116,
   "outputs": []
  },
  {
   "cell_type": "markdown",
   "source": [
    "# Balancing 1 (under-sampling)\n",
    "\n",
    "- This method work well when the data is substantial and relatively equal in the amount of data from each target class"
   ],
   "metadata": {
    "collapsed": false
   }
  },
  {
   "cell_type": "code",
   "execution_count": 117,
   "outputs": [
    {
     "data": {
      "text/plain": "76807    1\n43782    0\n14176    0\n31617    1\n66545    0\n        ..\n21244    0\n45897    1\n42619    0\n43573    1\n68278    1\nName: adopted/non-adopted, Length: 87280, dtype: int32"
     },
     "execution_count": 117,
     "metadata": {},
     "output_type": "execute_result"
    }
   ],
   "source": [
    "y_train"
   ],
   "metadata": {
    "collapsed": false,
    "pycharm": {
     "name": "#%%\n"
    }
   }
  },
  {
   "cell_type": "code",
   "execution_count": 118,
   "outputs": [
    {
     "data": {
      "text/plain": "0    51559\n1    35721\nName: adopted/non-adopted, dtype: int64"
     },
     "execution_count": 118,
     "metadata": {},
     "output_type": "execute_result"
    }
   ],
   "source": [
    "y_train.value_counts()"
   ],
   "metadata": {
    "collapsed": false,
    "pycharm": {
     "name": "#%%\n"
    }
   }
  },
  {
   "cell_type": "code",
   "execution_count": 119,
   "outputs": [
    {
     "data": {
      "text/plain": "0    64338\n1    44762\nName: adopted/non-adopted, dtype: int64"
     },
     "execution_count": 119,
     "metadata": {},
     "output_type": "execute_result"
    }
   ],
   "source": [
    "y.value_counts()"
   ],
   "metadata": {
    "collapsed": false,
    "pycharm": {
     "name": "#%%\n"
    }
   }
  },
  {
   "cell_type": "code",
   "execution_count": 120,
   "outputs": [],
   "source": [
    "from imblearn.datasets import make_imbalance\n",
    "\n",
    "X_train, y_train = make_imbalance(X_train, y_train, sampling_strategy={0: 30000, 1: 30000},random_state=14)\n",
    "\n",
    "# It was set to 30000 because of the non-adopted value:1 in y_train"
   ],
   "metadata": {
    "collapsed": false,
    "pycharm": {
     "name": "#%%\n"
    }
   }
  },
  {
   "cell_type": "code",
   "execution_count": 121,
   "outputs": [
    {
     "data": {
      "text/plain": "<Figure size 432x288 with 1 Axes>",
      "image/png": "[encoded data removed]"
     },
     "metadata": {
      "needs_background": "light"
     },
     "output_type": "display_data"
    }
   ],
   "source": [
    "y_train.value_counts().plot(kind='bar')\n",
    "plt.title('label balance (undersample)')\n",
    "plt.xlabel('adopted or non-adopted')\n",
    "plt.ylabel('amount per label')\n",
    "plt.show()"
   ],
   "metadata": {
    "collapsed": false,
    "pycharm": {
     "name": "#%%\n"
    }
   }
  },
  {
   "cell_type": "markdown",
   "source": [
    "# Model"
   ],
   "metadata": {
    "collapsed": false
   }
  },
  {
   "cell_type": "code",
   "source": [
    "from sklearn.preprocessing import StandardScaler\n",
    "sc = StandardScaler()\n",
    "X_train = sc.fit_transform(X_train)\n",
    "X_test = sc.transform(X_test)"
   ],
   "metadata": {
    "collapsed": false,
    "pycharm": {
     "name": "#%%\n"
    }
   },
   "execution_count": 122,
   "outputs": []
  },
  {
   "cell_type": "code",
   "source": [
    "from sklearn.neighbors import KNeighborsClassifier\n",
    "classifier = KNeighborsClassifier(n_neighbors = 5, metric = 'minkowski', p = 2)\n",
    "classifier.fit(X_train, y_train)"
   ],
   "metadata": {
    "collapsed": false,
    "pycharm": {
     "name": "#%%\n"
    }
   },
   "execution_count": 123,
   "outputs": [
    {
     "data": {
      "text/plain": "KNeighborsClassifier()"
     },
     "execution_count": 123,
     "metadata": {},
     "output_type": "execute_result"
    }
   ]
  },
  {
   "cell_type": "code",
   "source": [
    "y_pred = classifier.predict(X_test)"
   ],
   "metadata": {
    "collapsed": false,
    "pycharm": {
     "name": "#%%\n"
    }
   },
   "execution_count": 124,
   "outputs": []
  },
  {
   "cell_type": "code",
   "source": [
    "from sklearn.metrics import confusion_matrix,accuracy_score\n",
    "cm = confusion_matrix(y_test, y_pred)\n",
    "ac = accuracy_score(y_test,y_pred)\n",
    "cm"
   ],
   "metadata": {
    "collapsed": false,
    "pycharm": {
     "name": "#%%\n"
    }
   },
   "execution_count": 125,
   "outputs": [
    {
     "data": {
      "text/plain": "array([[10663,  2116],\n       [ 2222,  6819]], dtype=int64)"
     },
     "execution_count": 125,
     "metadata": {},
     "output_type": "execute_result"
    }
   ]
  },
  {
   "cell_type": "code",
   "source": [
    "print('Accuracy:', ac)"
   ],
   "metadata": {
    "collapsed": false,
    "pycharm": {
     "name": "#%%\n"
    }
   },
   "execution_count": 126,
   "outputs": [
    {
     "name": "stdout",
     "output_type": "stream",
     "text": [
      "Accuracy: 0.8011915673693859\n"
     ]
    }
   ]
  },
  {
   "cell_type": "markdown",
   "source": [
    "# K-fold Cross-validation"
   ],
   "metadata": {
    "collapsed": false
   }
  },
  {
   "cell_type": "code",
   "execution_count": 127,
   "outputs": [],
   "source": [
    "# evaluate KNN model using repeated k-fold cross-validation\n",
    "from numpy import mean\n",
    "from numpy import std\n",
    "from sklearn.model_selection import RepeatedKFold\n",
    "from sklearn.model_selection import cross_val_score"
   ],
   "metadata": {
    "collapsed": false,
    "pycharm": {
     "name": "#%%\n"
    }
   }
  },
  {
   "cell_type": "code",
   "source": [
    "# prepare the cross-validation procedure\n",
    "cv = RepeatedKFold(n_splits=10, n_repeats=3, random_state=1)\n",
    "# create model\n",
    "#model = LogisticRegression()\n",
    "model = KNeighborsClassifier(n_neighbors = 5, metric = 'minkowski', p = 2)\n",
    "# evaluate model\n",
    "scores = cross_val_score(model, X_test, y_test, scoring='accuracy', cv=cv, n_jobs=-1)\n",
    "# report performance\n",
    "print('Accuracy: %.3f (%.3f)' % (mean(scores), std(scores)))"
   ],
   "metadata": {
    "collapsed": false,
    "pycharm": {
     "name": "#%%\n"
    }
   },
   "execution_count": 128,
   "outputs": [
    {
     "name": "stdout",
     "output_type": "stream",
     "text": [
      "Accuracy: 0.806 (0.008)\n"
     ]
    }
   ]
  },
  {
   "cell_type": "markdown",
   "source": [
    "# Classification Report"
   ],
   "metadata": {
    "collapsed": false
   }
  },
  {
   "cell_type": "code",
   "source": [
    "from sklearn.metrics import classification_report\n",
    "\n",
    "report = classification_report(y_test, y_pred)\n",
    "print(report)"
   ],
   "metadata": {
    "collapsed": false,
    "pycharm": {
     "name": "#%%\n"
    }
   },
   "execution_count": 129,
   "outputs": [
    {
     "name": "stdout",
     "output_type": "stream",
     "text": [
      "              precision    recall  f1-score   support\n",
      "\n",
      "           0       0.83      0.83      0.83     12779\n",
      "           1       0.76      0.75      0.76      9041\n",
      "\n",
      "    accuracy                           0.80     21820\n",
      "   macro avg       0.80      0.79      0.79     21820\n",
      "weighted avg       0.80      0.80      0.80     21820\n",
      "\n"
     ]
    }
   ]
  },
  {
   "cell_type": "markdown",
   "source": [
    "# Log Loss"
   ],
   "metadata": {
    "collapsed": false
   }
  },
  {
   "cell_type": "code",
   "source": [
    "# Cross Validation Classification LogLoss\n",
    "import pandas\n",
    "from sklearn import model_selection\n",
    "\n",
    "kfold = model_selection.KFold(n_splits=10, random_state=7, shuffle=True)\n",
    "model = KNeighborsClassifier(n_neighbors = 5, metric = 'minkowski', p = 2)\n",
    "scoring = 'neg_log_loss'\n",
    "results = model_selection.cross_val_score(model, X_test, y_test, cv=kfold, scoring=scoring)\n",
    "print(\"Logloss: %.3f (%.3f)\" % (results.mean(), results.std()))"
   ],
   "metadata": {
    "collapsed": false,
    "pycharm": {
     "name": "#%%\n"
    }
   },
   "execution_count": 130,
   "outputs": [
    {
     "name": "stdout",
     "output_type": "stream",
     "text": [
      "Logloss: -1.905 (0.202)\n"
     ]
    }
   ]
  },
  {
   "cell_type": "code",
   "execution_count": 131,
   "outputs": [
    {
     "name": "stdout",
     "output_type": "stream",
     "text": [
      "Total runtime of the program is 36.26865291595459\n"
     ]
    }
   ],
   "source": [
    "# program body ends\n",
    "\n",
    "# store end time\n",
    "end = time.time()\n",
    "\n",
    "# total time taken\n",
    "print(f\"Total runtime of the program is {end - begin}\")"
   ],
   "metadata": {
    "collapsed": false,
    "pycharm": {
     "name": "#%%\n"
    }
   }
  },
  {
   "cell_type": "markdown",
   "source": [
    "# KNN - Selected features"
   ],
   "metadata": {
    "collapsed": false
   }
  },
  {
   "cell_type": "code",
   "execution_count": 215,
   "outputs": [],
   "source": [
    "# Code to Measure time taken by program to execute.\n",
    "import time\n",
    "\n",
    "# store starting time\n",
    "begin2 = time.time()"
   ],
   "metadata": {
    "collapsed": false,
    "pycharm": {
     "name": "#%%\n"
    }
   }
  },
  {
   "cell_type": "code",
   "execution_count": 216,
   "outputs": [
    {
     "data": {
      "text/plain": "        Unnamed: 0 Animal_ID     Name      DateTime_Intake  \\\n0                0   a786884   *brock  2019-01-03 04:19:00   \n1                1   a706918    belle  2015-07-05 12:59:00   \n2                2   a724273  runster  2016-04-14 06:43:00   \n3                3   a665644  unknown  2013-10-21 07:59:00   \n4                4   a682524      rio  2014-06-29 10:38:00   \n...            ...       ...      ...                  ...   \n109116      110490   a830164  unknown  2021-03-03 02:17:00   \n109117      110491   a829701  pee wee  2021-02-21 02:56:00   \n109118      110492   a765174   carson  2018-01-14 11:31:00   \n109119      110493   a829868     remy  2021-02-25 11:40:00   \n109120      110494   a828158     odin  2021-01-08 07:01:00   \n\n                              Found_Location      Intake_type  \\\n0        2501 magin meadow dr in austin (tx)            stray   \n1           9409 bluegrass dr in austin (tx)            stray   \n2         2818 palomino trail in austin (tx)            stray   \n3                                austin (tx)            stray   \n4              800 grove blvd in austin (tx)            stray   \n...                                      ...              ...   \n109116                           travis (tx)  owner surrender   \n109117  16201 biltmore avenue in travis (tx)            stray   \n109118                           austin (tx)  owner surrender   \n109119                 valdez in austin (tx)            stray   \n109120        2224 e stassney in austin (tx)            stray   \n\n       Intake_Condition Animal_Type  Age_upon_Intake Mix_Breed  ...      Sex  \\\n0                normal         dog         2.000000       yes  ...     male   \n1                normal         dog         8.000000        no  ...   female   \n2                normal         dog         0.916667       yes  ...     male   \n3                  sick         cat         0.076660       yes  ...   female   \n4                normal         dog         4.000000        no  ...     male   \n...                 ...         ...              ...       ...  ...      ...   \n109116           normal         dog         0.083333       yes  ...  unknown   \n109117           normal         dog         3.000000        no  ...     male   \n109118           normal         dog         0.083333       yes  ...     male   \n109119           normal         dog         1.000000        no  ...     male   \n109120           normal         dog         0.833333       yes  ...     male   \n\n       neuter/spay adopted/non-adopted Days_in_shelter Breed_size  \\\n0              yes         non-adopted             4.0      small   \n1              yes             adopted             0.0     medium   \n2              yes             adopted             6.0      small   \n3               no         non-adopted             0.0    Unknown   \n4              yes             adopted             2.0      large   \n...            ...                 ...             ...        ...   \n109116     unknown         non-adopted             0.0      small   \n109117          no             adopted             0.0     xsmall   \n109118         yes             adopted             0.0     xsmall   \n109119         yes             adopted             5.0      small   \n109120         yes             adopted            53.0      large   \n\n       Trainability Breed_characteristic Barking_level  activity_level  \\\n0         agreeable           family_dog      frequent     medium_high   \n1           pleaser           Not_define        medium      medium_low   \n2       independent   apartment_friendly          rare     medium_high   \n3           Unknown           Not_define       Unknown      not_define   \n4           pleaser            guard_dog        medium            high   \n...             ...                  ...           ...             ...   \n109116    agreeable           family_dog          rare      medium_low   \n109117  independent   apartment_friendly   very_common      medium_low   \n109118  independent   apartment_friendly   very_common      medium_low   \n109119    agreeable           family_dog      frequent     medium_high   \n109120    agreeable            guard_dog          rare      medium_low   \n\n           breed_group  \n0          hound_group  \n1       sporting_group  \n2          hound_group  \n3           not_define  \n4        working_group  \n...                ...  \n109116       toy_group  \n109117       toy_group  \n109118       toy_group  \n109119     hound_group  \n109120   working_group  \n\n[109121 rows x 30 columns]",
      "text/html": "<div>\n<style scoped>\n    .dataframe tbody tr th:only-of-type {\n        vertical-align: middle;\n    }\n\n    .dataframe tbody tr th {\n        vertical-align: top;\n    }\n\n    .dataframe thead th {\n        text-align: right;\n    }\n</style>\n<table border=\"1\" class=\"dataframe\">\n  <thead>\n    <tr style=\"text-align: right;\">\n      <th></th>\n      <th>Unnamed: 0</th>\n      <th>Animal_ID</th>\n      <th>Name</th>\n      <th>DateTime_Intake</th>\n      <th>Found_Location</th>\n      <th>Intake_type</th>\n      <th>Intake_Condition</th>\n      <th>Animal_Type</th>\n      <th>Age_upon_Intake</th>\n      <th>Mix_Breed</th>\n      <th>...</th>\n      <th>Sex</th>\n      <th>neuter/spay</th>\n      <th>adopted/non-adopted</th>\n      <th>Days_in_shelter</th>\n      <th>Breed_size</th>\n      <th>Trainability</th>\n      <th>Breed_characteristic</th>\n      <th>Barking_level</th>\n      <th>activity_level</th>\n      <th>breed_group</th>\n    </tr>\n  </thead>\n  <tbody>\n    <tr>\n      <th>0</th>\n      <td>0</td>\n      <td>a786884</td>\n      <td>*brock</td>\n      <td>2019-01-03 04:19:00</td>\n      <td>2501 magin meadow dr in austin (tx)</td>\n      <td>stray</td>\n      <td>normal</td>\n      <td>dog</td>\n      <td>2.000000</td>\n      <td>yes</td>\n      <td>...</td>\n      <td>male</td>\n      <td>yes</td>\n      <td>non-adopted</td>\n      <td>4.0</td>\n      <td>small</td>\n      <td>agreeable</td>\n      <td>family_dog</td>\n      <td>frequent</td>\n      <td>medium_high</td>\n      <td>hound_group</td>\n    </tr>\n    <tr>\n      <th>1</th>\n      <td>1</td>\n      <td>a706918</td>\n      <td>belle</td>\n      <td>2015-07-05 12:59:00</td>\n      <td>9409 bluegrass dr in austin (tx)</td>\n      <td>stray</td>\n      <td>normal</td>\n      <td>dog</td>\n      <td>8.000000</td>\n      <td>no</td>\n      <td>...</td>\n      <td>female</td>\n      <td>yes</td>\n      <td>adopted</td>\n      <td>0.0</td>\n      <td>medium</td>\n      <td>pleaser</td>\n      <td>Not_define</td>\n      <td>medium</td>\n      <td>medium_low</td>\n      <td>sporting_group</td>\n    </tr>\n    <tr>\n      <th>2</th>\n      <td>2</td>\n      <td>a724273</td>\n      <td>runster</td>\n      <td>2016-04-14 06:43:00</td>\n      <td>2818 palomino trail in austin (tx)</td>\n      <td>stray</td>\n      <td>normal</td>\n      <td>dog</td>\n      <td>0.916667</td>\n      <td>yes</td>\n      <td>...</td>\n      <td>male</td>\n      <td>yes</td>\n      <td>adopted</td>\n      <td>6.0</td>\n      <td>small</td>\n      <td>independent</td>\n      <td>apartment_friendly</td>\n      <td>rare</td>\n      <td>medium_high</td>\n      <td>hound_group</td>\n    </tr>\n    <tr>\n      <th>3</th>\n      <td>3</td>\n      <td>a665644</td>\n      <td>unknown</td>\n      <td>2013-10-21 07:59:00</td>\n      <td>austin (tx)</td>\n      <td>stray</td>\n      <td>sick</td>\n      <td>cat</td>\n      <td>0.076660</td>\n      <td>yes</td>\n      <td>...</td>\n      <td>female</td>\n      <td>no</td>\n      <td>non-adopted</td>\n      <td>0.0</td>\n      <td>Unknown</td>\n      <td>Unknown</td>\n      <td>Not_define</td>\n      <td>Unknown</td>\n      <td>not_define</td>\n      <td>not_define</td>\n    </tr>\n    <tr>\n      <th>4</th>\n      <td>4</td>\n      <td>a682524</td>\n      <td>rio</td>\n      <td>2014-06-29 10:38:00</td>\n      <td>800 grove blvd in austin (tx)</td>\n      <td>stray</td>\n      <td>normal</td>\n      <td>dog</td>\n      <td>4.000000</td>\n      <td>no</td>\n      <td>...</td>\n      <td>male</td>\n      <td>yes</td>\n      <td>adopted</td>\n      <td>2.0</td>\n      <td>large</td>\n      <td>pleaser</td>\n      <td>guard_dog</td>\n      <td>medium</td>\n      <td>high</td>\n      <td>working_group</td>\n    </tr>\n    <tr>\n      <th>...</th>\n      <td>...</td>\n      <td>...</td>\n      <td>...</td>\n      <td>...</td>\n      <td>...</td>\n      <td>...</td>\n      <td>...</td>\n      <td>...</td>\n      <td>...</td>\n      <td>...</td>\n      <td>...</td>\n      <td>...</td>\n      <td>...</td>\n      <td>...</td>\n      <td>...</td>\n      <td>...</td>\n      <td>...</td>\n      <td>...</td>\n      <td>...</td>\n      <td>...</td>\n      <td>...</td>\n    </tr>\n    <tr>\n      <th>109116</th>\n      <td>110490</td>\n      <td>a830164</td>\n      <td>unknown</td>\n      <td>2021-03-03 02:17:00</td>\n      <td>travis (tx)</td>\n      <td>owner surrender</td>\n      <td>normal</td>\n      <td>dog</td>\n      <td>0.083333</td>\n      <td>yes</td>\n      <td>...</td>\n      <td>unknown</td>\n      <td>unknown</td>\n      <td>non-adopted</td>\n      <td>0.0</td>\n      <td>small</td>\n      <td>agreeable</td>\n      <td>family_dog</td>\n      <td>rare</td>\n      <td>medium_low</td>\n      <td>toy_group</td>\n    </tr>\n    <tr>\n      <th>109117</th>\n      <td>110491</td>\n      <td>a829701</td>\n      <td>pee wee</td>\n      <td>2021-02-21 02:56:00</td>\n      <td>16201 biltmore avenue in travis (tx)</td>\n      <td>stray</td>\n      <td>normal</td>\n      <td>dog</td>\n      <td>3.000000</td>\n      <td>no</td>\n      <td>...</td>\n      <td>male</td>\n      <td>no</td>\n      <td>adopted</td>\n      <td>0.0</td>\n      <td>xsmall</td>\n      <td>independent</td>\n      <td>apartment_friendly</td>\n      <td>very_common</td>\n      <td>medium_low</td>\n      <td>toy_group</td>\n    </tr>\n    <tr>\n      <th>109118</th>\n      <td>110492</td>\n      <td>a765174</td>\n      <td>carson</td>\n      <td>2018-01-14 11:31:00</td>\n      <td>austin (tx)</td>\n      <td>owner surrender</td>\n      <td>normal</td>\n      <td>dog</td>\n      <td>0.083333</td>\n      <td>yes</td>\n      <td>...</td>\n      <td>male</td>\n      <td>yes</td>\n      <td>adopted</td>\n      <td>0.0</td>\n      <td>xsmall</td>\n      <td>independent</td>\n      <td>apartment_friendly</td>\n      <td>very_common</td>\n      <td>medium_low</td>\n      <td>toy_group</td>\n    </tr>\n    <tr>\n      <th>109119</th>\n      <td>110493</td>\n      <td>a829868</td>\n      <td>remy</td>\n      <td>2021-02-25 11:40:00</td>\n      <td>valdez in austin (tx)</td>\n      <td>stray</td>\n      <td>normal</td>\n      <td>dog</td>\n      <td>1.000000</td>\n      <td>no</td>\n      <td>...</td>\n      <td>male</td>\n      <td>yes</td>\n      <td>adopted</td>\n      <td>5.0</td>\n      <td>small</td>\n      <td>agreeable</td>\n      <td>family_dog</td>\n      <td>frequent</td>\n      <td>medium_high</td>\n      <td>hound_group</td>\n    </tr>\n    <tr>\n      <th>109120</th>\n      <td>110494</td>\n      <td>a828158</td>\n      <td>odin</td>\n      <td>2021-01-08 07:01:00</td>\n      <td>2224 e stassney in austin (tx)</td>\n      <td>stray</td>\n      <td>normal</td>\n      <td>dog</td>\n      <td>0.833333</td>\n      <td>yes</td>\n      <td>...</td>\n      <td>male</td>\n      <td>yes</td>\n      <td>adopted</td>\n      <td>53.0</td>\n      <td>large</td>\n      <td>agreeable</td>\n      <td>guard_dog</td>\n      <td>rare</td>\n      <td>medium_low</td>\n      <td>working_group</td>\n    </tr>\n  </tbody>\n</table>\n<p>109121 rows × 30 columns</p>\n</div>"
     },
     "execution_count": 216,
     "metadata": {},
     "output_type": "execute_result"
    }
   ],
   "source": [
    "df_total2 = pd.read_csv('df_total1.csv')\n",
    "df_total2"
   ],
   "metadata": {
    "collapsed": false,
    "pycharm": {
     "name": "#%%\n"
    }
   }
  },
  {
   "cell_type": "code",
   "execution_count": 217,
   "outputs": [
    {
     "name": "stdout",
     "output_type": "stream",
     "text": [
      "<class 'pandas.core.frame.DataFrame'>\n",
      "RangeIndex: 109121 entries, 0 to 109120\n",
      "Data columns (total 30 columns):\n",
      " #   Column                Non-Null Count   Dtype   \n",
      "---  ------                --------------   -----   \n",
      " 0   Unnamed: 0            109121 non-null  int64   \n",
      " 1   Animal_ID             109121 non-null  object  \n",
      " 2   Name                  109120 non-null  object  \n",
      " 3   DateTime_Intake       109121 non-null  object  \n",
      " 4   Found_Location        109121 non-null  object  \n",
      " 5   Intake_type           109121 non-null  category\n",
      " 6   Intake_Condition      109121 non-null  category\n",
      " 7   Animal_Type           109121 non-null  category\n",
      " 8   Age_upon_Intake       109121 non-null  float64 \n",
      " 9   Mix_Breed             109121 non-null  category\n",
      " 10  Primary_Breed         109121 non-null  category\n",
      " 11  Secondary_Breed       109121 non-null  category\n",
      " 12  Main_Color            109121 non-null  category\n",
      " 13  Secondary_Color       109121 non-null  category\n",
      " 14  DateTime_Outcome      109121 non-null  object  \n",
      " 15  Date of Birth         109121 non-null  object  \n",
      " 16  Outcome_Type          109121 non-null  object  \n",
      " 17  Outcome_Subtype       109121 non-null  object  \n",
      " 18  Age_upon_Outcome      109121 non-null  float64 \n",
      " 19  Location              109121 non-null  object  \n",
      " 20  Sex                   109121 non-null  category\n",
      " 21  neuter/spay           109121 non-null  category\n",
      " 22  adopted/non-adopted   109121 non-null  category\n",
      " 23  Days_in_shelter       109121 non-null  float64 \n",
      " 24  Breed_size            109121 non-null  category\n",
      " 25  Trainability          109121 non-null  category\n",
      " 26  Breed_characteristic  109121 non-null  category\n",
      " 27  Barking_level         109121 non-null  category\n",
      " 28  activity_level        109121 non-null  category\n",
      " 29  breed_group           109121 non-null  category\n",
      "dtypes: category(17), float64(3), int64(1), object(9)\n",
      "memory usage: 12.8+ MB\n"
     ]
    }
   ],
   "source": [
    "cols_num2 = ['Age_upon_Intake','Age_upon_Outcome','Days_in_shelter']\n",
    "cols_cat2 = ['Intake_type','Intake_Condition','Mix_Breed','Primary_Breed','Secondary_Breed','Main_Color','Secondary_Color','Sex','neuter/spay','Breed_size','Trainability','Breed_characteristic','Barking_level','activity_level','adopted/non-adopted','breed_group','Animal_Type']\n",
    "df_total2[cols_cat2] = df_total2[cols_cat2].astype('category')\n",
    "#col2 = ['DateTime_Intake','DateTime_Outcome','Date of Birth']\n",
    "#df_total[col2] = df_total[col2].astype('datetime64[ns]')\n",
    "df_total2.info()\n",
    "\n",
    "# modify cols_num and cols2 -> no datetime for now"
   ],
   "metadata": {
    "collapsed": false,
    "pycharm": {
     "name": "#%%\n"
    }
   }
  },
  {
   "cell_type": "code",
   "execution_count": 218,
   "outputs": [
    {
     "data": {
      "text/plain": "Index(['Unnamed: 0', 'Animal_ID', 'Name', 'DateTime_Intake', 'Found_Location',\n       'Intake_type', 'Intake_Condition', 'Animal_Type', 'Age_upon_Intake',\n       'Mix_Breed', 'Primary_Breed', 'Secondary_Breed', 'Main_Color',\n       'Secondary_Color', 'DateTime_Outcome', 'Date of Birth', 'Outcome_Type',\n       'Outcome_Subtype', 'Age_upon_Outcome', 'Location', 'Sex', 'neuter/spay',\n       'adopted/non-adopted', 'Days_in_shelter', 'Breed_size', 'Trainability',\n       'Breed_characteristic', 'Barking_level', 'activity_level',\n       'breed_group'],\n      dtype='object')"
     },
     "execution_count": 218,
     "metadata": {},
     "output_type": "execute_result"
    }
   ],
   "source": [
    "df_total2.columns"
   ],
   "metadata": {
    "collapsed": false,
    "pycharm": {
     "name": "#%%\n"
    }
   }
  },
  {
   "cell_type": "code",
   "execution_count": 219,
   "outputs": [
    {
     "name": "stderr",
     "output_type": "stream",
     "text": [
      "C:\\Users\\diedr\\AppData\\Local\\Temp\\ipykernel_15424\\3248623187.py:12: FutureWarning: In a future version of pandas all arguments of DataFrame.drop except for the argument 'labels' will be keyword-only.\n",
      "  df_total2 = df_total2.drop(not_selected, 1)\n"
     ]
    },
    {
     "data": {
      "text/plain": "            Intake_type Intake_Condition Animal_Type  Age_upon_Intake  \\\n0                 stray           normal         dog         2.000000   \n1                 stray           normal         dog         8.000000   \n2                 stray           normal         dog         0.916667   \n3                 stray             sick         cat         0.076660   \n4                 stray           normal         dog         4.000000   \n...                 ...              ...         ...              ...   \n109116  owner surrender           normal         dog         0.083333   \n109117            stray           normal         dog         3.000000   \n109118  owner surrender           normal         dog         0.083333   \n109119            stray           normal         dog         1.000000   \n109120            stray           normal         dog         0.833333   \n\n       Mix_Breed  Age_upon_Outcome      Sex neuter/spay adopted/non-adopted  \\\n0            yes              2.00     male         yes         non-adopted   \n1             no              8.00   female         yes             adopted   \n2            yes              1.00     male         yes             adopted   \n3            yes              0.08   female          no         non-adopted   \n4             no              4.00     male         yes             adopted   \n...          ...               ...      ...         ...                 ...   \n109116       yes              0.08  unknown     unknown         non-adopted   \n109117        no              3.00     male          no             adopted   \n109118       yes              0.17     male         yes             adopted   \n109119        no              1.00     male         yes             adopted   \n109120       yes              0.92     male         yes             adopted   \n\n        Days_in_shelter  \n0                   4.0  \n1                   0.0  \n2                   6.0  \n3                   0.0  \n4                   2.0  \n...                 ...  \n109116              0.0  \n109117              0.0  \n109118              0.0  \n109119              5.0  \n109120             53.0  \n\n[109121 rows x 10 columns]",
      "text/html": "<div>\n<style scoped>\n    .dataframe tbody tr th:only-of-type {\n        vertical-align: middle;\n    }\n\n    .dataframe tbody tr th {\n        vertical-align: top;\n    }\n\n    .dataframe thead th {\n        text-align: right;\n    }\n</style>\n<table border=\"1\" class=\"dataframe\">\n  <thead>\n    <tr style=\"text-align: right;\">\n      <th></th>\n      <th>Intake_type</th>\n      <th>Intake_Condition</th>\n      <th>Animal_Type</th>\n      <th>Age_upon_Intake</th>\n      <th>Mix_Breed</th>\n      <th>Age_upon_Outcome</th>\n      <th>Sex</th>\n      <th>neuter/spay</th>\n      <th>adopted/non-adopted</th>\n      <th>Days_in_shelter</th>\n    </tr>\n  </thead>\n  <tbody>\n    <tr>\n      <th>0</th>\n      <td>stray</td>\n      <td>normal</td>\n      <td>dog</td>\n      <td>2.000000</td>\n      <td>yes</td>\n      <td>2.00</td>\n      <td>male</td>\n      <td>yes</td>\n      <td>non-adopted</td>\n      <td>4.0</td>\n    </tr>\n    <tr>\n      <th>1</th>\n      <td>stray</td>\n      <td>normal</td>\n      <td>dog</td>\n      <td>8.000000</td>\n      <td>no</td>\n      <td>8.00</td>\n      <td>female</td>\n      <td>yes</td>\n      <td>adopted</td>\n      <td>0.0</td>\n    </tr>\n    <tr>\n      <th>2</th>\n      <td>stray</td>\n      <td>normal</td>\n      <td>dog</td>\n      <td>0.916667</td>\n      <td>yes</td>\n      <td>1.00</td>\n      <td>male</td>\n      <td>yes</td>\n      <td>adopted</td>\n      <td>6.0</td>\n    </tr>\n    <tr>\n      <th>3</th>\n      <td>stray</td>\n      <td>sick</td>\n      <td>cat</td>\n      <td>0.076660</td>\n      <td>yes</td>\n      <td>0.08</td>\n      <td>female</td>\n      <td>no</td>\n      <td>non-adopted</td>\n      <td>0.0</td>\n    </tr>\n    <tr>\n      <th>4</th>\n      <td>stray</td>\n      <td>normal</td>\n      <td>dog</td>\n      <td>4.000000</td>\n      <td>no</td>\n      <td>4.00</td>\n      <td>male</td>\n      <td>yes</td>\n      <td>adopted</td>\n      <td>2.0</td>\n    </tr>\n    <tr>\n      <th>...</th>\n      <td>...</td>\n      <td>...</td>\n      <td>...</td>\n      <td>...</td>\n      <td>...</td>\n      <td>...</td>\n      <td>...</td>\n      <td>...</td>\n      <td>...</td>\n      <td>...</td>\n    </tr>\n    <tr>\n      <th>109116</th>\n      <td>owner surrender</td>\n      <td>normal</td>\n      <td>dog</td>\n      <td>0.083333</td>\n      <td>yes</td>\n      <td>0.08</td>\n      <td>unknown</td>\n      <td>unknown</td>\n      <td>non-adopted</td>\n      <td>0.0</td>\n    </tr>\n    <tr>\n      <th>109117</th>\n      <td>stray</td>\n      <td>normal</td>\n      <td>dog</td>\n      <td>3.000000</td>\n      <td>no</td>\n      <td>3.00</td>\n      <td>male</td>\n      <td>no</td>\n      <td>adopted</td>\n      <td>0.0</td>\n    </tr>\n    <tr>\n      <th>109118</th>\n      <td>owner surrender</td>\n      <td>normal</td>\n      <td>dog</td>\n      <td>0.083333</td>\n      <td>yes</td>\n      <td>0.17</td>\n      <td>male</td>\n      <td>yes</td>\n      <td>adopted</td>\n      <td>0.0</td>\n    </tr>\n    <tr>\n      <th>109119</th>\n      <td>stray</td>\n      <td>normal</td>\n      <td>dog</td>\n      <td>1.000000</td>\n      <td>no</td>\n      <td>1.00</td>\n      <td>male</td>\n      <td>yes</td>\n      <td>adopted</td>\n      <td>5.0</td>\n    </tr>\n    <tr>\n      <th>109120</th>\n      <td>stray</td>\n      <td>normal</td>\n      <td>dog</td>\n      <td>0.833333</td>\n      <td>yes</td>\n      <td>0.92</td>\n      <td>male</td>\n      <td>yes</td>\n      <td>adopted</td>\n      <td>53.0</td>\n    </tr>\n  </tbody>\n</table>\n<p>109121 rows × 10 columns</p>\n</div>"
     },
     "execution_count": 219,
     "metadata": {},
     "output_type": "execute_result"
    }
   ],
   "source": [
    "# Split and features selected\n",
    "\n",
    "not_selected =['Unnamed: 0', 'Animal_ID', 'Name', 'DateTime_Intake', 'Found_Location',\n",
    "                'Primary_Breed', 'Secondary_Breed', 'Main_Color',\n",
    "               'Secondary_Color', 'DateTime_Outcome', 'Date of Birth',\n",
    "                 'Location',\n",
    "               'Breed_size', 'Trainability',\n",
    "               'Breed_characteristic', 'Barking_level',\n",
    "               'breed_group',\n",
    "               'Outcome_Type','Outcome_Subtype',\n",
    "               'activity_level']\n",
    "df_total2 = df_total2.drop(not_selected, 1)\n",
    "df_total2"
   ],
   "metadata": {
    "collapsed": false,
    "pycharm": {
     "name": "#%%\n"
    }
   }
  },
  {
   "cell_type": "markdown",
   "source": [
    "# Individual test afterward"
   ],
   "metadata": {
    "collapsed": false
   }
  },
  {
   "cell_type": "code",
   "execution_count": 220,
   "outputs": [
    {
     "data": {
      "text/plain": "            Intake_type Intake_Condition Animal_Type  Age_upon_Intake  \\\n0                 stray           normal         dog         2.000000   \n1                 stray           normal         dog         8.000000   \n2                 stray           normal         dog         0.916667   \n3                 stray             sick         cat         0.076660   \n4                 stray           normal         dog         4.000000   \n...                 ...              ...         ...              ...   \n109116  owner surrender           normal         dog         0.083333   \n109117            stray           normal         dog         3.000000   \n109118  owner surrender           normal         dog         0.083333   \n109119            stray           normal         dog         1.000000   \n109120            stray           normal         dog         0.833333   \n\n       Mix_Breed  Age_upon_Outcome      Sex neuter/spay adopted/non-adopted  \\\n0            yes              2.00     male         yes         non-adopted   \n1             no              8.00   female         yes             adopted   \n2            yes              1.00     male         yes             adopted   \n3            yes              0.08   female          no         non-adopted   \n4             no              4.00     male         yes             adopted   \n...          ...               ...      ...         ...                 ...   \n109116       yes              0.08  unknown     unknown         non-adopted   \n109117        no              3.00     male          no             adopted   \n109118       yes              0.17     male         yes             adopted   \n109119        no              1.00     male         yes             adopted   \n109120       yes              0.92     male         yes             adopted   \n\n        Days_in_shelter  \n0                   4.0  \n1                   0.0  \n2                   6.0  \n3                   0.0  \n4                   2.0  \n...                 ...  \n109116              0.0  \n109117              0.0  \n109118              0.0  \n109119              5.0  \n109120             53.0  \n\n[109121 rows x 10 columns]",
      "text/html": "<div>\n<style scoped>\n    .dataframe tbody tr th:only-of-type {\n        vertical-align: middle;\n    }\n\n    .dataframe tbody tr th {\n        vertical-align: top;\n    }\n\n    .dataframe thead th {\n        text-align: right;\n    }\n</style>\n<table border=\"1\" class=\"dataframe\">\n  <thead>\n    <tr style=\"text-align: right;\">\n      <th></th>\n      <th>Intake_type</th>\n      <th>Intake_Condition</th>\n      <th>Animal_Type</th>\n      <th>Age_upon_Intake</th>\n      <th>Mix_Breed</th>\n      <th>Age_upon_Outcome</th>\n      <th>Sex</th>\n      <th>neuter/spay</th>\n      <th>adopted/non-adopted</th>\n      <th>Days_in_shelter</th>\n    </tr>\n  </thead>\n  <tbody>\n    <tr>\n      <th>0</th>\n      <td>stray</td>\n      <td>normal</td>\n      <td>dog</td>\n      <td>2.000000</td>\n      <td>yes</td>\n      <td>2.00</td>\n      <td>male</td>\n      <td>yes</td>\n      <td>non-adopted</td>\n      <td>4.0</td>\n    </tr>\n    <tr>\n      <th>1</th>\n      <td>stray</td>\n      <td>normal</td>\n      <td>dog</td>\n      <td>8.000000</td>\n      <td>no</td>\n      <td>8.00</td>\n      <td>female</td>\n      <td>yes</td>\n      <td>adopted</td>\n      <td>0.0</td>\n    </tr>\n    <tr>\n      <th>2</th>\n      <td>stray</td>\n      <td>normal</td>\n      <td>dog</td>\n      <td>0.916667</td>\n      <td>yes</td>\n      <td>1.00</td>\n      <td>male</td>\n      <td>yes</td>\n      <td>adopted</td>\n      <td>6.0</td>\n    </tr>\n    <tr>\n      <th>3</th>\n      <td>stray</td>\n      <td>sick</td>\n      <td>cat</td>\n      <td>0.076660</td>\n      <td>yes</td>\n      <td>0.08</td>\n      <td>female</td>\n      <td>no</td>\n      <td>non-adopted</td>\n      <td>0.0</td>\n    </tr>\n    <tr>\n      <th>4</th>\n      <td>stray</td>\n      <td>normal</td>\n      <td>dog</td>\n      <td>4.000000</td>\n      <td>no</td>\n      <td>4.00</td>\n      <td>male</td>\n      <td>yes</td>\n      <td>adopted</td>\n      <td>2.0</td>\n    </tr>\n    <tr>\n      <th>...</th>\n      <td>...</td>\n      <td>...</td>\n      <td>...</td>\n      <td>...</td>\n      <td>...</td>\n      <td>...</td>\n      <td>...</td>\n      <td>...</td>\n      <td>...</td>\n      <td>...</td>\n    </tr>\n    <tr>\n      <th>109116</th>\n      <td>owner surrender</td>\n      <td>normal</td>\n      <td>dog</td>\n      <td>0.083333</td>\n      <td>yes</td>\n      <td>0.08</td>\n      <td>unknown</td>\n      <td>unknown</td>\n      <td>non-adopted</td>\n      <td>0.0</td>\n    </tr>\n    <tr>\n      <th>109117</th>\n      <td>stray</td>\n      <td>normal</td>\n      <td>dog</td>\n      <td>3.000000</td>\n      <td>no</td>\n      <td>3.00</td>\n      <td>male</td>\n      <td>no</td>\n      <td>adopted</td>\n      <td>0.0</td>\n    </tr>\n    <tr>\n      <th>109118</th>\n      <td>owner surrender</td>\n      <td>normal</td>\n      <td>dog</td>\n      <td>0.083333</td>\n      <td>yes</td>\n      <td>0.17</td>\n      <td>male</td>\n      <td>yes</td>\n      <td>adopted</td>\n      <td>0.0</td>\n    </tr>\n    <tr>\n      <th>109119</th>\n      <td>stray</td>\n      <td>normal</td>\n      <td>dog</td>\n      <td>1.000000</td>\n      <td>no</td>\n      <td>1.00</td>\n      <td>male</td>\n      <td>yes</td>\n      <td>adopted</td>\n      <td>5.0</td>\n    </tr>\n    <tr>\n      <th>109120</th>\n      <td>stray</td>\n      <td>normal</td>\n      <td>dog</td>\n      <td>0.833333</td>\n      <td>yes</td>\n      <td>0.92</td>\n      <td>male</td>\n      <td>yes</td>\n      <td>adopted</td>\n      <td>53.0</td>\n    </tr>\n  </tbody>\n</table>\n<p>109121 rows × 10 columns</p>\n</div>"
     },
     "execution_count": 220,
     "metadata": {},
     "output_type": "execute_result"
    }
   ],
   "source": [
    "df_total3 = df_total2\n",
    "df_total3"
   ],
   "metadata": {
    "collapsed": false,
    "pycharm": {
     "name": "#%%\n"
    }
   }
  },
  {
   "cell_type": "markdown",
   "source": [
    "# labeling (features selected)"
   ],
   "metadata": {
    "collapsed": false
   }
  },
  {
   "cell_type": "code",
   "execution_count": 221,
   "outputs": [
    {
     "data": {
      "text/plain": "        Intake_type  Intake_Condition  Animal_Type  Age_upon_Intake  \\\n0                 4                 5            2               18   \n1                 4                 5            2               24   \n2                 4                 5            2               16   \n3                 4                 9            1                4   \n4                 4                 5            2               20   \n...             ...               ...          ...              ...   \n109116            2                 5            2                5   \n109117            4                 5            2               19   \n109118            2                 5            2                5   \n109119            4                 5            2               17   \n109120            4                 5            2               15   \n\n        Mix_Breed  Age_upon_Outcome  Sex  neuter/spay  adopted/non-adopted  \\\n0               1                17    1            2                    1   \n1               0                23    0            2                    0   \n2               1                16    1            2                    0   \n3               1                 4    0            0                    1   \n4               0                19    1            2                    0   \n...           ...               ...  ...          ...                  ...   \n109116          1                 4    2            1                    1   \n109117          0                18    1            0                    0   \n109118          1                 6    1            2                    0   \n109119          0                16    1            2                    0   \n109120          1                15    1            2                    0   \n\n        Days_in_shelter  \n0                     4  \n1                     0  \n2                     6  \n3                     0  \n4                     2  \n...                 ...  \n109116                0  \n109117                0  \n109118                0  \n109119                5  \n109120               53  \n\n[109121 rows x 10 columns]",
      "text/html": "<div>\n<style scoped>\n    .dataframe tbody tr th:only-of-type {\n        vertical-align: middle;\n    }\n\n    .dataframe tbody tr th {\n        vertical-align: top;\n    }\n\n    .dataframe thead th {\n        text-align: right;\n    }\n</style>\n<table border=\"1\" class=\"dataframe\">\n  <thead>\n    <tr style=\"text-align: right;\">\n      <th></th>\n      <th>Intake_type</th>\n      <th>Intake_Condition</th>\n      <th>Animal_Type</th>\n      <th>Age_upon_Intake</th>\n      <th>Mix_Breed</th>\n      <th>Age_upon_Outcome</th>\n      <th>Sex</th>\n      <th>neuter/spay</th>\n      <th>adopted/non-adopted</th>\n      <th>Days_in_shelter</th>\n    </tr>\n  </thead>\n  <tbody>\n    <tr>\n      <th>0</th>\n      <td>4</td>\n      <td>5</td>\n      <td>2</td>\n      <td>18</td>\n      <td>1</td>\n      <td>17</td>\n      <td>1</td>\n      <td>2</td>\n      <td>1</td>\n      <td>4</td>\n    </tr>\n    <tr>\n      <th>1</th>\n      <td>4</td>\n      <td>5</td>\n      <td>2</td>\n      <td>24</td>\n      <td>0</td>\n      <td>23</td>\n      <td>0</td>\n      <td>2</td>\n      <td>0</td>\n      <td>0</td>\n    </tr>\n    <tr>\n      <th>2</th>\n      <td>4</td>\n      <td>5</td>\n      <td>2</td>\n      <td>16</td>\n      <td>1</td>\n      <td>16</td>\n      <td>1</td>\n      <td>2</td>\n      <td>0</td>\n      <td>6</td>\n    </tr>\n    <tr>\n      <th>3</th>\n      <td>4</td>\n      <td>9</td>\n      <td>1</td>\n      <td>4</td>\n      <td>1</td>\n      <td>4</td>\n      <td>0</td>\n      <td>0</td>\n      <td>1</td>\n      <td>0</td>\n    </tr>\n    <tr>\n      <th>4</th>\n      <td>4</td>\n      <td>5</td>\n      <td>2</td>\n      <td>20</td>\n      <td>0</td>\n      <td>19</td>\n      <td>1</td>\n      <td>2</td>\n      <td>0</td>\n      <td>2</td>\n    </tr>\n    <tr>\n      <th>...</th>\n      <td>...</td>\n      <td>...</td>\n      <td>...</td>\n      <td>...</td>\n      <td>...</td>\n      <td>...</td>\n      <td>...</td>\n      <td>...</td>\n      <td>...</td>\n      <td>...</td>\n    </tr>\n    <tr>\n      <th>109116</th>\n      <td>2</td>\n      <td>5</td>\n      <td>2</td>\n      <td>5</td>\n      <td>1</td>\n      <td>4</td>\n      <td>2</td>\n      <td>1</td>\n      <td>1</td>\n      <td>0</td>\n    </tr>\n    <tr>\n      <th>109117</th>\n      <td>4</td>\n      <td>5</td>\n      <td>2</td>\n      <td>19</td>\n      <td>0</td>\n      <td>18</td>\n      <td>1</td>\n      <td>0</td>\n      <td>0</td>\n      <td>0</td>\n    </tr>\n    <tr>\n      <th>109118</th>\n      <td>2</td>\n      <td>5</td>\n      <td>2</td>\n      <td>5</td>\n      <td>1</td>\n      <td>6</td>\n      <td>1</td>\n      <td>2</td>\n      <td>0</td>\n      <td>0</td>\n    </tr>\n    <tr>\n      <th>109119</th>\n      <td>4</td>\n      <td>5</td>\n      <td>2</td>\n      <td>17</td>\n      <td>0</td>\n      <td>16</td>\n      <td>1</td>\n      <td>2</td>\n      <td>0</td>\n      <td>5</td>\n    </tr>\n    <tr>\n      <th>109120</th>\n      <td>4</td>\n      <td>5</td>\n      <td>2</td>\n      <td>15</td>\n      <td>1</td>\n      <td>15</td>\n      <td>1</td>\n      <td>2</td>\n      <td>0</td>\n      <td>53</td>\n    </tr>\n  </tbody>\n</table>\n<p>109121 rows × 10 columns</p>\n</div>"
     },
     "execution_count": 221,
     "metadata": {},
     "output_type": "execute_result"
    }
   ],
   "source": [
    "from sklearn.preprocessing import LabelEncoder\n",
    "\n",
    "# creating instance of labelencoder\n",
    "labelencoder = LabelEncoder()\n",
    "\n",
    "# Assigning numerical values and storing in another column\n",
    "for i in df_total2.columns:\n",
    "    df_total2[i] = labelencoder.fit_transform(df_total2[i])\n",
    "\n",
    "#df_total2 = df_cat.join(df_num)\n",
    "df_total2"
   ],
   "metadata": {
    "collapsed": false,
    "pycharm": {
     "name": "#%%\n"
    }
   }
  },
  {
   "cell_type": "markdown",
   "source": [
    "# Cleaning (features selection)"
   ],
   "metadata": {
    "collapsed": false
   }
  },
  {
   "cell_type": "code",
   "execution_count": 222,
   "outputs": [
    {
     "data": {
      "text/plain": "array([1, 0, 2])"
     },
     "execution_count": 222,
     "metadata": {},
     "output_type": "execute_result"
    }
   ],
   "source": [
    "df_total2['adopted/non-adopted'].unique()\n",
    "\n",
    "# unknown value is found in 21 rows"
   ],
   "metadata": {
    "collapsed": false,
    "pycharm": {
     "name": "#%%\n"
    }
   }
  },
  {
   "cell_type": "code",
   "execution_count": 223,
   "outputs": [
    {
     "data": {
      "text/plain": "Int64Index([ 13869,  29677,  31621,  31898,  32860,  39609,  48814,  52620,\n             54235,  57107,  72673,  74858,  75612,  79431,  90548,  93543,\n             93795,  95675, 100101, 103241, 108841],\n           dtype='int64')"
     },
     "execution_count": 223,
     "metadata": {},
     "output_type": "execute_result"
    }
   ],
   "source": [
    "index_names2 = df_total2[df_total2['adopted/non-adopted'] == 2 ].index\n",
    "index_names2"
   ],
   "metadata": {
    "collapsed": false,
    "pycharm": {
     "name": "#%%\n"
    }
   }
  },
  {
   "cell_type": "code",
   "execution_count": 224,
   "outputs": [],
   "source": [
    "df_total2.drop(index_names, inplace=True)"
   ],
   "metadata": {
    "collapsed": false,
    "pycharm": {
     "name": "#%%\n"
    }
   }
  },
  {
   "cell_type": "code",
   "execution_count": 225,
   "outputs": [
    {
     "data": {
      "text/plain": "array([1, 0])"
     },
     "execution_count": 225,
     "metadata": {},
     "output_type": "execute_result"
    }
   ],
   "source": [
    "df_total2['adopted/non-adopted'].unique()"
   ],
   "metadata": {
    "collapsed": false,
    "pycharm": {
     "name": "#%%\n"
    }
   }
  },
  {
   "cell_type": "markdown",
   "source": [
    "# split (features selected)"
   ],
   "metadata": {
    "collapsed": false
   }
  },
  {
   "cell_type": "code",
   "execution_count": 226,
   "outputs": [
    {
     "name": "stderr",
     "output_type": "stream",
     "text": [
      "C:\\Users\\diedr\\AppData\\Local\\Temp\\ipykernel_15424\\23033182.py:3: FutureWarning: In a future version of pandas all arguments of DataFrame.drop except for the argument 'labels' will be keyword-only.\n",
      "  X2 = df_total2.drop('adopted/non-adopted', 1)\n"
     ]
    },
    {
     "data": {
      "text/plain": "   Intake_type  Intake_Condition  Animal_Type  Age_upon_Intake  Mix_Breed  \\\n0            4                 5            2               18          1   \n1            4                 5            2               24          0   \n2            4                 5            2               16          1   \n3            4                 9            1                4          1   \n4            4                 5            2               20          0   \n\n   Age_upon_Outcome  Sex  neuter/spay  Days_in_shelter  \n0                17    1            2                4  \n1                23    0            2                0  \n2                16    1            2                6  \n3                 4    0            0                0  \n4                19    1            2                2  ",
      "text/html": "<div>\n<style scoped>\n    .dataframe tbody tr th:only-of-type {\n        vertical-align: middle;\n    }\n\n    .dataframe tbody tr th {\n        vertical-align: top;\n    }\n\n    .dataframe thead th {\n        text-align: right;\n    }\n</style>\n<table border=\"1\" class=\"dataframe\">\n  <thead>\n    <tr style=\"text-align: right;\">\n      <th></th>\n      <th>Intake_type</th>\n      <th>Intake_Condition</th>\n      <th>Animal_Type</th>\n      <th>Age_upon_Intake</th>\n      <th>Mix_Breed</th>\n      <th>Age_upon_Outcome</th>\n      <th>Sex</th>\n      <th>neuter/spay</th>\n      <th>Days_in_shelter</th>\n    </tr>\n  </thead>\n  <tbody>\n    <tr>\n      <th>0</th>\n      <td>4</td>\n      <td>5</td>\n      <td>2</td>\n      <td>18</td>\n      <td>1</td>\n      <td>17</td>\n      <td>1</td>\n      <td>2</td>\n      <td>4</td>\n    </tr>\n    <tr>\n      <th>1</th>\n      <td>4</td>\n      <td>5</td>\n      <td>2</td>\n      <td>24</td>\n      <td>0</td>\n      <td>23</td>\n      <td>0</td>\n      <td>2</td>\n      <td>0</td>\n    </tr>\n    <tr>\n      <th>2</th>\n      <td>4</td>\n      <td>5</td>\n      <td>2</td>\n      <td>16</td>\n      <td>1</td>\n      <td>16</td>\n      <td>1</td>\n      <td>2</td>\n      <td>6</td>\n    </tr>\n    <tr>\n      <th>3</th>\n      <td>4</td>\n      <td>9</td>\n      <td>1</td>\n      <td>4</td>\n      <td>1</td>\n      <td>4</td>\n      <td>0</td>\n      <td>0</td>\n      <td>0</td>\n    </tr>\n    <tr>\n      <th>4</th>\n      <td>4</td>\n      <td>5</td>\n      <td>2</td>\n      <td>20</td>\n      <td>0</td>\n      <td>19</td>\n      <td>1</td>\n      <td>2</td>\n      <td>2</td>\n    </tr>\n  </tbody>\n</table>\n</div>"
     },
     "execution_count": 226,
     "metadata": {},
     "output_type": "execute_result"
    }
   ],
   "source": [
    "# Split\n",
    "\n",
    "X2 = df_total2.drop('adopted/non-adopted', 1)\n",
    "y2 = df_total2['adopted/non-adopted']\n",
    "X2.head()"
   ],
   "metadata": {
    "collapsed": false,
    "pycharm": {
     "name": "#%%\n"
    }
   }
  },
  {
   "cell_type": "code",
   "execution_count": 227,
   "outputs": [],
   "source": [
    "from sklearn.model_selection import train_test_split\n",
    "\n",
    "X_train2, X_test2, y_train2, y_test2 = train_test_split(X2, y2, test_size=0.20, random_state=0)"
   ],
   "metadata": {
    "collapsed": false,
    "pycharm": {
     "name": "#%%\n"
    }
   }
  },
  {
   "cell_type": "markdown",
   "source": [
    "# Balancing (features selected)"
   ],
   "metadata": {
    "collapsed": false
   }
  },
  {
   "cell_type": "code",
   "execution_count": 228,
   "outputs": [
    {
     "data": {
      "text/plain": "76807    1\n43782    0\n14176    0\n31617    1\n66545    0\n        ..\n21244    0\n45897    1\n42619    0\n43573    1\n68278    1\nName: adopted/non-adopted, Length: 87280, dtype: int32"
     },
     "execution_count": 228,
     "metadata": {},
     "output_type": "execute_result"
    }
   ],
   "source": [
    "y_train2"
   ],
   "metadata": {
    "collapsed": false,
    "pycharm": {
     "name": "#%%\n"
    }
   }
  },
  {
   "cell_type": "code",
   "execution_count": 229,
   "outputs": [
    {
     "data": {
      "text/plain": "0    51559\n1    35721\nName: adopted/non-adopted, dtype: int64"
     },
     "execution_count": 229,
     "metadata": {},
     "output_type": "execute_result"
    }
   ],
   "source": [
    "y_train2.value_counts()"
   ],
   "metadata": {
    "collapsed": false,
    "pycharm": {
     "name": "#%%\n"
    }
   }
  },
  {
   "cell_type": "code",
   "execution_count": 230,
   "outputs": [
    {
     "data": {
      "text/plain": "0    64338\n1    44762\nName: adopted/non-adopted, dtype: int64"
     },
     "execution_count": 230,
     "metadata": {},
     "output_type": "execute_result"
    }
   ],
   "source": [
    "y2.value_counts()"
   ],
   "metadata": {
    "collapsed": false,
    "pycharm": {
     "name": "#%%\n"
    }
   }
  },
  {
   "cell_type": "code",
   "execution_count": 231,
   "outputs": [],
   "source": [
    "from imblearn.datasets import make_imbalance\n",
    "\n",
    "X_train2, y_train2 = make_imbalance(X_train2, y_train2, sampling_strategy={0: 30000, 1: 30000},random_state=14)\n",
    "\n",
    "# It was set to 30000 because of the non-adopted value:1 in y_train"
   ],
   "metadata": {
    "collapsed": false,
    "pycharm": {
     "name": "#%%\n"
    }
   }
  },
  {
   "cell_type": "code",
   "execution_count": 232,
   "outputs": [
    {
     "data": {
      "text/plain": "<Figure size 432x288 with 1 Axes>",
      "image/png": "[encoded data removed]"
     },
     "metadata": {
      "needs_background": "light"
     },
     "output_type": "display_data"
    }
   ],
   "source": [
    "y_train.value_counts().plot(kind='bar')\n",
    "plt.title('label balance (undersample)')\n",
    "plt.xlabel('adopted or non-adopted')\n",
    "plt.ylabel('amount per label')\n",
    "plt.show()"
   ],
   "metadata": {
    "collapsed": false,
    "pycharm": {
     "name": "#%%\n"
    }
   }
  },
  {
   "cell_type": "markdown",
   "source": [
    "# Model"
   ],
   "metadata": {
    "collapsed": false
   }
  },
  {
   "cell_type": "code",
   "execution_count": 233,
   "outputs": [],
   "source": [
    "from sklearn.preprocessing import StandardScaler\n",
    "sc = StandardScaler()\n",
    "X_train2 = sc.fit_transform(X_train2)\n",
    "X_test2 = sc.transform(X_test2)"
   ],
   "metadata": {
    "collapsed": false,
    "pycharm": {
     "name": "#%%\n"
    }
   }
  },
  {
   "cell_type": "code",
   "execution_count": 234,
   "outputs": [
    {
     "data": {
      "text/plain": "KNeighborsClassifier(n_neighbors=4)"
     },
     "execution_count": 234,
     "metadata": {},
     "output_type": "execute_result"
    }
   ],
   "source": [
    "from sklearn.neighbors import KNeighborsClassifier\n",
    "classifier = KNeighborsClassifier(n_neighbors = 4, metric = 'minkowski', p = 2)\n",
    "classifier.fit(X_train2, y_train2)"
   ],
   "metadata": {
    "collapsed": false,
    "pycharm": {
     "name": "#%%\n"
    }
   }
  },
  {
   "cell_type": "code",
   "execution_count": 235,
   "outputs": [],
   "source": [
    "y_pred2 = classifier.predict(X_test2)"
   ],
   "metadata": {
    "collapsed": false,
    "pycharm": {
     "name": "#%%\n"
    }
   }
  },
  {
   "cell_type": "code",
   "execution_count": 236,
   "outputs": [
    {
     "data": {
      "text/plain": "array([[11904,   875],\n       [ 2989,  6052]], dtype=int64)"
     },
     "execution_count": 236,
     "metadata": {},
     "output_type": "execute_result"
    }
   ],
   "source": [
    "from sklearn.metrics import confusion_matrix,accuracy_score\n",
    "cm2 = confusion_matrix(y_test2, y_pred2)\n",
    "ac2 = accuracy_score(y_test2,y_pred2)\n",
    "cm2"
   ],
   "metadata": {
    "collapsed": false,
    "pycharm": {
     "name": "#%%\n"
    }
   }
  },
  {
   "cell_type": "code",
   "execution_count": 237,
   "outputs": [
    {
     "name": "stdout",
     "output_type": "stream",
     "text": [
      "Accuracy: 0.8229147571035748\n"
     ]
    }
   ],
   "source": [
    "print('Accuracy:', ac2)"
   ],
   "metadata": {
    "collapsed": false,
    "pycharm": {
     "name": "#%%\n"
    }
   }
  },
  {
   "cell_type": "markdown",
   "source": [
    "# K-fold cross validation"
   ],
   "metadata": {
    "collapsed": false
   }
  },
  {
   "cell_type": "code",
   "source": [
    "# prepare the cross-validation procedure\n",
    "cv = RepeatedKFold(n_splits=10, n_repeats=3, random_state=1)\n",
    "# create model\n",
    "#model = LogisticRegression()\n",
    "model = KNeighborsClassifier(n_neighbors = 4, metric = 'minkowski', p = 2)\n",
    "# evaluate model\n",
    "scores = cross_val_score(model, X_test2, y_test2, scoring='accuracy', cv=cv, n_jobs=-1)\n",
    "# report performance\n",
    "print('Accuracy: %.3f (%.3f)' % (mean(scores), std(scores)))"
   ],
   "metadata": {
    "collapsed": false,
    "pycharm": {
     "name": "#%%\n"
    }
   },
   "execution_count": 238,
   "outputs": [
    {
     "name": "stdout",
     "output_type": "stream",
     "text": [
      "Accuracy: 0.832 (0.008)\n"
     ]
    }
   ]
  },
  {
   "cell_type": "code",
   "execution_count": 239,
   "outputs": [
    {
     "name": "stdout",
     "output_type": "stream",
     "text": [
      "              precision    recall  f1-score   support\n",
      "\n",
      "           0       0.80      0.93      0.86     12779\n",
      "           1       0.87      0.67      0.76      9041\n",
      "\n",
      "    accuracy                           0.82     21820\n",
      "   macro avg       0.84      0.80      0.81     21820\n",
      "weighted avg       0.83      0.82      0.82     21820\n",
      "\n"
     ]
    }
   ],
   "source": [
    "from sklearn.metrics import classification_report\n",
    "\n",
    "report2 = classification_report(y_test2, y_pred2)\n",
    "print(report2)"
   ],
   "metadata": {
    "collapsed": false,
    "pycharm": {
     "name": "#%%\n"
    }
   }
  },
  {
   "cell_type": "code",
   "execution_count": 240,
   "outputs": [
    {
     "name": "stdout",
     "output_type": "stream",
     "text": [
      "Logloss: -1.752 (0.177)\n"
     ]
    }
   ],
   "source": [
    "# Cross Validation Classification LogLoss\n",
    "import pandas\n",
    "from sklearn import model_selection\n",
    "\n",
    "kfold = model_selection.KFold(n_splits=10, random_state=7, shuffle=True)\n",
    "model = KNeighborsClassifier(n_neighbors = 5, metric = 'minkowski', p = 2)\n",
    "scoring = 'neg_log_loss'\n",
    "results2 = model_selection.cross_val_score(model, X_test2, y_test2, cv=kfold, scoring=scoring)\n",
    "print(\"Logloss: %.3f (%.3f)\" % (results2.mean(), results2.std()))"
   ],
   "metadata": {
    "collapsed": false,
    "pycharm": {
     "name": "#%%\n"
    }
   }
  },
  {
   "cell_type": "code",
   "execution_count": 241,
   "outputs": [
    {
     "name": "stdout",
     "output_type": "stream",
     "text": [
      "Total runtime of the program is 6.921505928039551\n"
     ]
    }
   ],
   "source": [
    "# program body ends\n",
    "\n",
    "# store end time\n",
    "end2 = time.time()\n",
    "\n",
    "# total time taken\n",
    "print(f\"Total runtime of the program is {end2 - begin2}\")"
   ],
   "metadata": {
    "collapsed": false,
    "pycharm": {
     "name": "#%%\n"
    }
   }
  },
  {
   "cell_type": "markdown",
   "source": [
    "# Individual test"
   ],
   "metadata": {
    "collapsed": false,
    "pycharm": {
     "name": "#%% md\n"
    }
   }
  },
  {
   "cell_type": "markdown",
   "source": [
    "intake type:\n",
    "4 = stray\n",
    "\n",
    "intake condition\n",
    "5 = normal\n",
    "\n",
    "animal type\n",
    "2 = dog\n",
    "\n",
    "age intake\n",
    "18 = 2 years\n",
    "\n",
    "mix\n",
    "1 = yes\n",
    "\n",
    "age outcome\n",
    "17 = 2 years plus something\n",
    "\n",
    "sex\n",
    "1 = male\n",
    "\n",
    "neuter\n",
    "\n",
    "2 = yes\n",
    "0 = no\n",
    "\n",
    "day in shelter\n",
    "integral number 4.00 --> 4"
   ],
   "metadata": {
    "collapsed": false
   }
  },
  {
   "cell_type": "markdown",
   "source": [
    "https://stackoverflow.com/questions/58217005/how-to-reverse-label-encoder-from-sklearn-for-multiple-columns"
   ],
   "metadata": {
    "collapsed": false
   }
  },
  {
   "cell_type": "code",
   "execution_count": 242,
   "outputs": [
    {
     "name": "stdout",
     "output_type": "stream",
     "text": [
      "<class 'pandas.core.frame.DataFrame'>\n",
      "RangeIndex: 109121 entries, 0 to 109120\n",
      "Data columns (total 30 columns):\n",
      " #   Column                Non-Null Count   Dtype   \n",
      "---  ------                --------------   -----   \n",
      " 0   Unnamed: 0            109121 non-null  int64   \n",
      " 1   Animal_ID             109121 non-null  object  \n",
      " 2   Name                  109120 non-null  object  \n",
      " 3   DateTime_Intake       109121 non-null  object  \n",
      " 4   Found_Location        109121 non-null  object  \n",
      " 5   Intake_type           109121 non-null  category\n",
      " 6   Intake_Condition      109121 non-null  category\n",
      " 7   Animal_Type           109121 non-null  category\n",
      " 8   Age_upon_Intake       109121 non-null  float64 \n",
      " 9   Mix_Breed             109121 non-null  category\n",
      " 10  Primary_Breed         109121 non-null  category\n",
      " 11  Secondary_Breed       109121 non-null  category\n",
      " 12  Main_Color            109121 non-null  category\n",
      " 13  Secondary_Color       109121 non-null  category\n",
      " 14  DateTime_Outcome      109121 non-null  object  \n",
      " 15  Date of Birth         109121 non-null  object  \n",
      " 16  Outcome_Type          109121 non-null  object  \n",
      " 17  Outcome_Subtype       109121 non-null  object  \n",
      " 18  Age_upon_Outcome      109121 non-null  float64 \n",
      " 19  Location              109121 non-null  object  \n",
      " 20  Sex                   109121 non-null  category\n",
      " 21  neuter/spay           109121 non-null  category\n",
      " 22  adopted/non-adopted   109121 non-null  category\n",
      " 23  Days_in_shelter       109121 non-null  float64 \n",
      " 24  Breed_size            109121 non-null  category\n",
      " 25  Trainability          109121 non-null  category\n",
      " 26  Breed_characteristic  109121 non-null  category\n",
      " 27  Barking_level         109121 non-null  category\n",
      " 28  activity_level        109121 non-null  category\n",
      " 29  breed_group           109121 non-null  category\n",
      "dtypes: category(17), float64(3), int64(1), object(9)\n",
      "memory usage: 12.8+ MB\n"
     ]
    },
    {
     "name": "stderr",
     "output_type": "stream",
     "text": [
      "C:\\Users\\diedr\\AppData\\Local\\Temp\\ipykernel_15424\\3325880243.py:25: FutureWarning: In a future version of pandas all arguments of DataFrame.drop except for the argument 'labels' will be keyword-only.\n",
      "  df_total3 = df_total3.drop(not_selected, 1)\n",
      "C:\\Users\\diedr\\AppData\\Local\\Temp\\ipykernel_15424\\3325880243.py:61: FutureWarning: In a future version of pandas all arguments of DataFrame.drop except for the argument 'labels' will be keyword-only.\n",
      "  X3 = df_total3.drop('adopted/non-adopted', 1)\n"
     ]
    },
    {
     "data": {
      "text/plain": "<Figure size 432x288 with 1 Axes>",
      "image/png": "[encoded data removed]"
     },
     "metadata": {
      "needs_background": "light"
     },
     "output_type": "display_data"
    }
   ],
   "source": [
    "df_total3 = pd.read_csv('df_total1.csv')\n",
    "df_total3\n",
    "cols_num3 = ['Age_upon_Intake', 'Age_upon_Outcome', 'Days_in_shelter']\n",
    "cols_cat3 = ['Intake_type', 'Intake_Condition', 'Mix_Breed', 'Primary_Breed', 'Secondary_Breed', 'Main_Color',\n",
    "             'Secondary_Color', 'Sex', 'neuter/spay', 'Breed_size', 'Trainability', 'Breed_characteristic',\n",
    "             'Barking_level', 'activity_level', 'adopted/non-adopted', 'breed_group', 'Animal_Type']\n",
    "df_total3[cols_cat3] = df_total3[cols_cat3].astype('category')\n",
    "#col2 = ['DateTime_Intake','DateTime_Outcome','Date of Birth']\n",
    "#df_total[col2] = df_total[col2].astype('datetime64[ns]')\n",
    "df_total3.info()\n",
    "\n",
    "# modify cols_num and cols2 -> no datetime for now\n",
    "df_total3.columns\n",
    "# Split and features selected\n",
    "\n",
    "not_selected = ['Unnamed: 0', 'Animal_ID', 'Name', 'DateTime_Intake', 'Found_Location',\n",
    "                'Primary_Breed', 'Secondary_Breed', 'Main_Color',\n",
    "                'Secondary_Color', 'DateTime_Outcome', 'Date of Birth',\n",
    "                'Location',\n",
    "                'Breed_size', 'Trainability',\n",
    "                'Breed_characteristic', 'Barking_level',\n",
    "                'breed_group',\n",
    "                'Outcome_Type', 'Outcome_Subtype',\n",
    "                'activity_level']\n",
    "df_total3 = df_total3.drop(not_selected, 1)\n",
    "df_total3\n",
    "\n",
    "# labeling (features selected)\n",
    "from sklearn.preprocessing import LabelEncoder\n",
    "from sklearn import preprocessing\n",
    "\n",
    "# creating instance of labelencoder\n",
    "labelencoder = LabelEncoder()\n",
    "le = preprocessing.LabelEncoder()\n",
    "\n",
    "# Assigning numerical values and storing in another column\n",
    "#for i in df_total3.columns:\n",
    " #   df_total3[i] = le.fit_transform(df_total3[i])\n",
    "def fitting(z):\n",
    "    for i in z.columns: z[i] = le.fit_transform(z[i])\n",
    "\n",
    "fitting(df_total3)\n",
    "\n",
    "#le_fitted = le.fit_transform(df_total3)\n",
    "\n",
    "# change this line to continue line\n",
    "\n",
    "#df_total2 = df_cat.join(df_num)\n",
    "df_total3\n",
    "# Cleaning (features selection)\n",
    "df_total3['adopted/non-adopted'].unique()\n",
    "\n",
    "# unknown value is found in 21 rows\n",
    "index_names3 = df_total3[df_total3['adopted/non-adopted'] == 2].index\n",
    "index_names3\n",
    "df_total3.drop(index_names3, inplace=True)\n",
    "df_total3['adopted/non-adopted'].unique()\n",
    "# split (features selected)\n",
    "# Split\n",
    "\n",
    "X3 = df_total3.drop('adopted/non-adopted', 1)\n",
    "y3 = df_total3['adopted/non-adopted']\n",
    "X3.head()\n",
    "from sklearn.model_selection import train_test_split\n",
    "\n",
    "X_train3, X_test3, y_train3, y_test3 = train_test_split(X3, y3, test_size=0.20, random_state=0)\n",
    "# Balancing (features selected)\n",
    "y_train3\n",
    "y_train3.value_counts()\n",
    "y3.value_counts()\n",
    "from imblearn.datasets import make_imbalance\n",
    "\n",
    "X_train3, y_train3 = make_imbalance(X_train3, y_train3, sampling_strategy={0: 30000, 1: 30000}, random_state=14)\n",
    "\n",
    "# It was set to 30000 because of the non-adopted value:1 in y_train\n",
    "y_train3.value_counts().plot(kind='bar')\n",
    "plt.title('label balance (undersample)')\n",
    "plt.xlabel('adopted or non-adopted')\n",
    "plt.ylabel('amount per label')\n",
    "plt.show()\n",
    "# Model\n",
    "from sklearn.preprocessing import StandardScaler\n",
    "\n",
    "sc = StandardScaler()\n",
    "X_train3 = sc.fit_transform(X_train3)\n",
    "X_test3 = sc.transform(X_test3)\n"
   ],
   "metadata": {
    "collapsed": false,
    "pycharm": {
     "name": "#%%\n"
    }
   }
  },
  {
   "cell_type": "markdown",
   "source": [
    "X2 = df_total2.drop('adopted/non-adopted', 1)\n",
    "y2 = df_total2['adopted/non-adopted']\n",
    "print(X2.shape, y2.shape)"
   ],
   "metadata": {
    "collapsed": false,
    "pycharm": {
     "name": "#%% md\n"
    }
   }
  },
  {
   "cell_type": "markdown",
   "source": [
    "inverted = le.inverse_transform(np.array(fitting(df_total3)))\n",
    "inverted"
   ],
   "metadata": {
    "collapsed": false,
    "pycharm": {
     "name": "#%% md\n"
    }
   }
  },
  {
   "cell_type": "code",
   "execution_count": 243,
   "outputs": [
    {
     "name": "stdout",
     "output_type": "stream",
     "text": [
      "0.8658753437213565\n"
     ]
    }
   ],
   "source": [
    "# fit a logistic regression on the training dataset\n",
    "from sklearn.linear_model import LogisticRegression\n",
    "\n",
    "from sklearn.metrics import accuracy_score\n",
    "\n",
    "# define model\n",
    "model3 = KNeighborsClassifier(n_neighbors = 5, metric = 'minkowski', p = 2)\n",
    "# fit model\n",
    "model3.fit(X3, y3)\n",
    "# make predictions\n",
    "yhat = model3.predict(X3)\n",
    "# evaluate predictions\n",
    "acc = accuracy_score(y3, yhat)\n",
    "print(acc)"
   ],
   "metadata": {
    "collapsed": false,
    "pycharm": {
     "name": "#%%\n"
    }
   }
  },
  {
   "cell_type": "code",
   "execution_count": 244,
   "outputs": [
    {
     "data": {
      "text/plain": "Index(['Intake_type', 'Intake_Condition', 'Animal_Type', 'Age_upon_Intake',\n       'Mix_Breed', 'Age_upon_Outcome', 'Sex', 'neuter/spay',\n       'adopted/non-adopted', 'Days_in_shelter'],\n      dtype='object')"
     },
     "execution_count": 244,
     "metadata": {},
     "output_type": "execute_result"
    }
   ],
   "source": [
    "df_total2.columns"
   ],
   "metadata": {
    "collapsed": false,
    "pycharm": {
     "name": "#%%\n"
    }
   }
  },
  {
   "cell_type": "code",
   "execution_count": 245,
   "outputs": [
    {
     "data": {
      "text/plain": "array([4, 2, 3, 5, 1, 0])"
     },
     "execution_count": 245,
     "metadata": {},
     "output_type": "execute_result"
    }
   ],
   "source": [
    "df_total2['Intake_type'].unique()"
   ],
   "metadata": {
    "collapsed": false,
    "pycharm": {
     "name": "#%%\n"
    }
   }
  },
  {
   "cell_type": "code",
   "execution_count": 246,
   "outputs": [
    {
     "data": {
      "text/plain": "[4, 5, 2, 4, 1, 3, 1, 0, 50]"
     },
     "execution_count": 246,
     "metadata": {},
     "output_type": "execute_result"
    }
   ],
   "source": [
    "new_input = [4,5,2,18,1,17,1,0,1,30]\n",
    "\n",
    "[4,5,2,4,1,3,1,0,50]"
   ],
   "metadata": {
    "collapsed": false,
    "pycharm": {
     "name": "#%%\n"
    }
   }
  },
  {
   "cell_type": "code",
   "execution_count": 247,
   "outputs": [
    {
     "data": {
      "text/plain": "['Intake_type',\n 'Intake_Condition',\n 'Animal_Type',\n 'Age_upon_Intake',\n 'Mix_Breed',\n 'Age_upon_Outcome',\n 'Sex',\n 'neuter/spay',\n 'Days_in_shelter']"
     },
     "execution_count": 247,
     "metadata": {},
     "output_type": "execute_result"
    }
   ],
   "source": [
    "['Intake_type', 'Intake_Condition', 'Animal_Type', 'Age_upon_Intake',\n",
    " 'Mix_Breed', 'Age_upon_Outcome', 'Sex', 'neuter/spay',\n",
    " 'Days_in_shelter']"
   ],
   "metadata": {
    "collapsed": false,
    "pycharm": {
     "name": "#%%\n"
    }
   }
  },
  {
   "cell_type": "markdown",
   "source": [
    "from sklearn import preprocessing\n",
    "\n",
    "le = preprocessing.LabelEncoder()\n",
    "df = [\"paris\", \"paris\", \"tokyo\", \"amsterdam\"]\n",
    "\n",
    "le_fitted = le.fit_transform(df)\n",
    "\n",
    "inverted = le.inverse_transform(le_fitted)\n",
    "\n",
    "print(inverted)"
   ],
   "metadata": {
    "collapsed": false,
    "pycharm": {
     "name": "#%% md\n"
    }
   }
  },
  {
   "cell_type": "code",
   "execution_count": 248,
   "outputs": [
    {
     "data": {
      "text/plain": "   0  1  2   3  4   5  6  7   8\n0  4  5  2  24  1  24  1  0  50",
      "text/html": "<div>\n<style scoped>\n    .dataframe tbody tr th:only-of-type {\n        vertical-align: middle;\n    }\n\n    .dataframe tbody tr th {\n        vertical-align: top;\n    }\n\n    .dataframe thead th {\n        text-align: right;\n    }\n</style>\n<table border=\"1\" class=\"dataframe\">\n  <thead>\n    <tr style=\"text-align: right;\">\n      <th></th>\n      <th>0</th>\n      <th>1</th>\n      <th>2</th>\n      <th>3</th>\n      <th>4</th>\n      <th>5</th>\n      <th>6</th>\n      <th>7</th>\n      <th>8</th>\n    </tr>\n  </thead>\n  <tbody>\n    <tr>\n      <th>0</th>\n      <td>4</td>\n      <td>5</td>\n      <td>2</td>\n      <td>24</td>\n      <td>1</td>\n      <td>24</td>\n      <td>1</td>\n      <td>0</td>\n      <td>50</td>\n    </tr>\n  </tbody>\n</table>\n</div>"
     },
     "execution_count": 248,
     "metadata": {},
     "output_type": "execute_result"
    }
   ],
   "source": [
    "x = np.array([\n",
    "    [4,5,2,24,1,24,1,0,50]\n",
    "              ])\n",
    "\n",
    "dataframe = pd.DataFrame.from_records(x)\n",
    "dataframe"
   ],
   "metadata": {
    "collapsed": false,
    "pycharm": {
     "name": "#%%\n"
    }
   }
  },
  {
   "cell_type": "code",
   "execution_count": 249,
   "outputs": [
    {
     "ename": "NotFittedError",
     "evalue": "This KNeighborsClassifier instance is not fitted yet. Call 'fit' with appropriate arguments before using this estimator.",
     "output_type": "error",
     "traceback": [
      "\u001B[1;31m---------------------------------------------------------------------------\u001B[0m",
      "\u001B[1;31mNotFittedError\u001B[0m                            Traceback (most recent call last)",
      "Input \u001B[1;32mIn [249]\u001B[0m, in \u001B[0;36m<module>\u001B[1;34m\u001B[0m\n\u001B[0;32m      1\u001B[0m \u001B[38;5;66;03m# get prediction for new input\u001B[39;00m\n\u001B[1;32m----> 2\u001B[0m new_output \u001B[38;5;241m=\u001B[39m \u001B[43mmodel\u001B[49m\u001B[38;5;241;43m.\u001B[39;49m\u001B[43mpredict\u001B[49m\u001B[43m(\u001B[49m\u001B[43mdataframe\u001B[49m\u001B[43m)\u001B[49m\n",
      "File \u001B[1;32mD:\\Data Analysis and Science\\Data Manipulation\\Plataforms\\Python\\Python Base Original\\lib\\site-packages\\sklearn\\neighbors\\_classification.py:214\u001B[0m, in \u001B[0;36mKNeighborsClassifier.predict\u001B[1;34m(self, X)\u001B[0m\n\u001B[0;32m    200\u001B[0m \u001B[38;5;28;01mdef\u001B[39;00m \u001B[38;5;21mpredict\u001B[39m(\u001B[38;5;28mself\u001B[39m, X):\n\u001B[0;32m    201\u001B[0m     \u001B[38;5;124;03m\"\"\"Predict the class labels for the provided data.\u001B[39;00m\n\u001B[0;32m    202\u001B[0m \n\u001B[0;32m    203\u001B[0m \u001B[38;5;124;03m    Parameters\u001B[39;00m\n\u001B[1;32m   (...)\u001B[0m\n\u001B[0;32m    212\u001B[0m \u001B[38;5;124;03m        Class labels for each data sample.\u001B[39;00m\n\u001B[0;32m    213\u001B[0m \u001B[38;5;124;03m    \"\"\"\u001B[39;00m\n\u001B[1;32m--> 214\u001B[0m     neigh_dist, neigh_ind \u001B[38;5;241m=\u001B[39m \u001B[38;5;28;43mself\u001B[39;49m\u001B[38;5;241;43m.\u001B[39;49m\u001B[43mkneighbors\u001B[49m\u001B[43m(\u001B[49m\u001B[43mX\u001B[49m\u001B[43m)\u001B[49m\n\u001B[0;32m    215\u001B[0m     classes_ \u001B[38;5;241m=\u001B[39m \u001B[38;5;28mself\u001B[39m\u001B[38;5;241m.\u001B[39mclasses_\n\u001B[0;32m    216\u001B[0m     _y \u001B[38;5;241m=\u001B[39m \u001B[38;5;28mself\u001B[39m\u001B[38;5;241m.\u001B[39m_y\n",
      "File \u001B[1;32mD:\\Data Analysis and Science\\Data Manipulation\\Plataforms\\Python\\Python Base Original\\lib\\site-packages\\sklearn\\neighbors\\_base.py:700\u001B[0m, in \u001B[0;36mKNeighborsMixin.kneighbors\u001B[1;34m(self, X, n_neighbors, return_distance)\u001B[0m\n\u001B[0;32m    647\u001B[0m \u001B[38;5;28;01mdef\u001B[39;00m \u001B[38;5;21mkneighbors\u001B[39m(\u001B[38;5;28mself\u001B[39m, X\u001B[38;5;241m=\u001B[39m\u001B[38;5;28;01mNone\u001B[39;00m, n_neighbors\u001B[38;5;241m=\u001B[39m\u001B[38;5;28;01mNone\u001B[39;00m, return_distance\u001B[38;5;241m=\u001B[39m\u001B[38;5;28;01mTrue\u001B[39;00m):\n\u001B[0;32m    648\u001B[0m     \u001B[38;5;124;03m\"\"\"Find the K-neighbors of a point.\u001B[39;00m\n\u001B[0;32m    649\u001B[0m \n\u001B[0;32m    650\u001B[0m \u001B[38;5;124;03m    Returns indices of and distances to the neighbors of each point.\u001B[39;00m\n\u001B[1;32m   (...)\u001B[0m\n\u001B[0;32m    698\u001B[0m \u001B[38;5;124;03m           [2]]...)\u001B[39;00m\n\u001B[0;32m    699\u001B[0m \u001B[38;5;124;03m    \"\"\"\u001B[39;00m\n\u001B[1;32m--> 700\u001B[0m     \u001B[43mcheck_is_fitted\u001B[49m\u001B[43m(\u001B[49m\u001B[38;5;28;43mself\u001B[39;49m\u001B[43m)\u001B[49m\n\u001B[0;32m    702\u001B[0m     \u001B[38;5;28;01mif\u001B[39;00m n_neighbors \u001B[38;5;129;01mis\u001B[39;00m \u001B[38;5;28;01mNone\u001B[39;00m:\n\u001B[0;32m    703\u001B[0m         n_neighbors \u001B[38;5;241m=\u001B[39m \u001B[38;5;28mself\u001B[39m\u001B[38;5;241m.\u001B[39mn_neighbors\n",
      "File \u001B[1;32mD:\\Data Analysis and Science\\Data Manipulation\\Plataforms\\Python\\Python Base Original\\lib\\site-packages\\sklearn\\utils\\validation.py:1222\u001B[0m, in \u001B[0;36mcheck_is_fitted\u001B[1;34m(estimator, attributes, msg, all_or_any)\u001B[0m\n\u001B[0;32m   1217\u001B[0m     fitted \u001B[38;5;241m=\u001B[39m [\n\u001B[0;32m   1218\u001B[0m         v \u001B[38;5;28;01mfor\u001B[39;00m v \u001B[38;5;129;01min\u001B[39;00m \u001B[38;5;28mvars\u001B[39m(estimator) \u001B[38;5;28;01mif\u001B[39;00m v\u001B[38;5;241m.\u001B[39mendswith(\u001B[38;5;124m\"\u001B[39m\u001B[38;5;124m_\u001B[39m\u001B[38;5;124m\"\u001B[39m) \u001B[38;5;129;01mand\u001B[39;00m \u001B[38;5;129;01mnot\u001B[39;00m v\u001B[38;5;241m.\u001B[39mstartswith(\u001B[38;5;124m\"\u001B[39m\u001B[38;5;124m__\u001B[39m\u001B[38;5;124m\"\u001B[39m)\n\u001B[0;32m   1219\u001B[0m     ]\n\u001B[0;32m   1221\u001B[0m \u001B[38;5;28;01mif\u001B[39;00m \u001B[38;5;129;01mnot\u001B[39;00m fitted:\n\u001B[1;32m-> 1222\u001B[0m     \u001B[38;5;28;01mraise\u001B[39;00m NotFittedError(msg \u001B[38;5;241m%\u001B[39m {\u001B[38;5;124m\"\u001B[39m\u001B[38;5;124mname\u001B[39m\u001B[38;5;124m\"\u001B[39m: \u001B[38;5;28mtype\u001B[39m(estimator)\u001B[38;5;241m.\u001B[39m\u001B[38;5;18m__name__\u001B[39m})\n",
      "\u001B[1;31mNotFittedError\u001B[0m: This KNeighborsClassifier instance is not fitted yet. Call 'fit' with appropriate arguments before using this estimator."
     ]
    }
   ],
   "source": [
    "# get prediction for new input\n",
    "new_output = model.predict(dataframe)"
   ],
   "metadata": {
    "collapsed": false,
    "pycharm": {
     "name": "#%%\n"
    }
   }
  },
  {
   "cell_type": "markdown",
   "source": [
    "prediction_test = labelencoder.inverse_transform(df_total3)\n",
    "prediction_test"
   ],
   "metadata": {
    "collapsed": false,
    "pycharm": {
     "name": "#%% md\n"
    }
   }
  },
  {
   "cell_type": "code",
   "execution_count": null,
   "outputs": [],
   "source": [
    "print(new_input,new_output)"
   ],
   "metadata": {
    "collapsed": false,
    "pycharm": {
     "name": "#%%\n"
    }
   }
  }
 ],
 "metadata": {
  "kernelspec": {
   "display_name": "Python 3",
   "language": "python",
   "name": "python3"
  },
  "language_info": {
   "codemirror_mode": {
    "name": "ipython",
    "version": 2
   },
   "file_extension": ".py",
   "mimetype": "text/x-python",
   "name": "python",
   "nbconvert_exporter": "python",
   "pygments_lexer": "ipython2",
   "version": "2.7.6"
  }
 },
 "nbformat": 4,
 "nbformat_minor": 0
}